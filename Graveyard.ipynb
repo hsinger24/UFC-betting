{
 "cells": [
  {
   "cell_type": "markdown",
   "metadata": {},
   "source": [
    "# Predicting KO"
   ]
  },
  {
   "cell_type": "code",
   "execution_count": 43,
   "metadata": {},
   "outputs": [],
   "source": [
    "y = data['KO_OVR']\n",
    "x_train, x_test, y_train, y_test = train_test_split(x, y, test_size = 0.2, random_state = 0)\n",
    "\n",
    "# Formatting data\n",
    "x_train = x_train.values\n",
    "y_train = y_train.values.ravel()\n",
    "x_test = x_test.values\n",
    "y_test = y_test.values.ravel()"
   ]
  },
  {
   "cell_type": "markdown",
   "metadata": {},
   "source": [
    "### Setting Baseline"
   ]
  },
  {
   "cell_type": "code",
   "execution_count": 41,
   "metadata": {},
   "outputs": [
    {
     "name": "stdout",
     "output_type": "stream",
     "text": [
      "Always predicting no knockout would yield 62.836185819070906% accuracy\n",
      "Predicting the fighter with the higher SLPM would yield 57.21271393643031% accuracy\n"
     ]
    }
   ],
   "source": [
    "print(f'Always predicting no knockout would yield {100 - data.KO_OVR.mean()*100}% accuracy')\n",
    "\n",
    "df = data.copy()\n",
    "df['Higher_Pct'] = df.slpm_1.apply(lambda x: 1 if x > 0 else 0)\n",
    "df['Result_Tracker'] = df.apply(lambda x: 1 if (x.Higher_Pct == 1) & (x.result == 1)\n",
    "                               else 1 if (x.Higher_Pct == 0) & (x.result == 0)\n",
    "                               else 0, axis = 1)\n",
    "print(f'Predicting the fighter with the higher SLPM would yield {df.Result_Tracker.mean()*100}% accuracy')"
   ]
  },
  {
   "cell_type": "markdown",
   "metadata": {},
   "source": [
    "### Random Forest"
   ]
  },
  {
   "cell_type": "code",
   "execution_count": 44,
   "metadata": {},
   "outputs": [
    {
     "name": "stdout",
     "output_type": "stream",
     "text": [
      "Best parameters are: {'max_depth': 6, 'max_features': 8, 'n_estimators': 15}\n",
      "\n",
      "Accuracy is: 0.524390243902439\n",
      "\n",
      "AUC score is: 0.4155844155844156\n",
      "\n",
      "Classification report:\n",
      "                precision    recall  f1-score   support\n",
      "\n",
      " Lower Ranked       0.58      0.76      0.65        49\n",
      "Higher Ranked       0.33      0.18      0.24        33\n",
      "\n",
      "     accuracy                           0.52        82\n",
      "    macro avg       0.46      0.47      0.45        82\n",
      " weighted avg       0.48      0.52      0.49        82\n",
      "\n"
     ]
    }
   ],
   "source": [
    "# Creating parameter grid\n",
    "n_estimators = [int(x) for x in np.linspace(start = 3, stop = 15, num = 13)]\n",
    "max_features = [int(x) for x in np.linspace(start = 3, stop = 10, num = 8)]\n",
    "max_depth = [int(x) for x in np.linspace(start = 1, stop = 10, num = 10)]\n",
    "param_grid = {\n",
    "    'n_estimators' : n_estimators,\n",
    "    'max_features' : max_features,\n",
    "    'max_depth' : max_depth\n",
    "}\n",
    "\n",
    "# Running ML function\n",
    "rf = grid_search_classifier(RandomForestClassifier(random_state = 0), param_grid)"
   ]
  },
  {
   "cell_type": "markdown",
   "metadata": {},
   "source": [
    "### Gradient Boost"
   ]
  },
  {
   "cell_type": "code",
   "execution_count": 45,
   "metadata": {},
   "outputs": [
    {
     "name": "stdout",
     "output_type": "stream",
     "text": [
      "Best parameters are: {'max_depth': 10, 'max_features': 10, 'n_estimators': 6}\n",
      "\n",
      "Accuracy is: 0.5121951219512195\n",
      "\n",
      "AUC score is: 0.4001236858379716\n",
      "\n",
      "Classification report:\n",
      "                precision    recall  f1-score   support\n",
      "\n",
      " Lower Ranked       0.57      0.76      0.65        49\n",
      "Higher Ranked       0.29      0.15      0.20        33\n",
      "\n",
      "     accuracy                           0.51        82\n",
      "    macro avg       0.43      0.45      0.42        82\n",
      " weighted avg       0.46      0.51      0.47        82\n",
      "\n"
     ]
    }
   ],
   "source": [
    "# Creating parameter grid\n",
    "n_estimators = [int(x) for x in np.linspace(start = 3, stop = 15, num = 13)]\n",
    "max_features = [int(x) for x in np.linspace(start = 3, stop = 10, num = 8)]\n",
    "max_depth = [int(x) for x in np.linspace(start = 1, stop = 10, num = 10)]\n",
    "param_grid = {\n",
    "    'n_estimators' : n_estimators,\n",
    "    'max_features' : max_features,\n",
    "    'max_depth' : max_depth\n",
    "}\n",
    "\n",
    "# Running ML function\n",
    "gb = grid_search_classifier(GradientBoostingClassifier(random_state = 0), param_grid)"
   ]
  },
  {
   "cell_type": "markdown",
   "metadata": {},
   "source": [
    "### Logistic Regression"
   ]
  },
  {
   "cell_type": "code",
   "execution_count": 46,
   "metadata": {},
   "outputs": [
    {
     "name": "stderr",
     "output_type": "stream",
     "text": [
      "/Users/hsinger24/Desktop/Programming/anaconda3/lib/python3.7/site-packages/sklearn/linear_model/_logistic.py:940: ConvergenceWarning: lbfgs failed to converge (status=1):\n",
      "STOP: TOTAL NO. of ITERATIONS REACHED LIMIT.\n",
      "\n",
      "Increase the number of iterations (max_iter) or scale the data as shown in:\n",
      "    https://scikit-learn.org/stable/modules/preprocessing.html\n",
      "Please also refer to the documentation for alternative solver options:\n",
      "    https://scikit-learn.org/stable/modules/linear_model.html#logistic-regression\n",
      "  extra_warning_msg=_LOGISTIC_SOLVER_CONVERGENCE_MSG)\n",
      "/Users/hsinger24/Desktop/Programming/anaconda3/lib/python3.7/site-packages/sklearn/linear_model/_logistic.py:940: ConvergenceWarning: lbfgs failed to converge (status=1):\n",
      "STOP: TOTAL NO. of ITERATIONS REACHED LIMIT.\n",
      "\n",
      "Increase the number of iterations (max_iter) or scale the data as shown in:\n",
      "    https://scikit-learn.org/stable/modules/preprocessing.html\n",
      "Please also refer to the documentation for alternative solver options:\n",
      "    https://scikit-learn.org/stable/modules/linear_model.html#logistic-regression\n",
      "  extra_warning_msg=_LOGISTIC_SOLVER_CONVERGENCE_MSG)\n",
      "/Users/hsinger24/Desktop/Programming/anaconda3/lib/python3.7/site-packages/sklearn/linear_model/_logistic.py:940: ConvergenceWarning: lbfgs failed to converge (status=1):\n",
      "STOP: TOTAL NO. of ITERATIONS REACHED LIMIT.\n",
      "\n",
      "Increase the number of iterations (max_iter) or scale the data as shown in:\n",
      "    https://scikit-learn.org/stable/modules/preprocessing.html\n",
      "Please also refer to the documentation for alternative solver options:\n",
      "    https://scikit-learn.org/stable/modules/linear_model.html#logistic-regression\n",
      "  extra_warning_msg=_LOGISTIC_SOLVER_CONVERGENCE_MSG)\n",
      "/Users/hsinger24/Desktop/Programming/anaconda3/lib/python3.7/site-packages/sklearn/linear_model/_logistic.py:940: ConvergenceWarning: lbfgs failed to converge (status=1):\n",
      "STOP: TOTAL NO. of ITERATIONS REACHED LIMIT.\n",
      "\n",
      "Increase the number of iterations (max_iter) or scale the data as shown in:\n",
      "    https://scikit-learn.org/stable/modules/preprocessing.html\n",
      "Please also refer to the documentation for alternative solver options:\n",
      "    https://scikit-learn.org/stable/modules/linear_model.html#logistic-regression\n",
      "  extra_warning_msg=_LOGISTIC_SOLVER_CONVERGENCE_MSG)\n",
      "/Users/hsinger24/Desktop/Programming/anaconda3/lib/python3.7/site-packages/sklearn/linear_model/_logistic.py:940: ConvergenceWarning: lbfgs failed to converge (status=1):\n",
      "STOP: TOTAL NO. of ITERATIONS REACHED LIMIT.\n",
      "\n",
      "Increase the number of iterations (max_iter) or scale the data as shown in:\n",
      "    https://scikit-learn.org/stable/modules/preprocessing.html\n",
      "Please also refer to the documentation for alternative solver options:\n",
      "    https://scikit-learn.org/stable/modules/linear_model.html#logistic-regression\n",
      "  extra_warning_msg=_LOGISTIC_SOLVER_CONVERGENCE_MSG)\n",
      "/Users/hsinger24/Desktop/Programming/anaconda3/lib/python3.7/site-packages/sklearn/linear_model/_logistic.py:940: ConvergenceWarning: lbfgs failed to converge (status=1):\n",
      "STOP: TOTAL NO. of ITERATIONS REACHED LIMIT.\n",
      "\n",
      "Increase the number of iterations (max_iter) or scale the data as shown in:\n",
      "    https://scikit-learn.org/stable/modules/preprocessing.html\n",
      "Please also refer to the documentation for alternative solver options:\n",
      "    https://scikit-learn.org/stable/modules/linear_model.html#logistic-regression\n",
      "  extra_warning_msg=_LOGISTIC_SOLVER_CONVERGENCE_MSG)\n"
     ]
    },
    {
     "name": "stdout",
     "output_type": "stream",
     "text": [
      "Best parameters are: {'C': 0.1}\n",
      "\n",
      "Accuracy is: 0.5487804878048781\n",
      "\n",
      "AUC score is: 0.45701917130488556\n",
      "\n",
      "Classification report:\n",
      "                precision    recall  f1-score   support\n",
      "\n",
      " Lower Ranked       0.59      0.80      0.68        49\n",
      "Higher Ranked       0.38      0.18      0.24        33\n",
      "\n",
      "     accuracy                           0.55        82\n",
      "    macro avg       0.48      0.49      0.46        82\n",
      " weighted avg       0.50      0.55      0.50        82\n",
      "\n"
     ]
    },
    {
     "name": "stderr",
     "output_type": "stream",
     "text": [
      "/Users/hsinger24/Desktop/Programming/anaconda3/lib/python3.7/site-packages/sklearn/linear_model/_logistic.py:940: ConvergenceWarning: lbfgs failed to converge (status=1):\n",
      "STOP: TOTAL NO. of ITERATIONS REACHED LIMIT.\n",
      "\n",
      "Increase the number of iterations (max_iter) or scale the data as shown in:\n",
      "    https://scikit-learn.org/stable/modules/preprocessing.html\n",
      "Please also refer to the documentation for alternative solver options:\n",
      "    https://scikit-learn.org/stable/modules/linear_model.html#logistic-regression\n",
      "  extra_warning_msg=_LOGISTIC_SOLVER_CONVERGENCE_MSG)\n",
      "/Users/hsinger24/Desktop/Programming/anaconda3/lib/python3.7/site-packages/sklearn/linear_model/_logistic.py:940: ConvergenceWarning: lbfgs failed to converge (status=1):\n",
      "STOP: TOTAL NO. of ITERATIONS REACHED LIMIT.\n",
      "\n",
      "Increase the number of iterations (max_iter) or scale the data as shown in:\n",
      "    https://scikit-learn.org/stable/modules/preprocessing.html\n",
      "Please also refer to the documentation for alternative solver options:\n",
      "    https://scikit-learn.org/stable/modules/linear_model.html#logistic-regression\n",
      "  extra_warning_msg=_LOGISTIC_SOLVER_CONVERGENCE_MSG)\n"
     ]
    }
   ],
   "source": [
    "# Creating parameter grid\n",
    "\n",
    "c = [0.001, 0.01, 0.1, 1, 10, 100]\n",
    "param_grid = {\n",
    "    'C' : c\n",
    "}\n",
    "\n",
    "# Running ML function\n",
    "lr = grid_search_classifier(LogisticRegression(random_state = 0, max_iter = 500), param_grid)"
   ]
  },
  {
   "cell_type": "markdown",
   "metadata": {},
   "source": [
    "### SVM"
   ]
  },
  {
   "cell_type": "code",
   "execution_count": 47,
   "metadata": {},
   "outputs": [
    {
     "name": "stdout",
     "output_type": "stream",
     "text": [
      "Best parameters are: {'C': 10, 'degree': 5, 'kernel': 'poly'}\n",
      "\n",
      "Accuracy is: 0.5609756097560976\n",
      "\n",
      "Classification report:\n",
      "                precision    recall  f1-score   support\n",
      "\n",
      " Lower Ranked       0.59      0.84      0.69        49\n",
      "Higher Ranked       0.38      0.15      0.22        33\n",
      "\n",
      "     accuracy                           0.56        82\n",
      "    macro avg       0.49      0.49      0.46        82\n",
      " weighted avg       0.51      0.56      0.50        82\n",
      "\n"
     ]
    }
   ],
   "source": [
    "# Creating parameter grid\n",
    "\n",
    "kernel = ['rbf', 'poly', 'sigmoid']\n",
    "degree = [int(x) for x in np.linspace(start = 2, stop = 7, num = 5)]\n",
    "c = [0.001, 0.01, 0.1, 1, 10, 100]\n",
    "param_grid = {\n",
    "    'C' : c,\n",
    "    'kernel' : kernel,\n",
    "    'degree' : degree\n",
    "}\n",
    "\n",
    "# Running ML function\n",
    "svm = grid_search_classifier(SVC(random_state = 0), param_grid)"
   ]
  },
  {
   "cell_type": "markdown",
   "metadata": {},
   "source": [
    "# Predicting SUB"
   ]
  },
  {
   "cell_type": "markdown",
   "metadata": {},
   "source": [
    "### Setting Up Data"
   ]
  },
  {
   "cell_type": "code",
   "execution_count": 5,
   "metadata": {},
   "outputs": [],
   "source": [
    "# Unsampling data to get a higher % of submissions\n",
    "\n",
    "sub_data = data[data.SUB_OVR == 1]\n",
    "non_sub_data = data[data.SUB_OVR == 0].sample(sub_data.shape[0])\n",
    "data_sub = pd.concat([sub_data, non_sub_data])\n",
    "\n",
    "# Splitting data for training\n",
    "y_col = ['SUB_OVR']\n",
    "x, y = data_sub[x_cols], data_sub[y_col]\n",
    "x_train, x_test, y_train, y_test = train_test_split(x, y, test_size = 0.2, random_state = 0)\n",
    "\n",
    "# Formatting data\n",
    "x_train = x_train.values\n",
    "y_train = y_train.values.ravel()\n",
    "x_test = x_test.values\n",
    "y_test = y_test.values.ravel()"
   ]
  },
  {
   "cell_type": "markdown",
   "metadata": {},
   "source": [
    "### Setting Baseline"
   ]
  },
  {
   "cell_type": "code",
   "execution_count": 7,
   "metadata": {},
   "outputs": [
    {
     "name": "stdout",
     "output_type": "stream",
     "text": [
      "Always predicting no sub would yield 80.73593073593074% accuracy\n"
     ]
    }
   ],
   "source": [
    "print(f'Always predicting no sub would yield {100 - data.SUB_OVR.mean()*100}% accuracy')"
   ]
  },
  {
   "cell_type": "markdown",
   "metadata": {},
   "source": [
    "### Random Forest"
   ]
  },
  {
   "cell_type": "code",
   "execution_count": 8,
   "metadata": {},
   "outputs": [
    {
     "name": "stdout",
     "output_type": "stream",
     "text": [
      "Best parameters are: {'max_depth': 6, 'max_features': 4, 'n_estimators': 13}\n",
      "\n",
      "Accuracy is: 0.5\n",
      "\n",
      "AUC score is: 0.40625\n",
      "\n",
      "Classification report:\n",
      "                precision    recall  f1-score   support\n",
      "\n",
      " Lower Ranked       0.46      0.75      0.57        16\n",
      "Higher Ranked       0.60      0.30      0.40        20\n",
      "\n",
      "     accuracy                           0.50        36\n",
      "    macro avg       0.53      0.53      0.49        36\n",
      " weighted avg       0.54      0.50      0.48        36\n",
      "\n"
     ]
    }
   ],
   "source": [
    "# Creating parameter grid\n",
    "n_estimators = [int(x) for x in np.linspace(start = 3, stop = 15, num = 13)]\n",
    "max_features = [int(x) for x in np.linspace(start = 3, stop = 10, num = 8)]\n",
    "max_depth = [int(x) for x in np.linspace(start = 1, stop = 10, num = 10)]\n",
    "param_grid = {\n",
    "    'n_estimators' : n_estimators,\n",
    "    'max_features' : max_features,\n",
    "    'max_depth' : max_depth\n",
    "}\n",
    "\n",
    "# Running ML function\n",
    "rf = grid_search_classifier(RandomForestClassifier(random_state = 0), param_grid)"
   ]
  },
  {
   "cell_type": "markdown",
   "metadata": {},
   "source": [
    "### Gradient Boost"
   ]
  },
  {
   "cell_type": "code",
   "execution_count": 9,
   "metadata": {},
   "outputs": [
    {
     "name": "stdout",
     "output_type": "stream",
     "text": [
      "Best parameters are: {'max_depth': 2, 'max_features': 3, 'n_estimators': 4}\n",
      "\n",
      "Accuracy is: 0.4444444444444444\n",
      "\n",
      "AUC score is: 0.45625\n",
      "\n",
      "Classification report:\n",
      "                precision    recall  f1-score   support\n",
      "\n",
      " Lower Ranked       0.42      0.69      0.52        16\n",
      "Higher Ranked       0.50      0.25      0.33        20\n",
      "\n",
      "     accuracy                           0.44        36\n",
      "    macro avg       0.46      0.47      0.43        36\n",
      " weighted avg       0.47      0.44      0.42        36\n",
      "\n"
     ]
    }
   ],
   "source": [
    "# Creating parameter grid\n",
    "n_estimators = [int(x) for x in np.linspace(start = 3, stop = 15, num = 13)]\n",
    "max_features = [int(x) for x in np.linspace(start = 3, stop = 10, num = 8)]\n",
    "max_depth = [int(x) for x in np.linspace(start = 1, stop = 10, num = 10)]\n",
    "param_grid = {\n",
    "    'n_estimators' : n_estimators,\n",
    "    'max_features' : max_features,\n",
    "    'max_depth' : max_depth\n",
    "}\n",
    "\n",
    "# Running ML function\n",
    "gb = grid_search_classifier(GradientBoostingClassifier(random_state = 0), param_grid)"
   ]
  },
  {
   "cell_type": "markdown",
   "metadata": {},
   "source": [
    "### Logistic Regression"
   ]
  },
  {
   "cell_type": "code",
   "execution_count": 10,
   "metadata": {},
   "outputs": [
    {
     "name": "stderr",
     "output_type": "stream",
     "text": [
      "/Users/hsinger24/Desktop/Programming/anaconda3/lib/python3.7/site-packages/sklearn/linear_model/_logistic.py:940: ConvergenceWarning: lbfgs failed to converge (status=1):\n",
      "STOP: TOTAL NO. of ITERATIONS REACHED LIMIT.\n",
      "\n",
      "Increase the number of iterations (max_iter) or scale the data as shown in:\n",
      "    https://scikit-learn.org/stable/modules/preprocessing.html\n",
      "Please also refer to the documentation for alternative solver options:\n",
      "    https://scikit-learn.org/stable/modules/linear_model.html#logistic-regression\n",
      "  extra_warning_msg=_LOGISTIC_SOLVER_CONVERGENCE_MSG)\n",
      "/Users/hsinger24/Desktop/Programming/anaconda3/lib/python3.7/site-packages/sklearn/linear_model/_logistic.py:940: ConvergenceWarning: lbfgs failed to converge (status=1):\n",
      "STOP: TOTAL NO. of ITERATIONS REACHED LIMIT.\n",
      "\n",
      "Increase the number of iterations (max_iter) or scale the data as shown in:\n",
      "    https://scikit-learn.org/stable/modules/preprocessing.html\n",
      "Please also refer to the documentation for alternative solver options:\n",
      "    https://scikit-learn.org/stable/modules/linear_model.html#logistic-regression\n",
      "  extra_warning_msg=_LOGISTIC_SOLVER_CONVERGENCE_MSG)\n",
      "/Users/hsinger24/Desktop/Programming/anaconda3/lib/python3.7/site-packages/sklearn/linear_model/_logistic.py:940: ConvergenceWarning: lbfgs failed to converge (status=1):\n",
      "STOP: TOTAL NO. of ITERATIONS REACHED LIMIT.\n",
      "\n",
      "Increase the number of iterations (max_iter) or scale the data as shown in:\n",
      "    https://scikit-learn.org/stable/modules/preprocessing.html\n",
      "Please also refer to the documentation for alternative solver options:\n",
      "    https://scikit-learn.org/stable/modules/linear_model.html#logistic-regression\n",
      "  extra_warning_msg=_LOGISTIC_SOLVER_CONVERGENCE_MSG)\n",
      "/Users/hsinger24/Desktop/Programming/anaconda3/lib/python3.7/site-packages/sklearn/linear_model/_logistic.py:940: ConvergenceWarning: lbfgs failed to converge (status=1):\n",
      "STOP: TOTAL NO. of ITERATIONS REACHED LIMIT.\n",
      "\n",
      "Increase the number of iterations (max_iter) or scale the data as shown in:\n",
      "    https://scikit-learn.org/stable/modules/preprocessing.html\n",
      "Please also refer to the documentation for alternative solver options:\n",
      "    https://scikit-learn.org/stable/modules/linear_model.html#logistic-regression\n",
      "  extra_warning_msg=_LOGISTIC_SOLVER_CONVERGENCE_MSG)\n",
      "/Users/hsinger24/Desktop/Programming/anaconda3/lib/python3.7/site-packages/sklearn/linear_model/_logistic.py:940: ConvergenceWarning: lbfgs failed to converge (status=1):\n",
      "STOP: TOTAL NO. of ITERATIONS REACHED LIMIT.\n",
      "\n",
      "Increase the number of iterations (max_iter) or scale the data as shown in:\n",
      "    https://scikit-learn.org/stable/modules/preprocessing.html\n",
      "Please also refer to the documentation for alternative solver options:\n",
      "    https://scikit-learn.org/stable/modules/linear_model.html#logistic-regression\n",
      "  extra_warning_msg=_LOGISTIC_SOLVER_CONVERGENCE_MSG)\n",
      "/Users/hsinger24/Desktop/Programming/anaconda3/lib/python3.7/site-packages/sklearn/linear_model/_logistic.py:940: ConvergenceWarning: lbfgs failed to converge (status=1):\n",
      "STOP: TOTAL NO. of ITERATIONS REACHED LIMIT.\n",
      "\n",
      "Increase the number of iterations (max_iter) or scale the data as shown in:\n",
      "    https://scikit-learn.org/stable/modules/preprocessing.html\n",
      "Please also refer to the documentation for alternative solver options:\n",
      "    https://scikit-learn.org/stable/modules/linear_model.html#logistic-regression\n",
      "  extra_warning_msg=_LOGISTIC_SOLVER_CONVERGENCE_MSG)\n",
      "/Users/hsinger24/Desktop/Programming/anaconda3/lib/python3.7/site-packages/sklearn/linear_model/_logistic.py:940: ConvergenceWarning: lbfgs failed to converge (status=1):\n",
      "STOP: TOTAL NO. of ITERATIONS REACHED LIMIT.\n",
      "\n",
      "Increase the number of iterations (max_iter) or scale the data as shown in:\n",
      "    https://scikit-learn.org/stable/modules/preprocessing.html\n",
      "Please also refer to the documentation for alternative solver options:\n",
      "    https://scikit-learn.org/stable/modules/linear_model.html#logistic-regression\n",
      "  extra_warning_msg=_LOGISTIC_SOLVER_CONVERGENCE_MSG)\n"
     ]
    },
    {
     "name": "stdout",
     "output_type": "stream",
     "text": [
      "Best parameters are: {'C': 10}\n",
      "\n",
      "Accuracy is: 0.4166666666666667\n",
      "\n",
      "AUC score is: 0.409375\n",
      "\n",
      "Classification report:\n",
      "                precision    recall  f1-score   support\n",
      "\n",
      " Lower Ranked       0.38      0.50      0.43        16\n",
      "Higher Ranked       0.47      0.35      0.40        20\n",
      "\n",
      "     accuracy                           0.42        36\n",
      "    macro avg       0.42      0.42      0.42        36\n",
      " weighted avg       0.43      0.42      0.41        36\n",
      "\n"
     ]
    },
    {
     "name": "stderr",
     "output_type": "stream",
     "text": [
      "/Users/hsinger24/Desktop/Programming/anaconda3/lib/python3.7/site-packages/sklearn/linear_model/_logistic.py:940: ConvergenceWarning: lbfgs failed to converge (status=1):\n",
      "STOP: TOTAL NO. of ITERATIONS REACHED LIMIT.\n",
      "\n",
      "Increase the number of iterations (max_iter) or scale the data as shown in:\n",
      "    https://scikit-learn.org/stable/modules/preprocessing.html\n",
      "Please also refer to the documentation for alternative solver options:\n",
      "    https://scikit-learn.org/stable/modules/linear_model.html#logistic-regression\n",
      "  extra_warning_msg=_LOGISTIC_SOLVER_CONVERGENCE_MSG)\n",
      "/Users/hsinger24/Desktop/Programming/anaconda3/lib/python3.7/site-packages/sklearn/linear_model/_logistic.py:940: ConvergenceWarning: lbfgs failed to converge (status=1):\n",
      "STOP: TOTAL NO. of ITERATIONS REACHED LIMIT.\n",
      "\n",
      "Increase the number of iterations (max_iter) or scale the data as shown in:\n",
      "    https://scikit-learn.org/stable/modules/preprocessing.html\n",
      "Please also refer to the documentation for alternative solver options:\n",
      "    https://scikit-learn.org/stable/modules/linear_model.html#logistic-regression\n",
      "  extra_warning_msg=_LOGISTIC_SOLVER_CONVERGENCE_MSG)\n"
     ]
    }
   ],
   "source": [
    "# Creating parameter grid\n",
    "\n",
    "c = [0.001, 0.01, 0.1, 1, 10, 100]\n",
    "param_grid = {\n",
    "    'C' : c\n",
    "}\n",
    "\n",
    "# Running ML function\n",
    "lr = grid_search_classifier(LogisticRegression(random_state = 0, max_iter = 500), param_grid)"
   ]
  },
  {
   "cell_type": "markdown",
   "metadata": {},
   "source": [
    "### SVM"
   ]
  },
  {
   "cell_type": "code",
   "execution_count": 11,
   "metadata": {},
   "outputs": [
    {
     "name": "stdout",
     "output_type": "stream",
     "text": [
      "Best parameters are: {'C': 10, 'degree': 5, 'kernel': 'poly'}\n",
      "\n",
      "Accuracy is: 0.5833333333333334\n",
      "\n",
      "Classification report:\n",
      "                precision    recall  f1-score   support\n",
      "\n",
      " Lower Ranked       0.54      0.44      0.48        16\n",
      "Higher Ranked       0.61      0.70      0.65        20\n",
      "\n",
      "     accuracy                           0.58        36\n",
      "    macro avg       0.57      0.57      0.57        36\n",
      " weighted avg       0.58      0.58      0.58        36\n",
      "\n"
     ]
    }
   ],
   "source": [
    "# Creating parameter grid\n",
    "\n",
    "kernel = ['rbf', 'poly', 'sigmoid']\n",
    "degree = [int(x) for x in np.linspace(start = 2, stop = 7, num = 5)]\n",
    "c = [0.001, 0.01, 0.1, 1, 10, 100]\n",
    "param_grid = {\n",
    "    'C' : c,\n",
    "    'kernel' : kernel,\n",
    "    'degree' : degree\n",
    "}\n",
    "\n",
    "# Running ML function\n",
    "svm = grid_search_classifier(SVC(random_state = 0), param_grid)"
   ]
  },
  {
   "cell_type": "code",
   "execution_count": null,
   "metadata": {},
   "outputs": [],
   "source": [
    "# Predicting KO\n",
    "\n",
    "y = data['KO_OVR']\n",
    "x_train, x_test, y_train, y_test = train_test_split(x, y, test_size = 0.2, random_state = 0)\n",
    "\n",
    "# Formatting data\n",
    "x_train = x_train.values\n",
    "y_train = y_train.values.ravel()\n",
    "x_test = x_test.values\n",
    "y_test = y_test.values.ravel()\n",
    "\n",
    "### Setting Baseline\n",
    "\n",
    "print(f'Always predicting no knockout would yield {100 - data.KO_OVR.mean()*100}% accuracy')\n",
    "\n",
    "df = data.copy()\n",
    "df['Higher_Pct'] = df.slpm_1.apply(lambda x: 1 if x > 0 else 0)\n",
    "df['Result_Tracker'] = df.apply(lambda x: 1 if (x.Higher_Pct == 1) & (x.result == 1)\n",
    "                               else 1 if (x.Higher_Pct == 0) & (x.result == 0)\n",
    "                               else 0, axis = 1)\n",
    "print(f'Predicting the fighter with the higher SLPM would yield {df.Result_Tracker.mean()*100}% accuracy')\n",
    "\n",
    "### Random Forest\n",
    "\n",
    "# Creating parameter grid\n",
    "n_estimators = [int(x) for x in np.linspace(start = 3, stop = 15, num = 13)]\n",
    "max_features = [int(x) for x in np.linspace(start = 3, stop = 10, num = 8)]\n",
    "max_depth = [int(x) for x in np.linspace(start = 1, stop = 10, num = 10)]\n",
    "param_grid = {\n",
    "    'n_estimators' : n_estimators,\n",
    "    'max_features' : max_features,\n",
    "    'max_depth' : max_depth\n",
    "}\n",
    "\n",
    "# Running ML function\n",
    "rf = grid_search_classifier(RandomForestClassifier(random_state = 0), param_grid)\n",
    "\n",
    "### Gradient Boost\n",
    "\n",
    "# Creating parameter grid\n",
    "n_estimators = [int(x) for x in np.linspace(start = 3, stop = 15, num = 13)]\n",
    "max_features = [int(x) for x in np.linspace(start = 3, stop = 10, num = 8)]\n",
    "max_depth = [int(x) for x in np.linspace(start = 1, stop = 10, num = 10)]\n",
    "param_grid = {\n",
    "    'n_estimators' : n_estimators,\n",
    "    'max_features' : max_features,\n",
    "    'max_depth' : max_depth\n",
    "}\n",
    "\n",
    "# Running ML function\n",
    "gb = grid_search_classifier(GradientBoostingClassifier(random_state = 0), param_grid)\n",
    "\n",
    "### Logistic Regression\n",
    "\n",
    "# Creating parameter grid\n",
    "\n",
    "c = [0.001, 0.01, 0.1, 1, 10, 100]\n",
    "param_grid = {\n",
    "    'C' : c\n",
    "}\n",
    "\n",
    "# Running ML function\n",
    "lr = grid_search_classifier(LogisticRegression(random_state = 0, max_iter = 500), param_grid)\n",
    "\n",
    "### SVM\n",
    "\n",
    "# Creating parameter grid\n",
    "\n",
    "kernel = ['rbf', 'poly', 'sigmoid']\n",
    "degree = [int(x) for x in np.linspace(start = 2, stop = 7, num = 5)]\n",
    "c = [0.001, 0.01, 0.1, 1, 10, 100]\n",
    "param_grid = {\n",
    "    'C' : c,\n",
    "    'kernel' : kernel,\n",
    "    'degree' : degree\n",
    "}\n",
    "\n",
    "# Running ML function\n",
    "svm = grid_search_classifier(SVC(random_state = 0), param_grid)\n",
    "\n",
    "# Predicting SUB\n",
    "\n",
    "### Setting Up Data\n",
    "\n",
    "# Unsampling data to get a higher % of submissions\n",
    "\n",
    "sub_data = data[data.SUB_OVR == 1]\n",
    "non_sub_data = data[data.SUB_OVR == 0].sample(sub_data.shape[0])\n",
    "data_sub = pd.concat([sub_data, non_sub_data])\n",
    "\n",
    "# Splitting data for training\n",
    "y_col = ['SUB_OVR']\n",
    "x, y = data_sub[x_cols], data_sub[y_col]\n",
    "x_train, x_test, y_train, y_test = train_test_split(x, y, test_size = 0.2, random_state = 0)\n",
    "\n",
    "# Formatting data\n",
    "x_train = x_train.values\n",
    "y_train = y_train.values.ravel()\n",
    "x_test = x_test.values\n",
    "y_test = y_test.values.ravel()\n",
    "\n",
    "### Setting Baseline\n",
    "\n",
    "print(f'Always predicting no sub would yield {100 - data.SUB_OVR.mean()*100}% accuracy')\n",
    "\n",
    "### Random Forest\n",
    "\n",
    "# Creating parameter grid\n",
    "n_estimators = [int(x) for x in np.linspace(start = 3, stop = 15, num = 13)]\n",
    "max_features = [int(x) for x in np.linspace(start = 3, stop = 10, num = 8)]\n",
    "max_depth = [int(x) for x in np.linspace(start = 1, stop = 10, num = 10)]\n",
    "param_grid = {\n",
    "    'n_estimators' : n_estimators,\n",
    "    'max_features' : max_features,\n",
    "    'max_depth' : max_depth\n",
    "}\n",
    "\n",
    "# Running ML function\n",
    "rf = grid_search_classifier(RandomForestClassifier(random_state = 0), param_grid)\n",
    "\n",
    "### Gradient Boost\n",
    "\n",
    "# Creating parameter grid\n",
    "n_estimators = [int(x) for x in np.linspace(start = 3, stop = 15, num = 13)]\n",
    "max_features = [int(x) for x in np.linspace(start = 3, stop = 10, num = 8)]\n",
    "max_depth = [int(x) for x in np.linspace(start = 1, stop = 10, num = 10)]\n",
    "param_grid = {\n",
    "    'n_estimators' : n_estimators,\n",
    "    'max_features' : max_features,\n",
    "    'max_depth' : max_depth\n",
    "}\n",
    "\n",
    "# Running ML function\n",
    "gb = grid_search_classifier(GradientBoostingClassifier(random_state = 0), param_grid)\n",
    "\n",
    "### Logistic Regression\n",
    "\n",
    "# Creating parameter grid\n",
    "\n",
    "c = [0.001, 0.01, 0.1, 1, 10, 100]\n",
    "param_grid = {\n",
    "    'C' : c\n",
    "}\n",
    "\n",
    "# Running ML function\n",
    "lr = grid_search_classifier(LogisticRegression(random_state = 0, max_iter = 500), param_grid)\n",
    "\n",
    "### SVM\n",
    "\n",
    "# Creating parameter grid\n",
    "\n",
    "kernel = ['rbf', 'poly', 'sigmoid']\n",
    "degree = [int(x) for x in np.linspace(start = 2, stop = 7, num = 5)]\n",
    "c = [0.001, 0.01, 0.1, 1, 10, 100]\n",
    "param_grid = {\n",
    "    'C' : c,\n",
    "    'kernel' : kernel,\n",
    "    'degree' : degree\n",
    "}\n",
    "\n",
    "# Running ML function\n",
    "svm = grid_search_classifier(SVC(random_state = 0), param_grid)"
   ]
  }
 ],
 "metadata": {
  "kernelspec": {
   "display_name": "Python 3",
   "language": "python",
   "name": "python3"
  },
  "language_info": {
   "codemirror_mode": {
    "name": "ipython",
    "version": 3
   },
   "file_extension": ".py",
   "mimetype": "text/x-python",
   "name": "python",
   "nbconvert_exporter": "python",
   "pygments_lexer": "ipython3",
   "version": "3.7.6"
  }
 },
 "nbformat": 4,
 "nbformat_minor": 4
}
