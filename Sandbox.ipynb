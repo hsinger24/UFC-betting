{
 "cells": [
  {
   "cell_type": "markdown",
   "metadata": {},
   "source": [
    "# Setting Up Environment"
   ]
  },
  {
   "cell_type": "code",
   "execution_count": 1,
   "metadata": {},
   "outputs": [
    {
     "name": "stderr",
     "output_type": "stream",
     "text": [
      "/Users/hsinger24/Desktop/Programming/anaconda3/lib/python3.7/site-packages/fuzzywuzzy/fuzz.py:11: UserWarning: Using slow pure-python SequenceMatcher. Install python-Levenshtein to remove this warning\n",
      "  warnings.warn('Using slow pure-python SequenceMatcher. Install python-Levenshtein to remove this warning')\n"
     ]
    }
   ],
   "source": [
    "from selenium import webdriver\n",
    "from selenium.webdriver.common.keys import Keys\n",
    "from selenium.webdriver.chrome.options import Options\n",
    "from selenium.webdriver.common.by import By\n",
    "from selenium.webdriver.support import expected_conditions as EC\n",
    "from selenium.webdriver.support.ui import WebDriverWait\n",
    "from selenium.webdriver.support.ui import Select\n",
    "import time\n",
    "import pandas as pd\n",
    "import re\n",
    "from bs4 import BeautifulSoup\n",
    "import datetime as dt\n",
    "from webdriver_manager.chrome import ChromeDriverManager\n",
    "from fuzzywuzzy import fuzz"
   ]
  },
  {
   "cell_type": "code",
   "execution_count": 4,
   "metadata": {},
   "outputs": [],
   "source": [
    "# data = pd.read_csv('mma_data.csv', index_col=0)\n",
    "# data = data[data.result > -1]\n",
    "\n",
    "# if 'Fighter_1_Odds' not in list(data.columns):\n",
    "#     data['Fighter_1_Odds'] = 0\n",
    "#     data['Fighter_2_Odds'] = 0\n",
    "\n",
    "data = pd.read_csv('mma_data_odds.csv', index_col = 0)"
   ]
  },
  {
   "cell_type": "markdown",
   "metadata": {},
   "source": [
    "# Filling In Odds"
   ]
  },
  {
   "cell_type": "code",
   "execution_count": 16,
   "metadata": {},
   "outputs": [],
   "source": [
    "options = Options()\n",
    "options.add_argument('--no-sandbox')\n",
    "options.add_argument(\"user-data-dir=/Users/hsinger24/Library/Application Support/Google/Chrome/Default1\")\n",
    "options.add_argument(\"--start-maximized\")\n",
    "options.add_argument('--disable-web-security')\n",
    "options.add_argument('--allow-running-insecure-content')\n",
    "options.add_argument(\"--disable-setuid-sandbox\")\n",
    "driver = webdriver.Chrome(ChromeDriverManager().install())\n",
    "driver.get('https://www.bestfightodds.com/archive')\n",
    "time.sleep(1)\n",
    "\n",
    "for index, row in data.iterrows():\n",
    "    \n",
    "    try:\n",
    "    \n",
    "        if row.Fighter_1_Odds == 0:\n",
    "            # Formatting name of higher ranked fighter\n",
    "            fighter_1 = str(row.fighter_1)\n",
    "            fighter_1 = re.findall('[A-Z][^A-Z]*', fighter_1)    \n",
    "            fighter_name = ''\n",
    "            for name in fighter_1:\n",
    "                fighter_name = fighter_name + ' ' + name\n",
    "\n",
    "            # Formatting name of lower ranked fighter\n",
    "            fighter_2 = str(row.fighter_2)\n",
    "            fighter_2 = re.findall('[A-Z][^A-Z]*', fighter_2)    \n",
    "            fighter_name_2 = ''\n",
    "            for name in fighter_2:\n",
    "                fighter_name_2 = fighter_name_2 + ' ' + name\n",
    "\n",
    "            # Searching for fights w/ higher ranked fighter\n",
    "            search_bar = driver.find_elements(By.XPATH, '//*[@id=\"page-content\"]/form/p/input[1]')[0]\n",
    "            search_bar.send_keys(fighter_name)\n",
    "            driver.find_elements(By.XPATH, '//*[@id=\"page-content\"]/form/p/input[2]')[0].click()\n",
    "\n",
    "            # Clicking on fighter 1 \n",
    "            try:\n",
    "                driver.find_elements(By.XPATH, '//*[@id=\"page-content\"]/table[1]/tbody/tr[1]/td[2]/a')[0].click()\n",
    "                time.sleep(1)\n",
    "            except:\n",
    "                pass\n",
    "\n",
    "            # Getting odds\n",
    "            html = driver.page_source\n",
    "            table = pd.read_html(html)[0]\n",
    "            table = table[['Matchup', 'Closing range']]\n",
    "            table['Fuzzy_1'] = table.Matchup.apply(lambda x: fuzz.ratio(x, fighter_name))\n",
    "            table['Fuzzy_2'] = table.Matchup.apply(lambda x: fuzz.ratio(x, fighter_name_2))\n",
    "            table = table[(table.Fuzzy_2 > 50) | (table.Fuzzy_1 > 50)].reset_index(drop = True)\n",
    "            index_opp = table[table.Fuzzy_2 > 50].index[0]\n",
    "            table_matchup = table.loc[index_opp-1:index_opp, :].reset_index(drop = True)\n",
    "\n",
    "            # Filling odds\n",
    "            data.loc[index, 'Fighter_1_Odds'] = table_matchup.loc[0, 'Closing range']\n",
    "            data.loc[index, 'Fighter_2_Odds'] = table_matchup.loc[1, 'Closing range']\n",
    "\n",
    "            # Navigating back and clearing text box\n",
    "            driver.back()\n",
    "            driver.implicitly_wait(10)\n",
    "            driver.back()\n",
    "            driver.implicitly_wait(10)\n",
    "            driver.find_elements(By.XPATH, '//*[@id=\"page-content\"]/form/p/input[1]')[0].clear()\n",
    "\n",
    "        else:\n",
    "            pass\n",
    "    \n",
    "    except:\n",
    "        \n",
    "        driver.quit()\n",
    "        time.sleep(1)\n",
    "        options = Options()\n",
    "        options.add_argument('--no-sandbox')\n",
    "        options.add_argument(\"user-data-dir=/Users/hsinger24/Library/Application Support/Google/Chrome/Default1\")\n",
    "        options.add_argument(\"--start-maximized\")\n",
    "        options.add_argument('--disable-web-security')\n",
    "        options.add_argument('--allow-running-insecure-content')\n",
    "        options.add_argument(\"--disable-setuid-sandbox\")\n",
    "        driver = webdriver.Chrome(ChromeDriverManager().install())\n",
    "        driver.get('https://www.bestfightodds.com/archive')\n",
    "\n",
    "data = data[data.Fighter_1_Odds != 0]"
   ]
  },
  {
   "cell_type": "code",
   "execution_count": 20,
   "metadata": {},
   "outputs": [],
   "source": [
    "data.to_csv('mma_data_odds.csv')"
   ]
  },
  {
   "cell_type": "markdown",
   "metadata": {},
   "source": [
    "# Testing Models"
   ]
  },
  {
   "cell_type": "code",
   "execution_count": null,
   "metadata": {},
   "outputs": [],
   "source": []
  }
 ],
 "metadata": {
  "kernelspec": {
   "display_name": "Python 3",
   "language": "python",
   "name": "python3"
  },
  "language_info": {
   "codemirror_mode": {
    "name": "ipython",
    "version": 3
   },
   "file_extension": ".py",
   "mimetype": "text/x-python",
   "name": "python",
   "nbconvert_exporter": "python",
   "pygments_lexer": "ipython3",
   "version": "3.7.6"
  }
 },
 "nbformat": 4,
 "nbformat_minor": 4
}
