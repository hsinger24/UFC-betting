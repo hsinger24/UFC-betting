{
 "cells": [
  {
   "cell_type": "markdown",
   "metadata": {},
   "source": [
    "# Setting Up Environment"
   ]
  },
  {
   "cell_type": "code",
   "execution_count": 3,
   "metadata": {},
   "outputs": [
    {
     "name": "stderr",
     "output_type": "stream",
     "text": [
      "/opt/anaconda3/lib/python3.9/site-packages/fuzzywuzzy/fuzz.py:11: UserWarning: Using slow pure-python SequenceMatcher. Install python-Levenshtein to remove this warning\n",
      "  warnings.warn('Using slow pure-python SequenceMatcher. Install python-Levenshtein to remove this warning')\n"
     ]
    }
   ],
   "source": [
    "import time\n",
    "import pandas as pd\n",
    "import re\n",
    "from fuzzywuzzy import fuzz\n",
    "from bs4 import BeautifulSoup\n",
    "import datetime as dt\n",
    "import numpy as np\n",
    "\n",
    "import email, smtplib, ssl\n",
    "from email import encoders\n",
    "from email.mime.base import MIMEBase\n",
    "from email.mime.multipart import MIMEMultipart\n",
    "from email.mime.text import MIMEText"
   ]
  },
  {
   "cell_type": "code",
   "execution_count": 15,
   "metadata": {},
   "outputs": [],
   "source": [
    "def calculate_best_bet_construct():\n",
    "    \n",
    "    # Internal functions\n",
    "\n",
    "    def calculate_odds_internal(odds):\n",
    "        if odds<0:\n",
    "            return (abs(odds)/(abs(odds)+100))\n",
    "        if odds>0:\n",
    "            return (100/(odds+100))\n",
    "    def calculate_bets_internal(row, diff):\n",
    "        bet = 0\n",
    "        \n",
    "        if row.Prediction_GB_Winner - calculate_odds_internal(row.Fighter_1_Odds) >= diff:\n",
    "            bet = 100\n",
    "        if (1.0 - row.Prediction_GB_Winner) - calculate_odds_internal(row.Fighter_2_Odds) >= diff:\n",
    "            bet = 100\n",
    "        \n",
    "        return bet\n",
    "    def calculate_payoff_and_result_internal(row):\n",
    "        if row.Bet > 0:\n",
    "            # Calculating Payoff\n",
    "            if row.Predicted_Result_GB == 1:\n",
    "                if row.Fighter_1_Odds>0:\n",
    "                    payoff = (row.Fighter_1_Odds/100)*row.Bet\n",
    "                else:\n",
    "                    payoff = row.Bet/((abs(row.Fighter_1_Odds)/100))\n",
    "            else:\n",
    "                if row.Fighter_2_Odds>0:\n",
    "                    payoff = (row.Fighter_2_Odds/100)*row.Bet\n",
    "                else:\n",
    "                    payoff = row.Bet/((abs(row.Fighter_2_Odds)/100))\n",
    "            # Calculating Bet Result\n",
    "            if row.Predicted_Result_GB == row.result_y:\n",
    "                bet_result = payoff\n",
    "            else:\n",
    "                bet_result = -(row.Bet)\n",
    "        else:\n",
    "            bet_result = 0\n",
    "        return bet_result\n",
    "\n",
    "    # Setting up data \n",
    "\n",
    "    # Joining predictions to table w/ results and getting result\n",
    "    predictions = pd.read_csv('mma_data_predictions.csv', index_col = 0)\n",
    "    data = pd.read_csv('mma_data.csv', index_col = 0)\n",
    "    data = data[data.result >= 0]\n",
    "    results_data = data[['fighter_1', 'fighter_2', 'result', 'KO_OVR', 'SUB_OVR']]\n",
    "    odds_data = pd.read_csv('mma_data_odds.csv', index_col = 0)\n",
    "    merged = predictions.merge(results_data, on = ['fighter_1', 'fighter_2'])\n",
    "    # Winner results\n",
    "    merged['Predicted_Result_RF'] = merged.Prediction_RF_Winner.apply(lambda x: 1 if x > 0.5 else 0)\n",
    "    merged['Predicted_Result_GB'] = merged.Prediction_GB_Winner.apply(lambda x: 1 if x > 0.5 else 0)\n",
    "    merged['Accurate_RF'] = merged.apply(lambda x: 1 if x.result_y == x.Predicted_Result_RF else 0, axis = 1)\n",
    "    merged['Accurate_GB'] = merged.apply(lambda x: 1 if x.result_y == x.Predicted_Result_GB else 0, axis = 1)\n",
    "    # Sub results\n",
    "    merged['Predicted_Sub_RF'] = merged.Prediction_RF_SUB.apply(lambda x: 1 if x > 0.5 else 0)\n",
    "    merged['Predicted_Sub_GB'] = merged.Prediction_GB_SUB.apply(lambda x: 1 if x > 0.5 else 0)\n",
    "    merged['Accurate_RF_SUB'] = merged.apply(lambda x: 1 if x.SUB_OVR_y == x.Predicted_Sub_RF else 0, axis = 1)\n",
    "    merged['Accurate_GB_SUB'] = merged.apply(lambda x: 1 if x.SUB_OVR_y == x.Predicted_Sub_GB else 0, axis = 1)\n",
    "    # KO Results\n",
    "    merged['Predicted_KO_RF'] = merged.Prediction_RF_KO.apply(lambda x: 1 if x > 0.5 else 0)\n",
    "    merged['Predicted_KO_GB'] = merged.Prediction_GB_KO.apply(lambda x: 1 if x > 0.5 else 0)\n",
    "    merged['Accurate_RF_KO'] = merged.apply(lambda x: 1 if x.KO_OVR_y == x.Predicted_KO_RF else 0, axis = 1)\n",
    "    merged['Accurate_GB_KO'] = merged.apply(lambda x: 1 if x.KO_OVR_y == x.Predicted_KO_GB else 0, axis = 1)\n",
    "    # Getting all the relevant data in one place for bet constructs\n",
    "    odds_data = odds_data[['fighter_1', 'fighter_2', 'Fighter_1_Odds', 'Fighter_2_Odds']]\n",
    "    profit_df = merged.merge(odds_data, on = ['fighter_1', 'fighter_2'])\n",
    "    profit_df = profit_df[(profit_df.Fighter_1_Odds!=0) & (profit_df.Fighter_2_Odds!=0)]\n",
    "\n",
    "    # Determining best bet construct\n",
    "\n",
    "    best_diff = 0\n",
    "    best_profit = 0\n",
    "    best_fight_number = 0\n",
    "    for i in [0.05, 0.1, 0.15, 0.2, 0.25, 0.3, 0.35, 0.4, 0.45, 0.5]:\n",
    "        profit_df['Bet'] = profit_df.apply(calculate_bets_internal, diff = i, axis = 1)\n",
    "        profit_df['Bet_Result'] = profit_df.apply(calculate_payoff_and_result_internal, axis = 1)\n",
    "        print(f'With a cutoff of {i}, betting results are {profit_df.Bet_Result.sum()}')\n",
    "        if float(profit_df.Bet_Result.sum()) > best_profit:\n",
    "            best_diff = i\n",
    "        if profit_df.Bet_Result.sum() > best_profit:\n",
    "            best_profit = profit_df.Bet_Result.sum()\n",
    "    # Veteran fights only\n",
    "    best_profit = 0\n",
    "    profit_df['Bet'] = profit_df.apply(calculate_bets_internal, diff = best_diff, axis = 1)\n",
    "    profit_df['Bet_Result'] = profit_df.apply(calculate_payoff_and_result_internal, axis = 1)\n",
    "    for num_fights in [0, 5, 10, 15, 20, 25]:\n",
    "        profit_df['Fights_1'] = profit_df.wins_1 + profit_df.losses_1\n",
    "        profit_df['Fights_2'] = profit_df.wins_2 + profit_df.losses_2\n",
    "        test = profit_df[(profit_df.Fights_1 > num_fights) | (profit_df.Fights_2 > num_fights)]\n",
    "        results = test.Bet_Result.sum()\n",
    "        print(f'For a {num_fights} fight minimum, the model returns {results}')\n",
    "        if results > best_profit:\n",
    "            best_fight_number = num_fights\n",
    "        if results > best_profit:\n",
    "            best_profit = results\n",
    "        \n",
    "    return best_diff, best_fight_number"
   ]
  },
  {
   "cell_type": "code",
   "execution_count": 16,
   "metadata": {},
   "outputs": [
    {
     "name": "stdout",
     "output_type": "stream",
     "text": [
      "With a cutoff of 0.05, betting results are 540.2536891519786\n",
      "With a cutoff of 0.1, betting results are 504.1103432505683\n",
      "With a cutoff of 0.15, betting results are 60.941700220577815\n",
      "With a cutoff of 0.2, betting results are -18.22751322751327\n",
      "With a cutoff of 0.25, betting results are -125.0\n",
      "With a cutoff of 0.3, betting results are 75.0\n",
      "With a cutoff of 0.35, betting results are 0\n",
      "With a cutoff of 0.4, betting results are 0\n",
      "With a cutoff of 0.45, betting results are 0\n",
      "With a cutoff of 0.5, betting results are 0\n",
      "For a 0 fight minimum, the model returns 540.2536891519786\n",
      "For a 5 fight minimum, the model returns 540.2536891519786\n",
      "For a 10 fight minimum, the model returns 393.3909440539395\n",
      "For a 15 fight minimum, the model returns 372.5360536868542\n",
      "For a 20 fight minimum, the model returns 129.6515546159143\n",
      "For a 25 fight minimum, the model returns -527.6570708866911\n",
      "(0.05, 0)\n"
     ]
    }
   ],
   "source": [
    "print(calculate_best_bet_construct())"
   ]
  },
  {
   "cell_type": "code",
   "execution_count": null,
   "metadata": {},
   "outputs": [],
   "source": []
  }
 ],
 "metadata": {
  "kernelspec": {
   "display_name": "Python 3 (ipykernel)",
   "language": "python",
   "name": "python3"
  },
  "language_info": {
   "codemirror_mode": {
    "name": "ipython",
    "version": 3
   },
   "file_extension": ".py",
   "mimetype": "text/x-python",
   "name": "python",
   "nbconvert_exporter": "python",
   "pygments_lexer": "ipython3",
   "version": "3.9.13"
  }
 },
 "nbformat": 4,
 "nbformat_minor": 4
}
