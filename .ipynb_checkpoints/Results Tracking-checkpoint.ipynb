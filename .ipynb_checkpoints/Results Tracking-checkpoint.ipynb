{
 "cells": [
  {
   "cell_type": "markdown",
   "metadata": {},
   "source": [
    "# Setting Up Environment"
   ]
  },
  {
   "cell_type": "code",
   "execution_count": 1,
   "metadata": {},
   "outputs": [],
   "source": [
    "import pandas as pd"
   ]
  },
  {
   "cell_type": "code",
   "execution_count": 5,
   "metadata": {},
   "outputs": [],
   "source": [
    "# Joining predictions to table w/ results and getting result\n",
    "\n",
    "predictions = pd.read_csv('mma_data_predictions.csv', index_col = 0)\n",
    "\n",
    "data = pd.read_csv('mma_data.csv', index_col = 0)\n",
    "data = data[data.result >= 0]\n",
    "results_data = data[['fighter_1', 'fighter_2', 'result', 'KO_OVR', 'SUB_OVR']]\n",
    "\n",
    "odds_data = pd.read_csv('mma_data_odds.csv', index_col = 0)\n",
    "\n",
    "merged = predictions.merge(results_data, on = ['fighter_1', 'fighter_2'])"
   ]
  },
  {
   "cell_type": "markdown",
   "metadata": {},
   "source": [
    "# Analyzing Accuracy"
   ]
  },
  {
   "cell_type": "code",
   "execution_count": 10,
   "metadata": {},
   "outputs": [],
   "source": [
    "# Winner results\n",
    "merged['Predicted_Result_RF'] = merged.Prediction_RF_Winner.apply(lambda x: 1 if x > 0.5 else 0)\n",
    "merged['Predicted_Result_GB'] = merged.Prediction_GB_Winner.apply(lambda x: 1 if x > 0.5 else 0)\n",
    "# merged['Predicted_Resulted_LR'] = merged.Prediction_LR_Winner.apply(lambda x: 1 if x > 0.5 else 0)\n",
    "merged['Accurate_RF'] = merged.apply(lambda x: 1 if x.result_y == x.Predicted_Result_RF else 0, axis = 1)\n",
    "merged['Accurate_GB'] = merged.apply(lambda x: 1 if x.result_y == x.Predicted_Result_GB else 0, axis = 1)\n",
    "\n",
    "# Sub results\n",
    "merged['Predicted_Sub_RF'] = merged.Prediction_RF_SUB.apply(lambda x: 1 if x > 0.5 else 0)\n",
    "merged['Predicted_Sub_GB'] = merged.Prediction_GB_SUB.apply(lambda x: 1 if x > 0.5 else 0)\n",
    "# merged['Predicted_Resulted_LR'] = merged.Prediction_LR_Winner.apply(lambda x: 1 if x > 0.5 else 0)\n",
    "merged['Accurate_RF_SUB'] = merged.apply(lambda x: 1 if x.SUB_OVR_y == x.Predicted_Sub_RF else 0, axis = 1)\n",
    "merged['Accurate_GB_SUB'] = merged.apply(lambda x: 1 if x.SUB_OVR_y == x.Predicted_Sub_GB else 0, axis = 1)\n",
    "\n",
    "# KO Results\n",
    "merged['Predicted_KO_RF'] = merged.Prediction_RF_KO.apply(lambda x: 1 if x > 0.5 else 0)\n",
    "merged['Predicted_KO_GB'] = merged.Prediction_GB_KO.apply(lambda x: 1 if x > 0.5 else 0)\n",
    "# merged['Predicted_Resulted_LR'] = merged.Prediction_LR_Winner.apply(lambda x: 1 if x > 0.5 else 0)\n",
    "merged['Accurate_RF_KO'] = merged.apply(lambda x: 1 if x.KO_OVR_y == x.Predicted_KO_RF else 0, axis = 1)\n",
    "merged['Accurate_GB_KO'] = merged.apply(lambda x: 1 if x.KO_OVR_y == x.Predicted_KO_GB else 0, axis = 1)"
   ]
  },
  {
   "cell_type": "code",
   "execution_count": 3,
   "metadata": {},
   "outputs": [
    {
     "name": "stdout",
     "output_type": "stream",
     "text": [
      "Winner accuracy for RF is: 55.26315789473685%\n",
      "Winner accuracy for GB is: 60.526315789473685%\n",
      "Sub accuracy for RF is: 71.05263157894737%\n",
      "Sub accuracy for GB is: 73.68421052631578%\n",
      "KO accuracy for RF is: 42.10526315789473%\n",
      "KO accuracy for GB is: 50.0%\n"
     ]
    }
   ],
   "source": [
    "print(f'Winner accuracy for RF is: {merged.Accurate_RF.mean()*100}%')\n",
    "print(f'Winner accuracy for GB is: {merged.Accurate_GB.mean()*100}%')\n",
    "print(f'Sub accuracy for RF is: {merged.Accurate_RF_SUB.mean()*100}%')\n",
    "print(f'Sub accuracy for GB is: {merged.Accurate_GB_SUB.mean()*100}%')\n",
    "print(f'KO accuracy for RF is: {merged.Accurate_RF_KO.mean()*100}%')\n",
    "print(f'KO accuracy for GB is: {merged.Accurate_GB_KO.mean()*100}%')"
   ]
  },
  {
   "cell_type": "markdown",
   "metadata": {},
   "source": [
    "### Looking At Only Veteran Fights"
   ]
  },
  {
   "cell_type": "code",
   "execution_count": 5,
   "metadata": {},
   "outputs": [],
   "source": [
    "merged['Fights_1'] = merged.wins_1 + merged.losses_1\n",
    "merged['Fights_2'] = merged.wins_2 + merged.losses_2\n",
    "\n",
    "test = merged[(merged.Fights_1 > 15) | (merged.Fights_2 > 15)]"
   ]
  },
  {
   "cell_type": "code",
   "execution_count": 7,
   "metadata": {},
   "outputs": [
    {
     "name": "stdout",
     "output_type": "stream",
     "text": [
      "Winner accuracy for RF is: 62.06896551724138%\n",
      "Winner accuracy for veterans GB is: 65.51724137931035%\n",
      "Sub accuracy for veterans RF is: 75.86206896551724%\n",
      "Sub accuracy for veterans GB is: 79.3103448275862%\n",
      "KO accuracy for veterans RF is: 48.275862068965516%\n",
      "KO accuracy for veterans GB is: 51.724137931034484%\n"
     ]
    }
   ],
   "source": [
    "print(f'Winner accuracy for RF is: {test.Accurate_RF.mean()*100}%')\n",
    "print(f'Winner accuracy for veterans GB is: {test.Accurate_GB.mean()*100}%')\n",
    "print(f'Sub accuracy for veterans RF is: {test.Accurate_RF_SUB.mean()*100}%')\n",
    "print(f'Sub accuracy for veterans GB is: {test.Accurate_GB_SUB.mean()*100}%')\n",
    "print(f'KO accuracy for veterans RF is: {test.Accurate_RF_KO.mean()*100}%')\n",
    "print(f'KO accuracy for veterans GB is: {test.Accurate_GB_KO.mean()*100}%')"
   ]
  },
  {
   "cell_type": "markdown",
   "metadata": {},
   "source": [
    "# Potential Profit"
   ]
  },
  {
   "cell_type": "code",
   "execution_count": 24,
   "metadata": {},
   "outputs": [],
   "source": [
    "# Getting all the relevant data in one place\n",
    "\n",
    "odds_data = odds_data[['fighter_1', 'fighter_2', 'Fighter_1_Odds', 'Fighter_2_Odds']]\n",
    "\n",
    "profit_df = merged.merge(odds_data, on = ['fighter_1', 'fighter_2'])"
   ]
  },
  {
   "cell_type": "markdown",
   "metadata": {},
   "source": [
    "### RF"
   ]
  },
  {
   "cell_type": "code",
   "execution_count": 25,
   "metadata": {},
   "outputs": [
    {
     "data": {
      "text/plain": [
       "-659.0888475311815"
      ]
     },
     "execution_count": 25,
     "metadata": {},
     "output_type": "execute_result"
    }
   ],
   "source": [
    "def rf_bets(row):\n",
    "    if row.Predicted_Result_RF == 1:\n",
    "        if (row.Fighter_1_Odds > 100) & (row.Fighter_1_Odds <= 200):\n",
    "            bet = 50\n",
    "        elif (row.Fighter_1_Odds > 200):\n",
    "            bet = 25\n",
    "        elif (row.Fighter_1_Odds <= 100) & (row.Fighter_1_Odds >= -200):\n",
    "            bet = 75\n",
    "        elif (row.Fighter_1_Odds < -200):\n",
    "            bet = 100\n",
    "        else:\n",
    "            bet = 0\n",
    "    if row.Predicted_Result_RF == 0:\n",
    "        if (row.Fighter_2_Odds > 100) & (row.Fighter_2_Odds <= 200):\n",
    "            bet = 50\n",
    "        elif (row.Fighter_2_Odds > 200):\n",
    "            bet = 25\n",
    "        elif (row.Fighter_2_Odds <= 100) & (row.Fighter_2_Odds >= -200):\n",
    "            bet = 75\n",
    "        elif (row.Fighter_2_Odds < -200):\n",
    "            bet = 100\n",
    "        else:\n",
    "            bet = 0\n",
    "    return bet\n",
    "\n",
    "def calculate_payoff_and_result(row):\n",
    "    # Calculating Payoff\n",
    "    if row.Predicted_Result_RF == 1:\n",
    "        if row.Fighter_1_Odds>0:\n",
    "            payoff = (row.Fighter_1_Odds/100)*row.Bet\n",
    "        else:\n",
    "            payoff = row.Bet/((abs(row.Fighter_1_Odds)/100))\n",
    "    else:\n",
    "        if row.Fighter_2_Odds>0:\n",
    "            payoff = (row.Fighter_2_Odds/100)*row.Bet\n",
    "        else:\n",
    "            payoff = row.Bet/((abs(row.Fighter_2_Odds)/100))\n",
    "    # Calculating Bet Result\n",
    "    if row.Predicted_Result_RF == row.result_y:\n",
    "        bet_result = payoff\n",
    "    else:\n",
    "        bet_result = -(row.Bet)\n",
    "    \n",
    "    return bet_result\n",
    "            \n",
    "profit_df['Bet'] = profit_df.apply(rf_bets, axis = 1)\n",
    "profit_df['Bet'] = 100\n",
    "profit_df['Bet_Result'] = profit_df.apply(calculate_payoff_and_result, axis = 1)\n",
    "\n",
    "profit_df.Bet_Result.sum()"
   ]
  },
  {
   "cell_type": "code",
   "execution_count": 26,
   "metadata": {},
   "outputs": [
    {
     "data": {
      "text/plain": [
       "-236.11067038098906"
      ]
     },
     "execution_count": 26,
     "metadata": {},
     "output_type": "execute_result"
    }
   ],
   "source": [
    "# Veteran fights only\n",
    "\n",
    "profit_df['Fights_1'] = profit_df.wins_1 + profit_df.losses_1\n",
    "profit_df['Fights_2'] = profit_df.wins_2 + profit_df.losses_2\n",
    "\n",
    "test = profit_df[(profit_df.Fights_1 > 15) | (profit_df.Fights_2 > 15)]\n",
    "test.Bet_Result.sum()"
   ]
  },
  {
   "cell_type": "markdown",
   "metadata": {},
   "source": [
    "### GB"
   ]
  },
  {
   "cell_type": "code",
   "execution_count": 27,
   "metadata": {},
   "outputs": [
    {
     "data": {
      "text/plain": [
       "-375.95770154586677"
      ]
     },
     "execution_count": 27,
     "metadata": {},
     "output_type": "execute_result"
    }
   ],
   "source": [
    "def rf_bets(row):\n",
    "    if row.Predicted_Result_GB == 1:\n",
    "        if (row.Fighter_1_Odds > 100) & (row.Fighter_1_Odds <= 200):\n",
    "            bet = 50\n",
    "        elif (row.Fighter_1_Odds > 200):\n",
    "            bet = 25\n",
    "        elif (row.Fighter_1_Odds <= 100) & (row.Fighter_1_Odds >= -200):\n",
    "            bet = 75\n",
    "        elif (row.Fighter_1_Odds < -200):\n",
    "            bet = 100\n",
    "        else:\n",
    "            bet = 0\n",
    "    if row.Predicted_Result_GB == 0:\n",
    "        if (row.Fighter_2_Odds > 100) & (row.Fighter_2_Odds <= 200):\n",
    "            bet = 50\n",
    "        elif (row.Fighter_2_Odds > 200):\n",
    "            bet = 25\n",
    "        elif (row.Fighter_2_Odds <= 100) & (row.Fighter_2_Odds >= -200):\n",
    "            bet = 75\n",
    "        elif (row.Fighter_2_Odds < -200):\n",
    "            bet = 100\n",
    "        else:\n",
    "            bet = 0\n",
    "    return bet\n",
    "\n",
    "def calculate_payoff_and_result(row):\n",
    "    # Calculating Payoff\n",
    "    if row.Predicted_Result_GB == 1:\n",
    "        if row.Fighter_1_Odds>0:\n",
    "            payoff = (row.Fighter_1_Odds/100)*row.Bet\n",
    "        else:\n",
    "            payoff = row.Bet/((abs(row.Fighter_1_Odds)/100))\n",
    "    else:\n",
    "        if row.Fighter_2_Odds>0:\n",
    "            payoff = (row.Fighter_2_Odds/100)*row.Bet\n",
    "        else:\n",
    "            payoff = row.Bet/((abs(row.Fighter_2_Odds)/100))\n",
    "    # Calculating Bet Result\n",
    "    if row.Predicted_Result_GB == row.result_y:\n",
    "        bet_result = payoff\n",
    "    else:\n",
    "        bet_result = -(row.Bet)\n",
    "    \n",
    "    return bet_result\n",
    "            \n",
    "profit_df['Bet'] = profit_df.apply(rf_bets, axis = 1)\n",
    "profit_df['Bet'] = 100\n",
    "profit_df['Bet_Result'] = profit_df.apply(calculate_payoff_and_result, axis = 1)\n",
    "\n",
    "profit_df.Bet_Result.sum()"
   ]
  },
  {
   "cell_type": "code",
   "execution_count": 28,
   "metadata": {},
   "outputs": [
    {
     "data": {
      "text/plain": [
       "-58.53507995122976"
      ]
     },
     "execution_count": 28,
     "metadata": {},
     "output_type": "execute_result"
    }
   ],
   "source": [
    "# Veteran fights only\n",
    "\n",
    "profit_df['Fights_1'] = profit_df.wins_1 + profit_df.losses_1\n",
    "profit_df['Fights_2'] = profit_df.wins_2 + profit_df.losses_2\n",
    "\n",
    "test = profit_df[(profit_df.Fights_1 > 15) | (profit_df.Fights_2 > 15)]\n",
    "test.Bet_Result.sum()"
   ]
  }
 ],
 "metadata": {
  "kernelspec": {
   "display_name": "Python 3 (ipykernel)",
   "language": "python",
   "name": "python3"
  },
  "language_info": {
   "codemirror_mode": {
    "name": "ipython",
    "version": 3
   },
   "file_extension": ".py",
   "mimetype": "text/x-python",
   "name": "python",
   "nbconvert_exporter": "python",
   "pygments_lexer": "ipython3",
   "version": "3.9.13"
  }
 },
 "nbformat": 4,
 "nbformat_minor": 4
}
