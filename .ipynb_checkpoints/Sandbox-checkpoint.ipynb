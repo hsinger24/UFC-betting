{
 "cells": [
  {
   "cell_type": "code",
   "execution_count": 1,
   "metadata": {},
   "outputs": [
    {
     "name": "stderr",
     "output_type": "stream",
     "text": [
      "/Users/hsinger24/Desktop/Programming/anaconda3/lib/python3.7/site-packages/fuzzywuzzy/fuzz.py:11: UserWarning: Using slow pure-python SequenceMatcher. Install python-Levenshtein to remove this warning\n",
      "  warnings.warn('Using slow pure-python SequenceMatcher. Install python-Levenshtein to remove this warning')\n"
     ]
    }
   ],
   "source": [
    "from selenium import webdriver\n",
    "from selenium.webdriver.common.keys import Keys\n",
    "from selenium.webdriver.chrome.options import Options\n",
    "from selenium.webdriver.common.by import By\n",
    "from selenium.webdriver.support import expected_conditions as EC\n",
    "from selenium.webdriver.support.ui import WebDriverWait\n",
    "from selenium.webdriver.support.ui import Select\n",
    "import time\n",
    "import pandas as pd\n",
    "import re\n",
    "from bs4 import BeautifulSoup\n",
    "import datetime as dt\n",
    "from webdriver_manager.chrome import ChromeDriverManager\n",
    "from fuzzywuzzy import fuzz"
   ]
  },
  {
   "cell_type": "code",
   "execution_count": 2,
   "metadata": {},
   "outputs": [],
   "source": [
    "data = pd.read_csv('mma_data.csv', index_col=0)\n",
    "data = data[data.result > -1]"
   ]
  },
  {
   "cell_type": "code",
   "execution_count": 67,
   "metadata": {},
   "outputs": [
    {
     "name": "stderr",
     "output_type": "stream",
     "text": [
      "\n",
      "\n",
      "====== WebDriver manager ======\n",
      "Current google-chrome version is 108.0.5359\n",
      "Get LATEST driver version for 108.0.5359\n",
      "Driver [/Users/hsinger24/.wdm/drivers/chromedriver/mac64/108.0.5359.71/chromedriver] found in cache\n"
     ]
    }
   ],
   "source": [
    "options = Options()\n",
    "options.add_argument('--no-sandbox')\n",
    "options.add_argument(\"user-data-dir=/Users/hsinger24/Library/Application Support/Google/Chrome/Default1\")\n",
    "options.add_argument(\"--start-maximized\")\n",
    "options.add_argument('--disable-web-security')\n",
    "options.add_argument('--allow-running-insecure-content')\n",
    "options.add_argument(\"--disable-setuid-sandbox\")\n",
    "driver = webdriver.Chrome(ChromeDriverManager().install())\n",
    "driver.get('https://www.bestfightodds.com/archive')\n",
    "time.sleep(1)"
   ]
  },
  {
   "cell_type": "code",
   "execution_count": 68,
   "metadata": {},
   "outputs": [
    {
     "ename": "IndexError",
     "evalue": "list index out of range",
     "output_type": "error",
     "traceback": [
      "\u001b[0;31m---------------------------------------------------------------------------\u001b[0m",
      "\u001b[0;31mIndexError\u001b[0m                                Traceback (most recent call last)",
      "\u001b[0;32m<ipython-input-68-4c6b607e4893>\u001b[0m in \u001b[0;36m<module>\u001b[0;34m\u001b[0m\n\u001b[1;32m     49\u001b[0m     \u001b[0mdriver\u001b[0m\u001b[0;34m.\u001b[0m\u001b[0mback\u001b[0m\u001b[0;34m(\u001b[0m\u001b[0;34m)\u001b[0m\u001b[0;34m\u001b[0m\u001b[0;34m\u001b[0m\u001b[0m\n\u001b[1;32m     50\u001b[0m     \u001b[0mtime\u001b[0m\u001b[0;34m.\u001b[0m\u001b[0msleep\u001b[0m\u001b[0;34m(\u001b[0m\u001b[0;36m1\u001b[0m\u001b[0;34m)\u001b[0m\u001b[0;34m\u001b[0m\u001b[0;34m\u001b[0m\u001b[0m\n\u001b[0;32m---> 51\u001b[0;31m     \u001b[0mdriver\u001b[0m\u001b[0;34m.\u001b[0m\u001b[0mfind_elements\u001b[0m\u001b[0;34m(\u001b[0m\u001b[0mBy\u001b[0m\u001b[0;34m.\u001b[0m\u001b[0mXPATH\u001b[0m\u001b[0;34m,\u001b[0m \u001b[0;34m'//*[@id=\"page-content\"]/form/p/input[1]'\u001b[0m\u001b[0;34m)\u001b[0m\u001b[0;34m[\u001b[0m\u001b[0;36m0\u001b[0m\u001b[0;34m]\u001b[0m\u001b[0;34m.\u001b[0m\u001b[0mclear\u001b[0m\u001b[0;34m(\u001b[0m\u001b[0;34m)\u001b[0m\u001b[0;34m\u001b[0m\u001b[0;34m\u001b[0m\u001b[0m\n\u001b[0m",
      "\u001b[0;31mIndexError\u001b[0m: list index out of range"
     ]
    }
   ],
   "source": [
    "data['Fighter_1_Odds'] = 0\n",
    "data['Fighter_2_Odds'] = 0\n",
    "\n",
    "for index, row in data.iterrows():\n",
    "    \n",
    "    # Formatting name of higher ranked fighter\n",
    "    fighter_1 = str(row.fighter_1)\n",
    "    fighter_1 = re.findall('[A-Z][^A-Z]*', fighter_1)    \n",
    "    fighter_name = ''\n",
    "    for name in fighter_1:\n",
    "        fighter_name = fighter_name + ' ' + name\n",
    "        \n",
    "    # Formatting name of lower ranked fighter\n",
    "    fighter_2 = str(row.fighter_2)\n",
    "    fighter_2 = re.findall('[A-Z][^A-Z]*', fighter_2)    \n",
    "    fighter_name_2 = ''\n",
    "    for name in fighter_2:\n",
    "        fighter_name_2 = fighter_name_2 + ' ' + name\n",
    "\n",
    "    # Searching for fights w/ higher ranked fighter\n",
    "    search_bar = driver.find_elements(By.XPATH, '//*[@id=\"page-content\"]/form/p/input[1]')[0]\n",
    "    search_bar.send_keys(fighter_name)\n",
    "    driver.find_elements(By.XPATH, '//*[@id=\"page-content\"]/form/p/input[2]')[0].click()\n",
    "    \n",
    "    # Clicking on fighter 1 \n",
    "    try:\n",
    "        driver.find_elements(By.XPATH, '//*[@id=\"page-content\"]/table[1]/tbody/tr[1]/td[2]/a')[0].click()\n",
    "        time.sleep(1)\n",
    "    except:\n",
    "        pass\n",
    "    \n",
    "    # Getting odds\n",
    "    html = driver.page_source\n",
    "    table = pd.read_html(html)[0]\n",
    "    table = table[['Matchup', 'Closing range']]\n",
    "    table['Fuzzy_1'] = table.Matchup.apply(lambda x: fuzz.ratio(x, fighter_name))\n",
    "    table['Fuzzy_2'] = table.Matchup.apply(lambda x: fuzz.ratio(x, fighter_name_2))\n",
    "    table = table[(table.Fuzzy_2 > 50) | (table.Fuzzy_1 > 50)].reset_index(drop = True)\n",
    "    index_opp = table[table.Fuzzy_2 > 50].index[0]\n",
    "    table_matchup = table.loc[index_opp-1:index_opp, :].reset_index(drop = True)\n",
    "    \n",
    "    # Filling odds\n",
    "    data.loc[index, 'Fighter_1_Odds'] = table_matchup.loc[0, 'Closing range']\n",
    "    data.loc[index, 'Fighter_2_Odds'] = table_matchup.loc[1, 'Closing range']\n",
    "    \n",
    "    # Navigating back and clearing text box\n",
    "    driver.back()\n",
    "    time.sleep(1)\n",
    "    driver.back()\n",
    "    time.sleep(1)\n",
    "    driver.find_elements(By.XPATH, '//*[@id=\"page-content\"]/form/p/input[1]')[0].clear()"
   ]
  },
  {
   "cell_type": "code",
   "execution_count": null,
   "metadata": {},
   "outputs": [],
   "source": []
  }
 ],
 "metadata": {
  "kernelspec": {
   "display_name": "Python 3",
   "language": "python",
   "name": "python3"
  },
  "language_info": {
   "codemirror_mode": {
    "name": "ipython",
    "version": 3
   },
   "file_extension": ".py",
   "mimetype": "text/x-python",
   "name": "python",
   "nbconvert_exporter": "python",
   "pygments_lexer": "ipython3",
   "version": "3.7.6"
  }
 },
 "nbformat": 4,
 "nbformat_minor": 4
}
