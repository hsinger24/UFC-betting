{
 "cells": [
  {
   "cell_type": "markdown",
   "metadata": {},
   "source": [
    "# Setting Up Environment"
   ]
  },
  {
   "cell_type": "code",
   "execution_count": 2,
   "metadata": {},
   "outputs": [
    {
     "name": "stderr",
     "output_type": "stream",
     "text": [
      "/opt/anaconda3/lib/python3.9/site-packages/fuzzywuzzy/fuzz.py:11: UserWarning: Using slow pure-python SequenceMatcher. Install python-Levenshtein to remove this warning\n",
      "  warnings.warn('Using slow pure-python SequenceMatcher. Install python-Levenshtein to remove this warning')\n"
     ]
    }
   ],
   "source": [
    "from selenium import webdriver\n",
    "from selenium.webdriver.common.keys import Keys\n",
    "from selenium.webdriver.chrome.options import Options\n",
    "from selenium.webdriver.common.by import By\n",
    "from selenium.webdriver.support import expected_conditions as EC\n",
    "from selenium.webdriver.support.ui import WebDriverWait\n",
    "from selenium.webdriver.support.ui import Select\n",
    "from webdriver_manager.chrome import ChromeDriverManager\n",
    "\n",
    "import time\n",
    "import pandas as pd\n",
    "import re\n",
    "from fuzzywuzzy import fuzz\n",
    "from bs4 import BeautifulSoup\n",
    "import datetime as dt\n",
    "import numpy as np"
   ]
  },
  {
   "cell_type": "markdown",
   "metadata": {},
   "source": [
    "# Fixing Bet Recommender"
   ]
  },
  {
   "cell_type": "code",
   "execution_count": 27,
   "metadata": {},
   "outputs": [],
   "source": [
    "# Instantating constants\n",
    "\n",
    "regex_weight = r\"\\d{3}\\sl\"\n",
    "regex_reach = r'\\d{2}\"'\n",
    "regex_dob = r',\\s\\d{4}'\n",
    "regex_various_stats = r'\\d{1}\\.\\d{1,2}'\n",
    "regex_various_stats_2 = r'\\d{1,2}%'\n",
    "regex_record = r'\\d{1,2}-\\d{1,2}-\\d{1,2}'\n",
    "year = dt.date.today().year\n",
    "fight_data = pd.DataFrame()\n",
    "options = Options()\n",
    "options.add_argument('--no-sandbox')\n",
    "options.add_argument(\"user-data-dir=/Users/hsinger24/Library/Application Support/Google/Chrome/Default1\")\n",
    "options.add_argument(\"--start-maximized\")\n",
    "options.add_argument('--disable-web-security')\n",
    "options.add_argument('--allow-running-insecure-content')\n",
    "options.add_argument(\"--disable-setuid-sandbox\")\n",
    "driver = webdriver.Safari()\n",
    "driver.get('http://ufcstats.com/statistics/events/completed')\n",
    "upcoming_card_data = pd.DataFrame(columns = ['name', 'weight', 'reach', 'age', 'slpm', 'sapm', 'td_avg', 'sub_avg', 'strk_acc', 'strk_def', 'td_acc',\n",
    "                                            'td_def', 'wins', 'losses'])\n",
    "\n",
    "# Getting data for upcoming card\n",
    "\n",
    "links_home_page = driver.find_elements(By.TAG_NAME, 'a') \n",
    "del links_home_page[:6] \n",
    "upcoming_card = links_home_page[0] \n",
    "upcoming_card.click() \n",
    "time.sleep(2)\n",
    "links_upcoming_card = driver.find_elements(By.TAG_NAME, 'a') \n",
    "del links_upcoming_card[:4]\n",
    "for i in range(7):\n",
    "    del links_upcoming_card[-1]\n",
    "for i, link in enumerate(links_upcoming_card):\n",
    "    if link.text in ['View\\nMatchup', 'View Matchup  ']:\n",
    "        del links_upcoming_card[i]\n",
    "num_fighters = len(links_upcoming_card)\n",
    "fighter = links_upcoming_card[0]\n",
    "fighter.click()\n",
    "for i in range(num_fighters):\n",
    "    if i!=0:\n",
    "        links_upcoming_card = driver.find_elements(By.TAG_NAME, 'a')\n",
    "        del links_upcoming_card[:4]\n",
    "        for j, link in enumerate(links_upcoming_card):\n",
    "            if link.text in ['View\\nMatchup', 'View Matchup  ']:\n",
    "                del links_upcoming_card[j]\n",
    "        fighter= links_upcoming_card[i]\n",
    "        fighter.click() \n",
    "    time.sleep(2)\n",
    "    html = driver.page_source\n",
    "    soup = BeautifulSoup(html, 'html.parser')\n",
    "    name = soup.find_all('span', class_ = 'b-content__title-highlight')[0].text.replace('\\n', '').replace(' ', '')\n",
    "    try:\n",
    "        weight = float(re.findall(regex_weight, soup.prettify())[0].strip('l').replace(' ', ''))\n",
    "        reach = float(re.findall(regex_reach, soup.prettify())[1].strip('\"'))\n",
    "    except:\n",
    "        weight = 0\n",
    "        reach = 0\n",
    "    dob = int(re.findall(regex_dob, soup.prettify())[0].strip(',').replace(' ', ''))\n",
    "    age = year - dob\n",
    "    slpm = float(re.findall(regex_various_stats, soup.prettify())[1])\n",
    "    sapm = float(re.findall(regex_various_stats, soup.prettify())[2])\n",
    "    td_avg = float(re.findall(regex_various_stats, soup.prettify())[3])\n",
    "    sub_avg = float(re.findall(regex_various_stats, soup.prettify())[4])\n",
    "    strk_acc = float(re.findall(regex_various_stats_2, soup.prettify())[0].strip('%'))\n",
    "    strk_def = float(re.findall(regex_various_stats_2, soup.prettify())[1].strip('%'))\n",
    "    td_acc = float(re.findall(regex_various_stats_2, soup.prettify())[2].strip('%'))\n",
    "    td_def = float(re.findall(regex_various_stats_2, soup.prettify())[3].strip('%'))\n",
    "    record = re.findall(regex_record, soup.prettify())[0]\n",
    "    record = record.split('-')\n",
    "    wins = float(record[0])\n",
    "    losses = float(record[1])\n",
    "    list_of_stats = [name, weight, reach, age, slpm, sapm, td_avg, sub_avg, strk_acc, strk_def, td_acc, td_def, wins, losses]\n",
    "    series = pd.Series(list_of_stats, index = upcoming_card_data.columns)\n",
    "    upcoming_card_data = upcoming_card_data.append(series, ignore_index = True)\n",
    "    driver.back()\n",
    "evens = upcoming_card_data.iloc[::2]\n",
    "evens.reset_index(drop = True, inplace = True)\n",
    "odds = upcoming_card_data.iloc[1::2]\n",
    "odds.reset_index(drop = True, inplace = True)\n",
    "final= pd.merge(evens, odds, left_index = True, right_index = True)\n",
    "final.columns = ['fighter_1', 'weight_1', 'reach_1', 'age_1', 'slpm_1', 'sapm_1', 'td_avg_1', 'sub_avg_1', \n",
    "                'strk_acc_1', 'strk_def_1', 'td_acc_1','td_def_1', 'wins_1', 'losses_1', 'fighter_2', 'weight_2', \n",
    "                'reach_2', 'age_2', 'slpm_2', 'sapm_2', 'td_avg_2', 'sub_avg_2', 'strk_acc_2', 'strk_def_2', \n",
    "                'td_acc_2','td_def_2', 'wins_2', 'losses_2']\n",
    "final['result'] = -5\n",
    "final['SUB_OVR']= 0\n",
    "final['KO_OVR'] = 0\n",
    "final = final[(final.weight_1 != 0) & (final.weight_2 != 0)]\n",
    "print(final.tail())\n",
    "driver.quit()"
   ]
  },
  {
   "cell_type": "code",
   "execution_count": 30,
   "metadata": {},
   "outputs": [
    {
     "data": {
      "text/plain": [
       "'View Matchup  '"
      ]
     },
     "execution_count": 30,
     "metadata": {},
     "output_type": "execute_result"
    }
   ],
   "source": [
    "links_upcoming_card[2].text"
   ]
  },
  {
   "cell_type": "code",
   "execution_count": null,
   "metadata": {},
   "outputs": [],
   "source": []
  }
 ],
 "metadata": {
  "kernelspec": {
   "display_name": "Python 3 (ipykernel)",
   "language": "python",
   "name": "python3"
  },
  "language_info": {
   "codemirror_mode": {
    "name": "ipython",
    "version": 3
   },
   "file_extension": ".py",
   "mimetype": "text/x-python",
   "name": "python",
   "nbconvert_exporter": "python",
   "pygments_lexer": "ipython3",
   "version": "3.9.13"
  }
 },
 "nbformat": 4,
 "nbformat_minor": 4
}
