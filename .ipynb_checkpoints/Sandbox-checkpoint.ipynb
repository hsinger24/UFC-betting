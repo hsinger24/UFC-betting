{
 "cells": [
  {
   "cell_type": "markdown",
   "metadata": {},
   "source": [
    "# Setting Up Environment"
   ]
  },
  {
   "cell_type": "code",
   "execution_count": 24,
   "metadata": {},
   "outputs": [
    {
     "name": "stderr",
     "output_type": "stream",
     "text": [
      "/opt/anaconda3/lib/python3.9/site-packages/sklearn/experimental/enable_hist_gradient_boosting.py:16: UserWarning: Since version 1.0, it is not needed to import enable_hist_gradient_boosting anymore. HistGradientBoostingClassifier and HistGradientBoostingRegressor are now stable and can be normally imported from sklearn.ensemble.\n",
      "  warnings.warn(\n"
     ]
    }
   ],
   "source": [
    "import pandas as pd\n",
    "import numpy as np\n",
    "import matplotlib.pyplot as plt\n",
    "\n",
    "# from keras.models import Sequential\n",
    "# from keras.layers import Dense\n",
    "# from keras import regularizers\n",
    "# from keras.utils.vis_utils import model_to_dot\n",
    "\n",
    "from sklearn.model_selection import train_test_split\n",
    "from sklearn.preprocessing import StandardScaler\n",
    "from sklearn.ensemble import RandomForestClassifier\n",
    "from sklearn.ensemble import GradientBoostingClassifier\n",
    "from sklearn.experimental import enable_hist_gradient_boosting\n",
    "from sklearn.ensemble import HistGradientBoostingClassifier\n",
    "from sklearn.model_selection import GridSearchCV\n",
    "from sklearn.metrics import classification_report\n",
    "from sklearn.metrics import matthews_corrcoef\n",
    "from sklearn.linear_model import LogisticRegression\n",
    "from sklearn.svm import SVC\n",
    "from sklearn.metrics import roc_auc_score\n",
    "from sklearn.preprocessing import StandardScaler\n",
    "from sklearn.preprocessing import RobustScaler\n",
    "from sklearn.decomposition import PCA\n",
    "from sklearn.decomposition import KernelPCA\n",
    "from sklearn.discriminant_analysis import LinearDiscriminantAnalysis as LDA\n",
    "\n",
    "import gym\n",
    "\n",
    "from stable_baselines3 import PPO\n",
    "from stable_baselines3 import SAC\n",
    "from stable_baselines3 import DDPG\n",
    "from stable_baselines3 import TD3\n",
    "from stable_baselines3.common.vec_env import DummyVecEnv"
   ]
  },
  {
   "cell_type": "markdown",
   "metadata": {},
   "source": [
    "# Populating LGBM Predictions"
   ]
  },
  {
   "cell_type": "markdown",
   "metadata": {},
   "source": [
    "### Training On Data Before Predictions DF starts"
   ]
  },
  {
   "cell_type": "code",
   "execution_count": 8,
   "metadata": {},
   "outputs": [],
   "source": [
    "data = pd.read_csv('mma_data.csv', index_col=0)\n",
    "\n",
    "# Filtering out unwanted rows\n",
    "data = data[data.result >= 0]\n",
    "data = data[data.slpm_2 + data.sapm_2 != 0]\n",
    "data = data[data.slpm_1 + data.sapm_1 != 0]"
   ]
  },
  {
   "cell_type": "code",
   "execution_count": 26,
   "metadata": {},
   "outputs": [],
   "source": [
    "# Engineering some columns\n",
    "data['strike_diff_1'] = data.slpm_1 - data.sapm_1\n",
    "data['strike_diff_2'] = data.slpm_2 - data.sapm_2\n",
    "data['strike_diff'] = data.strike_diff_1 - data.strike_diff_2\n",
    "data['td_diff_1'] = data.td_acc_1 - data.td_def_1\n",
    "data['td_diff_2'] = data.td_acc_2 - data.td_def_2\n",
    "data['td_diff'] = data.td_diff_1 - data.td_diff_2\n",
    "data['reach_diff'] = data.reach_1 - data.reach_2\n",
    "data['age_diff'] = data.age_1 - data.age_2\n",
    "data['slpm_diff'] = data.slpm_1 - data.slpm_2\n",
    "data['sapm_diff'] = data.sapm_1 - data.sapm_2\n",
    "data['td_acc_diff'] = data.td_acc_1 - data.td_acc_2\n",
    "data['td_def_diff'] = data.td_def_1 - data.td_def_2\n",
    "data['td_avg_diff'] = data.td_avg_1 - data.td_avg_2\n",
    "data['sub_avg_diff'] = data.sub_avg_1 - data.sub_avg_2\n",
    "data['strk_acc_diff'] = data.strk_acc_1 - data.strk_acc_2\n",
    "data['strk_def_diff'] = data.strk_def_1 - data.strk_def_2\n",
    "data['wins_diff'] = data.wins_1 - data.wins_2\n",
    "data['losses_diff'] = data.losses_1 - data.losses_2\n",
    "data['win_pct_1'] = data.wins_1/(data.losses_1 + data.wins_1)\n",
    "data['win_pct_2'] = data.wins_2/(data.losses_2 + data.wins_2)\n",
    "data['win_pct_diff'] = data.win_pct_1 - data.win_pct_2\n",
    "\n",
    "# Getting a dataset for only veteran fights\n",
    "data_v2 = data.copy()\n",
    "\n",
    "# Droping unecessary columnns and scaling data\n",
    "# data.drop(['fighter_1', 'fighter_2'], axis = 1, inplace = True)\n",
    "x_cols = ['reach_diff', 'age_diff', 'slpm_diff', 'sapm_diff', 'td_acc_diff', 'td_def_diff',\n",
    "              'td_avg_diff', 'sub_avg_diff', 'strk_acc_diff', 'strk_def_diff', 'wins_diff',\n",
    "              'losses_diff', 'win_pct_diff', 'weight_1', 'age_1', 'strike_diff', 'td_diff']\n",
    "y_col = ['result']\n",
    "x, y = data[x_cols], data[y_col]\n",
    "x_train, x_test, y_train, y_test = train_test_split(x, y, test_size = 0.2, random_state = 0, stratify = y)\n",
    "\n",
    "# Formatting data\n",
    "x_train = x_train.values\n",
    "y_train = y_train.values.ravel()\n",
    "x_test = x_test.values\n",
    "y_test = y_test.values.ravel()"
   ]
  },
  {
   "cell_type": "code",
   "execution_count": 28,
   "metadata": {},
   "outputs": [],
   "source": [
    "def grid_search_classifier(function, param_grid, cv = 10):\n",
    "    # Running Grid Search\n",
    "    grid_search = GridSearchCV(function, param_grid, cv = cv)\n",
    "    grid_search.fit(x_train, y_train)\n",
    "    \n",
    "    # Outputting results\n",
    "    print(f'Best parameters are: {grid_search.best_params_}\\n')\n",
    "    print(f'Accuracy is: {grid_search.score(x_test, y_test)}\\n')\n",
    "    try:\n",
    "        print(f'AUC score is: {roc_auc_score(y_test, grid_search.predict_proba(x_test)[:, 1])}\\n')\n",
    "    except:\n",
    "        pass\n",
    "    best_model = grid_search.best_estimator_\n",
    "    pred_rf = best_model.predict(x_test)\n",
    "    print(f'Classification report:\\n {classification_report(y_test, pred_rf, target_names = [\"Lower Ranked\", \"Higher Ranked\"])}')\n",
    "    print(f'MCC is: {matthews_corrcoef(y_test, pred_rf)}')\n",
    "    \n",
    "    return best_model"
   ]
  },
  {
   "cell_type": "code",
   "execution_count": 30,
   "metadata": {},
   "outputs": [
    {
     "name": "stdout",
     "output_type": "stream",
     "text": [
      "Best parameters are: {'learning_rate': 0.1, 'max_depth': 7, 'max_iter': 5, 'max_leaf_nodes': 8}\n",
      "\n",
      "Accuracy is: 0.6774193548387096\n",
      "\n",
      "AUC score is: 0.6801994301994303\n",
      "\n",
      "Classification report:\n",
      "                precision    recall  f1-score   support\n",
      "\n",
      " Lower Ranked       0.80      0.31      0.44        39\n",
      "Higher Ranked       0.65      0.94      0.77        54\n",
      "\n",
      "     accuracy                           0.68        93\n",
      "    macro avg       0.73      0.63      0.61        93\n",
      " weighted avg       0.72      0.68      0.64        93\n",
      "\n",
      "MCC is: 0.3382769504422759\n"
     ]
    }
   ],
   "source": [
    "max_iter = [int(x) for x in np.linspace(start = 5, stop = 15, num = 11)]\n",
    "max_leaf_nodes = [int(x) for x in np.linspace(start = 4, stop = 10, num = 7)]\n",
    "max_depth = [int(x) for x in np.linspace(start = 4, stop = 10, num = 7)]\n",
    "learning_rate = [0.001, 0.01, 0.1, 1]\n",
    "param_grid = {\n",
    "    'max_iter' : max_iter,\n",
    "    'max_leaf_nodes' : max_leaf_nodes,\n",
    "    'max_depth' : max_depth,\n",
    "    'learning_rate' : learning_rate\n",
    "}\n",
    "lgbm = grid_search_classifier(HistGradientBoostingClassifier(random_state = 0), param_grid)"
   ]
  },
  {
   "cell_type": "markdown",
   "metadata": {},
   "source": [
    "### Applying to Predictions DF"
   ]
  },
  {
   "cell_type": "code",
   "execution_count": 37,
   "metadata": {},
   "outputs": [],
   "source": [
    "data = pd.read_csv('mma_data_predictions.csv', index_col=0)\n",
    "\n",
    "# Engineering some columns\n",
    "data['strike_diff_1'] = data.slpm_1 - data.sapm_1\n",
    "data['strike_diff_2'] = data.slpm_2 - data.sapm_2\n",
    "data['strike_diff'] = data.strike_diff_1 - data.strike_diff_2\n",
    "data['td_diff_1'] = data.td_acc_1 - data.td_def_1\n",
    "data['td_diff_2'] = data.td_acc_2 - data.td_def_2\n",
    "data['td_diff'] = data.td_diff_1 - data.td_diff_2\n",
    "data['reach_diff'] = data.reach_1 - data.reach_2\n",
    "data['age_diff'] = data.age_1 - data.age_2\n",
    "data['slpm_diff'] = data.slpm_1 - data.slpm_2\n",
    "data['sapm_diff'] = data.sapm_1 - data.sapm_2\n",
    "data['td_acc_diff'] = data.td_acc_1 - data.td_acc_2\n",
    "data['td_def_diff'] = data.td_def_1 - data.td_def_2\n",
    "data['td_avg_diff'] = data.td_avg_1 - data.td_avg_2\n",
    "data['sub_avg_diff'] = data.sub_avg_1 - data.sub_avg_2\n",
    "data['strk_acc_diff'] = data.strk_acc_1 - data.strk_acc_2\n",
    "data['strk_def_diff'] = data.strk_def_1 - data.strk_def_2\n",
    "data['wins_diff'] = data.wins_1 - data.wins_2\n",
    "data['losses_diff'] = data.losses_1 - data.losses_2\n",
    "data['win_pct_1'] = data.wins_1/(data.losses_1 + data.wins_1)\n",
    "data['win_pct_2'] = data.wins_2/(data.losses_2 + data.wins_2)\n",
    "data['win_pct_diff'] = data.win_pct_1 - data.win_pct_2\n",
    "\n",
    "# Droping unecessary columnns and scaling data\n",
    "# data.drop(['fighter_1', 'fighter_2'], axis = 1, inplace = True)\n",
    "x_cols = ['reach_diff', 'age_diff', 'slpm_diff', 'sapm_diff', 'td_acc_diff', 'td_def_diff',\n",
    "              'td_avg_diff', 'sub_avg_diff', 'strk_acc_diff', 'strk_def_diff', 'wins_diff',\n",
    "              'losses_diff', 'win_pct_diff', 'weight_1', 'age_1', 'strike_diff', 'td_diff']\n",
    "y_col = ['result']\n",
    "x, y = data[x_cols], data[y_col]\n",
    "\n",
    "# Formatting data\n",
    "x = x.values"
   ]
  },
  {
   "cell_type": "code",
   "execution_count": 41,
   "metadata": {},
   "outputs": [],
   "source": [
    "data['Prediction_LGBM_Winner'] = lgbm.predict_proba(x)[:, 1]"
   ]
  },
  {
   "cell_type": "code",
   "execution_count": 46,
   "metadata": {},
   "outputs": [],
   "source": [
    "data.to_csv('mma_data_predictions.csv')"
   ]
  },
  {
   "cell_type": "code",
   "execution_count": null,
   "metadata": {},
   "outputs": [],
   "source": []
  }
 ],
 "metadata": {
  "kernelspec": {
   "display_name": "Python 3 (ipykernel)",
   "language": "python",
   "name": "python3"
  },
  "language_info": {
   "codemirror_mode": {
    "name": "ipython",
    "version": 3
   },
   "file_extension": ".py",
   "mimetype": "text/x-python",
   "name": "python",
   "nbconvert_exporter": "python",
   "pygments_lexer": "ipython3",
   "version": "3.9.13"
  }
 },
 "nbformat": 4,
 "nbformat_minor": 4
}
