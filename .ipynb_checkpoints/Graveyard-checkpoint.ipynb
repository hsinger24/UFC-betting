{
 "cells": [
  {
   "cell_type": "markdown",
   "metadata": {},
   "source": [
    "# Setting Up Environment"
   ]
  },
  {
   "cell_type": "code",
   "execution_count": 13,
   "metadata": {},
   "outputs": [],
   "source": [
    "import pandas as pd\n",
    "import numpy as np\n",
    "import matplotlib.pyplot as plt\n",
    "\n",
    "# from keras.models import Sequential\n",
    "# from keras.layers import Dense\n",
    "# from keras import regularizers\n",
    "# from keras.utils.vis_utils import model_to_dot\n",
    "\n",
    "from sklearn.model_selection import train_test_split\n",
    "from sklearn.preprocessing import StandardScaler\n",
    "from sklearn.ensemble import RandomForestClassifier\n",
    "from sklearn.ensemble import GradientBoostingClassifier\n",
    "from sklearn.model_selection import GridSearchCV\n",
    "from sklearn.metrics import classification_report\n",
    "from sklearn.metrics import matthews_corrcoef\n",
    "from sklearn.linear_model import LogisticRegression\n",
    "from sklearn.svm import SVC\n",
    "from sklearn.metrics import roc_auc_score\n",
    "from sklearn.preprocessing import StandardScaler\n",
    "from sklearn.preprocessing import RobustScaler\n",
    "from sklearn.decomposition import PCA\n",
    "from sklearn.decomposition import KernelPCA\n",
    "from sklearn.discriminant_analysis import LinearDiscriminantAnalysis as LDA\n",
    "from sklearn.utils import resample\n",
    "\n",
    "import gym\n",
    "\n",
    "from stable_baselines3 import PPO\n",
    "from stable_baselines3 import SAC\n",
    "from stable_baselines3 import DDPG\n",
    "from stable_baselines3 import TD3\n",
    "from stable_baselines3.common.vec_env import DummyVecEnv"
   ]
  },
  {
   "cell_type": "code",
   "execution_count": 2,
   "metadata": {},
   "outputs": [],
   "source": [
    "def grid_search_classifier(function, param_grid, cv = 10):\n",
    "    # Running Grid Search\n",
    "    grid_search = GridSearchCV(function, param_grid, cv = cv)\n",
    "    grid_search.fit(x_train, y_train)\n",
    "    \n",
    "    # Outputting results\n",
    "    print(f'Best parameters are: {grid_search.best_params_}\\n')\n",
    "    print(f'Accuracy is: {grid_search.score(x_test, y_test)}\\n')\n",
    "    try:\n",
    "        print(f'AUC score is: {roc_auc_score(y_test, grid_search.predict_proba(x_test)[:, 1])}\\n')\n",
    "    except:\n",
    "        pass\n",
    "    best_model = grid_search.best_estimator_\n",
    "    pred_rf = best_model.predict(x_test)\n",
    "    print(f'Classification report:\\n {classification_report(y_test, pred_rf, target_names = [\"Lower Ranked\", \"Higher Ranked\"])}')\n",
    "    print(f'MCC is: {matthews_corrcoef(y_test, pred_rf)}')\n",
    "    \n",
    "    return best_model"
   ]
  },
  {
   "cell_type": "code",
   "execution_count": 85,
   "metadata": {},
   "outputs": [],
   "source": [
    "data = pd.read_csv('mma_data.csv', index_col=0)\n",
    "\n",
    "# Filtering out unwanted rows\n",
    "data = data[data.result >= 0]\n",
    "data = data[data.slpm_2 + data.sapm_2 != 0]\n",
    "data = data[data.slpm_1 + data.sapm_1 != 0]"
   ]
  },
  {
   "cell_type": "code",
   "execution_count": 86,
   "metadata": {},
   "outputs": [],
   "source": [
    "# Engineering some columns\n",
    "data['reach_diff'] = data.reach_1 - data.reach_2\n",
    "data['age_diff'] = data.age_1 - data.age_2\n",
    "data['slpm_diff'] = data.slpm_1 - data.slpm_2\n",
    "data['sapm_diff'] = data.sapm_1 - data.sapm_2\n",
    "data['td_acc_diff'] = data.td_acc_1 - data.td_acc_2\n",
    "data['td_def_diff'] = data.td_def_1 - data.td_def_2\n",
    "data['td_avg_diff'] = data.td_avg_1 - data.td_avg_2\n",
    "data['sub_avg_diff'] = data.sub_avg_1 - data.sub_avg_2\n",
    "data['strk_acc_diff'] = data.strk_acc_1 - data.strk_acc_2\n",
    "data['strk_def_diff'] = data.strk_def_1 - data.strk_def_2\n",
    "data['wins_diff'] = data.wins_1 - data.wins_2\n",
    "data['losses_diff'] = data.losses_1 - data.losses_2\n",
    "data['win_pct_1'] = data.wins_1/(data.losses_1 + data.wins_1)\n",
    "data['win_pct_2'] = data.wins_2/(data.losses_2 + data.wins_2)\n",
    "data['win_pct_diff'] = data.win_pct_1 - data.win_pct_2\n",
    "\n",
    "# Droping unecessary columnns and scaling data\n",
    "data.drop(['fighter_1', 'fighter_2'], axis = 1, inplace = True)\n",
    "x_cols = ['reach_diff', 'age_diff', 'slpm_diff', 'sapm_diff', 'td_acc_diff', 'td_def_diff',\n",
    "              'td_avg_diff', 'sub_avg_diff', 'strk_acc_diff', 'strk_def_diff', 'wins_diff',\n",
    "              'losses_diff', 'win_pct_diff', 'weight_1', 'age_1']\n",
    "y_col = ['result']\n",
    "x, y = data[x_cols], data[y_col]\n",
    "x_train, x_test, y_train, y_test = train_test_split(x, y, test_size = 0.2, random_state = 0, stratify = y)\n",
    "\n",
    "# Formatting data\n",
    "x_train = x_train.values\n",
    "y_train = y_train.values.ravel()\n",
    "x_test = x_test.values\n",
    "y_test = y_test.values.ravel()"
   ]
  },
  {
   "cell_type": "markdown",
   "metadata": {},
   "source": [
    "# Predicting KO"
   ]
  },
  {
   "cell_type": "code",
   "execution_count": 60,
   "metadata": {},
   "outputs": [],
   "source": [
    "y = data['KO_OVR']\n",
    "\n",
    "# Upsampling KO\n",
    "x_up, y_up = resample(x[y==1], y[y==1], replace = True, random_state = 0, n_samples = x[y==0].shape[0])\n",
    "\n",
    "x = np.vstack((x[y==0], x_up))\n",
    "y = np.hstack((y[y==0], y_up))\n",
    "\n",
    "x_train, x_test, y_train, y_test = train_test_split(x, y, test_size = 0.2, random_state = 0, stratify = y)\n",
    "\n",
    "# Formatting data\n",
    "# x_train = x_train.values\n",
    "# y_train = y_train.values.ravel()\n",
    "# x_test = x_test.values\n",
    "# y_test = y_test.values.ravel()"
   ]
  },
  {
   "cell_type": "markdown",
   "metadata": {},
   "source": [
    "### Setting Baseline"
   ]
  },
  {
   "cell_type": "code",
   "execution_count": 61,
   "metadata": {},
   "outputs": [
    {
     "name": "stdout",
     "output_type": "stream",
     "text": [
      "Always predicting no knockout would yield 61.688311688311686% accuracy\n",
      "Predicting the fighter with the higher SLPM would yield 57.57575757575758% accuracy\n"
     ]
    }
   ],
   "source": [
    "print(f'Always predicting no knockout would yield {100 - data.KO_OVR.mean()*100}% accuracy')\n",
    "\n",
    "df = data.copy()\n",
    "df['Higher_Pct'] = df.slpm_1.apply(lambda x: 1 if x > 0 else 0)\n",
    "df['Result_Tracker'] = df.apply(lambda x: 1 if (x.Higher_Pct == 1) & (x.result == 1)\n",
    "                               else 1 if (x.Higher_Pct == 0) & (x.result == 0)\n",
    "                               else 0, axis = 1)\n",
    "print(f'Predicting the fighter with the higher SLPM would yield {df.Result_Tracker.mean()*100}% accuracy')"
   ]
  },
  {
   "cell_type": "markdown",
   "metadata": {},
   "source": [
    "### Random Forest"
   ]
  },
  {
   "cell_type": "code",
   "execution_count": 62,
   "metadata": {},
   "outputs": [
    {
     "name": "stdout",
     "output_type": "stream",
     "text": [
      "Best parameters are: {'max_depth': 9, 'max_features': 8, 'n_estimators': 15}\n",
      "\n",
      "Accuracy is: 0.7982456140350878\n",
      "\n",
      "AUC score is: 0.912280701754386\n",
      "\n",
      "Classification report:\n",
      "                precision    recall  f1-score   support\n",
      "\n",
      " Lower Ranked       0.85      0.72      0.78        57\n",
      "Higher Ranked       0.76      0.88      0.81        57\n",
      "\n",
      "     accuracy                           0.80       114\n",
      "    macro avg       0.81      0.80      0.80       114\n",
      " weighted avg       0.81      0.80      0.80       114\n",
      "\n",
      "MCC is: 0.6040686963408962\n"
     ]
    }
   ],
   "source": [
    "# Creating parameter grid\n",
    "n_estimators = [int(x) for x in np.linspace(start = 3, stop = 15, num = 13)]\n",
    "max_features = [int(x) for x in np.linspace(start = 3, stop = 10, num = 8)]\n",
    "max_depth = [int(x) for x in np.linspace(start = 1, stop = 10, num = 10)]\n",
    "param_grid = {\n",
    "    'n_estimators' : n_estimators,\n",
    "    'max_features' : max_features,\n",
    "    'max_depth' : max_depth\n",
    "}\n",
    "\n",
    "# Running ML function\n",
    "rf = grid_search_classifier(RandomForestClassifier(random_state = 0), param_grid)"
   ]
  },
  {
   "cell_type": "markdown",
   "metadata": {},
   "source": [
    "### Gradient Boost"
   ]
  },
  {
   "cell_type": "code",
   "execution_count": 63,
   "metadata": {},
   "outputs": [
    {
     "name": "stdout",
     "output_type": "stream",
     "text": [
      "Best parameters are: {'max_depth': 10, 'max_features': 3, 'n_estimators': 13}\n",
      "\n",
      "Accuracy is: 0.8947368421052632\n",
      "\n",
      "AUC score is: 0.956294244382887\n",
      "\n",
      "Classification report:\n",
      "                precision    recall  f1-score   support\n",
      "\n",
      " Lower Ranked       0.92      0.86      0.89        57\n",
      "Higher Ranked       0.87      0.93      0.90        57\n",
      "\n",
      "     accuracy                           0.89       114\n",
      "    macro avg       0.90      0.89      0.89       114\n",
      " weighted avg       0.90      0.89      0.89       114\n",
      "\n",
      "MCC is: 0.7914248115215929\n"
     ]
    }
   ],
   "source": [
    "# Creating parameter grid\n",
    "n_estimators = [int(x) for x in np.linspace(start = 3, stop = 15, num = 13)]\n",
    "max_features = [int(x) for x in np.linspace(start = 3, stop = 10, num = 8)]\n",
    "max_depth = [int(x) for x in np.linspace(start = 1, stop = 10, num = 10)]\n",
    "param_grid = {\n",
    "    'n_estimators' : n_estimators,\n",
    "    'max_features' : max_features,\n",
    "    'max_depth' : max_depth\n",
    "}\n",
    "\n",
    "# Running ML function\n",
    "gb = grid_search_classifier(GradientBoostingClassifier(random_state = 0), param_grid)"
   ]
  },
  {
   "cell_type": "markdown",
   "metadata": {},
   "source": [
    "### Logistic Regression"
   ]
  },
  {
   "cell_type": "code",
   "execution_count": 72,
   "metadata": {},
   "outputs": [],
   "source": [
    "scaler = StandardScaler()\n",
    "x_train = scaler.fit_transform(x_train)\n",
    "x_test = scaler.transform(x_test)\n",
    "\n",
    "# Creating parameter grid\n",
    "\n",
    "c = [0.001, 0.01, 0.1, 1, 10, 100]\n",
    "param_grid = {\n",
    "    'C' : c\n",
    "}\n",
    "\n",
    "# Running ML function\n",
    "lr = grid_search_classifier(LogisticRegression(random_state = 0, max_iter = 500), param_grid)"
   ]
  },
  {
   "cell_type": "markdown",
   "metadata": {},
   "source": [
    "### SVM"
   ]
  },
  {
   "cell_type": "code",
   "execution_count": 47,
   "metadata": {},
   "outputs": [
    {
     "name": "stdout",
     "output_type": "stream",
     "text": [
      "Best parameters are: {'C': 10, 'degree': 5, 'kernel': 'poly'}\n",
      "\n",
      "Accuracy is: 0.5609756097560976\n",
      "\n",
      "Classification report:\n",
      "                precision    recall  f1-score   support\n",
      "\n",
      " Lower Ranked       0.59      0.84      0.69        49\n",
      "Higher Ranked       0.38      0.15      0.22        33\n",
      "\n",
      "     accuracy                           0.56        82\n",
      "    macro avg       0.49      0.49      0.46        82\n",
      " weighted avg       0.51      0.56      0.50        82\n",
      "\n"
     ]
    }
   ],
   "source": [
    "# Creating parameter grid\n",
    "\n",
    "kernel = ['rbf', 'poly', 'sigmoid']\n",
    "degree = [int(x) for x in np.linspace(start = 2, stop = 7, num = 5)]\n",
    "c = [0.001, 0.01, 0.1, 1, 10, 100]\n",
    "param_grid = {\n",
    "    'C' : c,\n",
    "    'kernel' : kernel,\n",
    "    'degree' : degree\n",
    "}\n",
    "\n",
    "# Running ML function\n",
    "svm = grid_search_classifier(SVC(random_state = 0), param_grid)"
   ]
  },
  {
   "cell_type": "markdown",
   "metadata": {},
   "source": [
    "# Predicting SUB"
   ]
  },
  {
   "cell_type": "markdown",
   "metadata": {},
   "source": [
    "### Setting Up Data"
   ]
  },
  {
   "cell_type": "code",
   "execution_count": 90,
   "metadata": {},
   "outputs": [],
   "source": [
    "x, y = data[x_cols], data['SUB_OVR']\n",
    "\n",
    "# Upsampling KO\n",
    "x_up, y_up = resample(x[y==1], y[y==1], replace = True, random_state = 0, n_samples = x[y==0].shape[0])\n",
    "\n",
    "x = np.vstack((x[y==0], x_up))\n",
    "y = np.hstack((y[y==0], y_up))\n",
    "\n",
    "x_train, x_test, y_train, y_test = train_test_split(x, y, test_size = 0.2, random_state = 0, stratify = y)"
   ]
  },
  {
   "cell_type": "markdown",
   "metadata": {},
   "source": [
    "### Setting Baseline"
   ]
  },
  {
   "cell_type": "code",
   "execution_count": 91,
   "metadata": {},
   "outputs": [
    {
     "name": "stdout",
     "output_type": "stream",
     "text": [
      "Always predicting no sub would yield 80.73593073593074% accuracy\n"
     ]
    }
   ],
   "source": [
    "print(f'Always predicting no sub would yield {100 - data.SUB_OVR.mean()*100}% accuracy')"
   ]
  },
  {
   "cell_type": "markdown",
   "metadata": {},
   "source": [
    "### Random Forest"
   ]
  },
  {
   "cell_type": "code",
   "execution_count": 92,
   "metadata": {},
   "outputs": [
    {
     "name": "stdout",
     "output_type": "stream",
     "text": [
      "Best parameters are: {'max_depth': 9, 'max_features': 3, 'n_estimators': 14}\n",
      "\n",
      "Accuracy is: 0.96\n",
      "\n",
      "AUC score is: 0.9939555555555556\n",
      "\n",
      "Classification report:\n",
      "                precision    recall  f1-score   support\n",
      "\n",
      " Lower Ranked       0.97      0.95      0.96        75\n",
      "Higher Ranked       0.95      0.97      0.96        75\n",
      "\n",
      "     accuracy                           0.96       150\n",
      "    macro avg       0.96      0.96      0.96       150\n",
      " weighted avg       0.96      0.96      0.96       150\n",
      "\n",
      "MCC is: 0.9203272856738179\n"
     ]
    }
   ],
   "source": [
    "# Creating parameter grid\n",
    "n_estimators = [int(x) for x in np.linspace(start = 3, stop = 15, num = 13)]\n",
    "max_features = [int(x) for x in np.linspace(start = 3, stop = 10, num = 8)]\n",
    "max_depth = [int(x) for x in np.linspace(start = 1, stop = 10, num = 10)]\n",
    "param_grid = {\n",
    "    'n_estimators' : n_estimators,\n",
    "    'max_features' : max_features,\n",
    "    'max_depth' : max_depth\n",
    "}\n",
    "\n",
    "# Running ML function\n",
    "rf = grid_search_classifier(RandomForestClassifier(random_state = 0), param_grid)"
   ]
  },
  {
   "cell_type": "markdown",
   "metadata": {},
   "source": [
    "### Gradient Boost"
   ]
  },
  {
   "cell_type": "code",
   "execution_count": 93,
   "metadata": {},
   "outputs": [
    {
     "name": "stdout",
     "output_type": "stream",
     "text": [
      "Best parameters are: {'max_depth': 10, 'max_features': 4, 'n_estimators': 12}\n",
      "\n",
      "Accuracy is: 0.92\n",
      "\n",
      "AUC score is: 0.9989333333333333\n",
      "\n",
      "Classification report:\n",
      "                precision    recall  f1-score   support\n",
      "\n",
      " Lower Ranked       1.00      0.84      0.91        75\n",
      "Higher Ranked       0.86      1.00      0.93        75\n",
      "\n",
      "     accuracy                           0.92       150\n",
      "    macro avg       0.93      0.92      0.92       150\n",
      " weighted avg       0.93      0.92      0.92       150\n",
      "\n",
      "MCC is: 0.8509629433967631\n"
     ]
    }
   ],
   "source": [
    "# Creating parameter grid\n",
    "n_estimators = [int(x) for x in np.linspace(start = 3, stop = 15, num = 13)]\n",
    "max_features = [int(x) for x in np.linspace(start = 3, stop = 10, num = 8)]\n",
    "max_depth = [int(x) for x in np.linspace(start = 1, stop = 10, num = 10)]\n",
    "param_grid = {\n",
    "    'n_estimators' : n_estimators,\n",
    "    'max_features' : max_features,\n",
    "    'max_depth' : max_depth\n",
    "}\n",
    "\n",
    "# Running ML function\n",
    "gb = grid_search_classifier(GradientBoostingClassifier(random_state = 0), param_grid)"
   ]
  },
  {
   "cell_type": "markdown",
   "metadata": {},
   "source": [
    "### Logistic Regression"
   ]
  },
  {
   "cell_type": "code",
   "execution_count": 94,
   "metadata": {},
   "outputs": [
    {
     "name": "stdout",
     "output_type": "stream",
     "text": [
      "Best parameters are: {'C': 0.001}\n",
      "\n",
      "Accuracy is: 0.6133333333333333\n",
      "\n",
      "AUC score is: 0.648888888888889\n",
      "\n",
      "Classification report:\n",
      "                precision    recall  f1-score   support\n",
      "\n",
      " Lower Ranked       0.62      0.59      0.60        75\n",
      "Higher Ranked       0.61      0.64      0.62        75\n",
      "\n",
      "     accuracy                           0.61       150\n",
      "    macro avg       0.61      0.61      0.61       150\n",
      " weighted avg       0.61      0.61      0.61       150\n",
      "\n",
      "MCC is: 0.22698972639472081\n"
     ]
    }
   ],
   "source": [
    "scaler = StandardScaler()\n",
    "x_train = scaler.fit_transform(x_train)\n",
    "x_test = scaler.transform(x_test)\n",
    "\n",
    "# Creating parameter grid\n",
    "\n",
    "c = [0.001, 0.01, 0.1, 1, 10, 100]\n",
    "param_grid = {\n",
    "    'C' : c\n",
    "}\n",
    "\n",
    "# Running ML function\n",
    "lr = grid_search_classifier(LogisticRegression(random_state = 0, max_iter = 500, class_weight = 'balanced'), param_grid)"
   ]
  },
  {
   "cell_type": "markdown",
   "metadata": {},
   "source": [
    "### SVM"
   ]
  },
  {
   "cell_type": "code",
   "execution_count": 95,
   "metadata": {},
   "outputs": [
    {
     "name": "stdout",
     "output_type": "stream",
     "text": [
      "Best parameters are: {'C': 100, 'degree': 2, 'kernel': 'rbf'}\n",
      "\n",
      "Accuracy is: 0.9\n",
      "\n",
      "Classification report:\n",
      "                precision    recall  f1-score   support\n",
      "\n",
      " Lower Ranked       1.00      0.80      0.89        75\n",
      "Higher Ranked       0.83      1.00      0.91        75\n",
      "\n",
      "     accuracy                           0.90       150\n",
      "    macro avg       0.92      0.90      0.90       150\n",
      " weighted avg       0.92      0.90      0.90       150\n",
      "\n",
      "MCC is: 0.816496580927726\n"
     ]
    }
   ],
   "source": [
    "# Creating parameter grid\n",
    "\n",
    "kernel = ['rbf', 'poly', 'sigmoid']\n",
    "degree = [int(x) for x in np.linspace(start = 2, stop = 7, num = 5)]\n",
    "c = [0.001, 0.01, 0.1, 1, 10, 100]\n",
    "param_grid = {\n",
    "    'C' : c,\n",
    "    'kernel' : kernel,\n",
    "    'degree' : degree\n",
    "}\n",
    "\n",
    "# Running ML function\n",
    "svm = grid_search_classifier(SVC(random_state = 0), param_grid)"
   ]
  },
  {
   "cell_type": "code",
   "execution_count": null,
   "metadata": {},
   "outputs": [],
   "source": []
  }
 ],
 "metadata": {
  "kernelspec": {
   "display_name": "Python 3",
   "language": "python",
   "name": "python3"
  },
  "language_info": {
   "codemirror_mode": {
    "name": "ipython",
    "version": 3
   },
   "file_extension": ".py",
   "mimetype": "text/x-python",
   "name": "python",
   "nbconvert_exporter": "python",
   "pygments_lexer": "ipython3",
   "version": "3.7.6"
  }
 },
 "nbformat": 4,
 "nbformat_minor": 4
}
