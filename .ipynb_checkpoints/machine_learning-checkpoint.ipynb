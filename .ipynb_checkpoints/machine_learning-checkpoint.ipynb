{
 "cells": [
  {
   "cell_type": "markdown",
   "metadata": {},
   "source": [
    "# Imports"
   ]
  },
  {
   "cell_type": "code",
   "execution_count": 1,
   "metadata": {},
   "outputs": [],
   "source": [
    "import pandas as pd\n",
    "import numpy as np\n",
    "from sklearn.model_selection import train_test_split\n",
    "from sklearn.preprocessing import StandardScaler\n",
    "from keras.models import Sequential\n",
    "from keras.layers import Dense\n",
    "from keras import regularizers\n",
    "import pydot\n",
    "from IPython.display import SVG\n",
    "from keras.utils.vis_utils import model_to_dot\n",
    "from sklearn.ensemble import RandomForestClassifier\n",
    "from sklearn.ensemble import GradientBoostingClassifier\n",
    "from sklearn.model_selection import GridSearchCV\n",
    "from sklearn.metrics import classification_report\n",
    "from sklearn.linear_model import LogisticRegression\n",
    "from sklearn.svm import SVC\n",
    "from sklearn.metrics import roc_auc_score"
   ]
  },
  {
   "cell_type": "markdown",
   "metadata": {},
   "source": [
    "# Functions"
   ]
  },
  {
   "cell_type": "code",
   "execution_count": 2,
   "metadata": {},
   "outputs": [],
   "source": [
    "def grid_search_classifier(function, param_grid, cv = 4):\n",
    "    # Running Grid Search\n",
    "    grid_search = GridSearchCV(function, param_grid, cv = cv)\n",
    "    grid_search.fit(x_train, y_train)\n",
    "    \n",
    "    # Outputting results\n",
    "    print(f'Best parameters are: {grid_search.best_params_}\\n')\n",
    "    print(f'Accuracy is: {grid_search.score(x_test, y_test)}\\n')\n",
    "    try:\n",
    "        print(f'AUC score is: {roc_auc_score(y_test, grid_search.predict_proba(x_test)[:, 1])}\\n')\n",
    "    except:\n",
    "        pass\n",
    "    best_model = grid_search.best_estimator_\n",
    "    pred_rf = best_model.predict(x_test)\n",
    "    print(f'Classification report:\\n {classification_report(y_test, pred_rf, target_names = [\"Lower Ranked\", \"Higher Ranked\"])}')\n",
    "    \n",
    "    return best_model"
   ]
  },
  {
   "cell_type": "markdown",
   "metadata": {},
   "source": [
    "# Data work"
   ]
  },
  {
   "cell_type": "code",
   "execution_count": 3,
   "metadata": {},
   "outputs": [],
   "source": [
    "data = pd.read_csv('mma_data.csv', index_col=0)\n",
    "\n",
    "# Filtering out unwanted rows\n",
    "data = data[data.result!=-2]\n",
    "data = data[data.slpm_2 + data.sapm_2 != 0]\n",
    "data = data[data.slpm_1 + data.sapm_1 != 0]"
   ]
  },
  {
   "cell_type": "code",
   "execution_count": 4,
   "metadata": {},
   "outputs": [],
   "source": [
    "# Engineering some columns\n",
    "data['reach_diff'] = data.reach_1 - data.reach_2\n",
    "data['age_diff'] = data.age_1 - data.age_2\n",
    "data['slpm_diff'] = data.slpm_1 - data.slpm_2\n",
    "data['sapm_diff'] = data.sapm_1 - data.sapm_2\n",
    "data['td_acc_diff'] = data.td_acc_1 - data.td_acc_2\n",
    "data['td_def_diff'] = data.td_def_1 - data.td_def_2\n",
    "data['td_avg_diff'] = data.td_avg_1 - data.td_avg_2\n",
    "data['sub_avg_diff'] = data.sub_avg_1 - data.sub_avg_2\n",
    "data['strk_acc_diff'] = data.strk_acc_1 - data.strk_acc_2\n",
    "data['strk_def_diff'] = data.strk_def_1 - data.strk_def_2\n",
    "data['wins_diff'] = data.wins_1 - data.wins_2\n",
    "data['losses_diff'] = data.losses_1 - data.losses_2\n",
    "data['win_pct_1'] = data.wins_1/(data.losses_1 + data.wins_1)\n",
    "data['win_pct_2'] = data.wins_2/(data.losses_2 + data.wins_2)\n",
    "data['win_pct_diff'] = data.win_pct_1 - data.win_pct_2\n",
    "\n",
    "# Droping unecessary columnns and scaling data\n",
    "data.drop(['fighter_1', 'fighter_2'], axis = 1, inplace = True)\n",
    "x_cols = ['reach_diff', 'age_diff', 'slpm_diff', 'sapm_diff', 'td_acc_diff', 'td_def_diff',\n",
    "              'td_avg_diff', 'sub_avg_diff', 'strk_acc_diff', 'strk_def_diff', 'wins_diff',\n",
    "              'losses_diff', 'win_pct_diff', 'weight_1']\n",
    "y_col = ['result']\n",
    "x, y = data[x_cols], data[y_col]\n",
    "x_train, x_test, y_train, y_test = train_test_split(x, y, test_size = 0.2, random_state = 0)\n",
    "\n",
    "# Formatting data\n",
    "x_train = x_train.values\n",
    "y_train = y_train.values.ravel()\n",
    "x_test = x_test.values\n",
    "y_test = y_test.values.ravel()"
   ]
  },
  {
   "cell_type": "markdown",
   "metadata": {},
   "source": [
    "# Predicting Winner"
   ]
  },
  {
   "cell_type": "markdown",
   "metadata": {},
   "source": [
    "### Setting Baseline"
   ]
  },
  {
   "cell_type": "code",
   "execution_count": 5,
   "metadata": {},
   "outputs": [
    {
     "name": "stdout",
     "output_type": "stream",
     "text": [
      "Predicting fighter 1 would yield 57.21271393643031% accuracy\n",
      "Predicting the fighter with the higher win percentage would yield 55.74572127139364% accuracy\n"
     ]
    }
   ],
   "source": [
    "print(f'Predicting fighter 1 would yield {data.result.mean()*100}% accuracy')\n",
    "\n",
    "df = data.copy()\n",
    "df['Higher_Pct'] = df.win_pct_diff.apply(lambda x: 1 if x > 0 else 0)\n",
    "df['Result_Tracker'] = df.apply(lambda x: 1 if (x.Higher_Pct == 1) & (x.result == 1)\n",
    "                               else 1 if (x.Higher_Pct == 0) & (x.result == 0)\n",
    "                               else 0, axis = 1)\n",
    "print(f'Predicting the fighter with the higher win percentage would yield {df.Result_Tracker.mean()*100}% accuracy')"
   ]
  },
  {
   "cell_type": "markdown",
   "metadata": {},
   "source": [
    "### Neural Network"
   ]
  },
  {
   "cell_type": "code",
   "execution_count": 6,
   "metadata": {},
   "outputs": [],
   "source": [
    "# Scaling data\n",
    "scaler = StandardScaler()\n",
    "x_train_scaled = scaler.fit_transform(x_train)\n",
    "x_test_scaled = scaler.transform(x_test)\n",
    "\n",
    "# Instantiating NN model\n",
    "model = Sequential()\n",
    "model.add(Dense(16, input_dim=x_train_scaled.shape[1],\n",
    "                activation='relu', kernel_regularizer=regularizers.l2(0.01)))\n",
    "model.add(Dense(32, activation='relu', kernel_regularizer=regularizers.l2(0.01)))\n",
    "model.add(Dense(32, activation='relu', kernel_regularizer=regularizers.l2(0.01)))\n",
    "model.add(Dense(16, activation='relu', kernel_regularizer=regularizers.l2(0.01)))\n",
    "model.add(Dense(1, activation='sigmoid'))\n",
    "model.compile(loss='binary_crossentropy', optimizer='Adam', metrics=['accuracy'])"
   ]
  },
  {
   "cell_type": "code",
   "execution_count": 7,
   "metadata": {},
   "outputs": [
    {
     "name": "stdout",
     "output_type": "stream",
     "text": [
      "Test Accuracy = 0.5487805008888245\n"
     ]
    }
   ],
   "source": [
    "model.fit(x=x_train_scaled, y=y_train, epochs=200, batch_size=64, verbose=0)\n",
    "test_results = model.evaluate(x = x_test_scaled, y = y_test, verbose=0)\n",
    "print(\"Test Accuracy = {}\".format(test_results[1]))"
   ]
  },
  {
   "cell_type": "markdown",
   "metadata": {},
   "source": [
    "### Random Forest"
   ]
  },
  {
   "cell_type": "code",
   "execution_count": 8,
   "metadata": {},
   "outputs": [
    {
     "name": "stdout",
     "output_type": "stream",
     "text": [
      "Best parameters are: {'max_depth': 4, 'max_features': 5, 'n_estimators': 15}\n",
      "\n",
      "Accuracy is: 0.5853658536585366\n",
      "\n",
      "AUC score is: 0.5603864734299516\n",
      "\n",
      "Classification report:\n",
      "                precision    recall  f1-score   support\n",
      "\n",
      " Lower Ranked       0.55      0.31      0.39        36\n",
      "Higher Ranked       0.60      0.80      0.69        46\n",
      "\n",
      "     accuracy                           0.59        82\n",
      "    macro avg       0.57      0.55      0.54        82\n",
      " weighted avg       0.58      0.59      0.56        82\n",
      "\n"
     ]
    }
   ],
   "source": [
    "# Creating parameter grid\n",
    "n_estimators = [int(x) for x in np.linspace(start = 3, stop = 15, num = 13)]\n",
    "max_features = [int(x) for x in np.linspace(start = 3, stop = 10, num = 8)]\n",
    "max_depth = [int(x) for x in np.linspace(start = 1, stop = 10, num = 10)]\n",
    "param_grid = {\n",
    "    'n_estimators' : n_estimators,\n",
    "    'max_features' : max_features,\n",
    "    'max_depth' : max_depth\n",
    "}\n",
    "\n",
    "# Running ML function\n",
    "rf = grid_search_classifier(RandomForestClassifier(random_state = 0), param_grid)"
   ]
  },
  {
   "cell_type": "markdown",
   "metadata": {},
   "source": [
    "### Gradient Boost"
   ]
  },
  {
   "cell_type": "code",
   "execution_count": null,
   "metadata": {},
   "outputs": [],
   "source": [
    "# Creating parameter grid\n",
    "n_estimators = [int(x) for x in np.linspace(start = 3, stop = 15, num = 13)]\n",
    "max_features = [int(x) for x in np.linspace(start = 3, stop = 10, num = 8)]\n",
    "max_depth = [int(x) for x in np.linspace(start = 1, stop = 10, num = 10)]\n",
    "param_grid = {\n",
    "    'n_estimators' : n_estimators,\n",
    "    'max_features' : max_features,\n",
    "    'max_depth' : max_depth\n",
    "}\n",
    "\n",
    "# Running ML function\n",
    "gb = grid_search_classifier(GradientBoostingClassifier(random_state = 0), param_grid)"
   ]
  },
  {
   "cell_type": "markdown",
   "metadata": {},
   "source": [
    "### Logistic Regression"
   ]
  },
  {
   "cell_type": "code",
   "execution_count": null,
   "metadata": {},
   "outputs": [],
   "source": [
    "# Creating parameter grid\n",
    "\n",
    "c = [0.001, 0.01, 0.1, 1, 10, 100]\n",
    "param_grid = {\n",
    "    'C' : c\n",
    "}\n",
    "\n",
    "# Running ML function\n",
    "lr = grid_search_classifier(LogisticRegression(random_state = 0, max_iter = 500), param_grid)"
   ]
  },
  {
   "cell_type": "markdown",
   "metadata": {},
   "source": [
    "### SVM"
   ]
  },
  {
   "cell_type": "code",
   "execution_count": null,
   "metadata": {},
   "outputs": [],
   "source": [
    "# Creating parameter grid\n",
    "\n",
    "kernel = ['rbf', 'poly', 'sigmoid']\n",
    "degree = [int(x) for x in np.linspace(start = 2, stop = 7, num = 5)]\n",
    "c = [0.001, 0.01, 0.1, 1, 10, 100]\n",
    "param_grid = {\n",
    "    'C' : c,\n",
    "    'kernel' : kernel,\n",
    "    'degree' : degree\n",
    "}\n",
    "\n",
    "# Running ML function\n",
    "svm = grid_search_classifier(SVC(random_state = 0), param_grid)"
   ]
  },
  {
   "cell_type": "markdown",
   "metadata": {},
   "source": [
    "### Naive Bayes"
   ]
  },
  {
   "cell_type": "code",
   "execution_count": null,
   "metadata": {},
   "outputs": [],
   "source": [
    "# Creating parameter grid\n",
    "\n",
    "var_smoothing = [int(1**x) for x in np.linspace(start = -9, stop = 0, num = 10)]\n",
    "param_grid = {\n",
    "    'var_smoothing' : var_smoothing\n",
    "}\n",
    "\n",
    "# Running ML function\n",
    "grid_search_classifier(GaussianNB(random_state = 0), param_grid)"
   ]
  },
  {
   "cell_type": "markdown",
   "metadata": {},
   "source": [
    "### Ensemble"
   ]
  },
  {
   "cell_type": "code",
   "execution_count": 31,
   "metadata": {
    "scrolled": true
   },
   "outputs": [
    {
     "name": "stdout",
     "output_type": "stream",
     "text": [
      "Best parameters are: {'C': 0.01}\n",
      "\n",
      "Accuracy is: 0.6103896103896104\n",
      "\n",
      "AUC score is: 0.6336088154269972\n",
      "\n",
      "Classification report:\n",
      "                precision    recall  f1-score   support\n",
      "\n",
      " Lower Ranked       0.57      0.36      0.44        33\n",
      "Higher Ranked       0.62      0.80      0.70        44\n",
      "\n",
      "     accuracy                           0.61        77\n",
      "    macro avg       0.60      0.58      0.57        77\n",
      " weighted avg       0.60      0.61      0.59        77\n",
      "\n"
     ]
    }
   ],
   "source": [
    "x = x.values\n",
    "\n",
    "# Iterating over models to create prediction columns\n",
    "models = [rf, gb, lr, svm]\n",
    "names = ['rf', 'gb', 'lr', 'svm']\n",
    "for model, name in zip(models, names):\n",
    "    try:\n",
    "        data[f'{name}_pred'] = model.predict_proba(x)\n",
    "    except:\n",
    "        data[f'{name}_pred'] = model.predict(x)\n",
    "\n",
    "# Re-formatting data\n",
    "x_ensemble, y_ensemble = data[x_cols], data[y_col]\n",
    "x_train_ensemble, x_test_ensemble, y_train_ensemble, y_test_ensemble = train_test_split(x_ensemble, y_ensemble, test_size = 0.2, random_state = 0)\n",
    "\n",
    "x_train_ensemble = x_train_ensemble.values\n",
    "y_train_ensemble = y_train_ensemble.values.ravel()\n",
    "x_test_ensemble = x_test_ensemble.values\n",
    "y_test_ensemble = y_test_ensemble.values.ravel()\n",
    "\n",
    "# Creating parameter grid\n",
    "c = [0.001, 0.01, 0.1, 1, 10, 100]\n",
    "param_grid = {\n",
    "    'C' : c\n",
    "}\n",
    "\n",
    "# Running Logistic\n",
    "\n",
    "# Running Grid Search\n",
    "grid_search = GridSearchCV(LogisticRegression(random_state = 0, max_iter = 500), param_grid, cv = 4)\n",
    "grid_search.fit(x_train_ensemble, y_train_ensemble)\n",
    "\n",
    "# Outputting results\n",
    "print(f'Best parameters are: {grid_search.best_params_}\\n')\n",
    "print(f'Accuracy is: {grid_search.score(x_test_ensemble, y_test_ensemble)}\\n')\n",
    "try:\n",
    "    print(f'AUC score is: {roc_auc_score(y_test_ensemble, grid_search.predict_proba(x_test)[:, 1])}\\n')\n",
    "except:\n",
    "    pass\n",
    "ensemble = grid_search.best_estimator_\n",
    "pred_rf = ensemble.predict(x_test_ensemble)\n",
    "print(f'Classification report:\\n {classification_report(y_test_ensemble, pred_rf, target_names = [\"Lower Ranked\", \"Higher Ranked\"])}')\n",
    "    "
   ]
  },
  {
   "cell_type": "markdown",
   "metadata": {},
   "source": [
    "# Predicting KO"
   ]
  },
  {
   "cell_type": "code",
   "execution_count": 43,
   "metadata": {},
   "outputs": [],
   "source": [
    "y = data['KO_OVR']\n",
    "x_train, x_test, y_train, y_test = train_test_split(x, y, test_size = 0.2, random_state = 0)\n",
    "\n",
    "# Formatting data\n",
    "x_train = x_train.values\n",
    "y_train = y_train.values.ravel()\n",
    "x_test = x_test.values\n",
    "y_test = y_test.values.ravel()"
   ]
  },
  {
   "cell_type": "markdown",
   "metadata": {},
   "source": [
    "### Setting Baseline"
   ]
  },
  {
   "cell_type": "code",
   "execution_count": 41,
   "metadata": {},
   "outputs": [
    {
     "name": "stdout",
     "output_type": "stream",
     "text": [
      "Always predicting no knockout would yield 62.836185819070906% accuracy\n",
      "Predicting the fighter with the higher SLPM would yield 57.21271393643031% accuracy\n"
     ]
    }
   ],
   "source": [
    "print(f'Always predicting no knockout would yield {100 - data.KO_OVR.mean()*100}% accuracy')\n",
    "\n",
    "df = data.copy()\n",
    "df['Higher_Pct'] = df.slpm_1.apply(lambda x: 1 if x > 0 else 0)\n",
    "df['Result_Tracker'] = df.apply(lambda x: 1 if (x.Higher_Pct == 1) & (x.result == 1)\n",
    "                               else 1 if (x.Higher_Pct == 0) & (x.result == 0)\n",
    "                               else 0, axis = 1)\n",
    "print(f'Predicting the fighter with the higher SLPM would yield {df.Result_Tracker.mean()*100}% accuracy')"
   ]
  },
  {
   "cell_type": "markdown",
   "metadata": {},
   "source": [
    "### Random Forest"
   ]
  },
  {
   "cell_type": "code",
   "execution_count": 44,
   "metadata": {},
   "outputs": [
    {
     "name": "stdout",
     "output_type": "stream",
     "text": [
      "Best parameters are: {'max_depth': 6, 'max_features': 8, 'n_estimators': 15}\n",
      "\n",
      "Accuracy is: 0.524390243902439\n",
      "\n",
      "AUC score is: 0.4155844155844156\n",
      "\n",
      "Classification report:\n",
      "                precision    recall  f1-score   support\n",
      "\n",
      " Lower Ranked       0.58      0.76      0.65        49\n",
      "Higher Ranked       0.33      0.18      0.24        33\n",
      "\n",
      "     accuracy                           0.52        82\n",
      "    macro avg       0.46      0.47      0.45        82\n",
      " weighted avg       0.48      0.52      0.49        82\n",
      "\n"
     ]
    }
   ],
   "source": [
    "# Creating parameter grid\n",
    "n_estimators = [int(x) for x in np.linspace(start = 3, stop = 15, num = 13)]\n",
    "max_features = [int(x) for x in np.linspace(start = 3, stop = 10, num = 8)]\n",
    "max_depth = [int(x) for x in np.linspace(start = 1, stop = 10, num = 10)]\n",
    "param_grid = {\n",
    "    'n_estimators' : n_estimators,\n",
    "    'max_features' : max_features,\n",
    "    'max_depth' : max_depth\n",
    "}\n",
    "\n",
    "# Running ML function\n",
    "rf = grid_search_classifier(RandomForestClassifier(random_state = 0), param_grid)"
   ]
  },
  {
   "cell_type": "markdown",
   "metadata": {},
   "source": [
    "### Gradient Boost"
   ]
  },
  {
   "cell_type": "code",
   "execution_count": 45,
   "metadata": {},
   "outputs": [
    {
     "name": "stdout",
     "output_type": "stream",
     "text": [
      "Best parameters are: {'max_depth': 10, 'max_features': 10, 'n_estimators': 6}\n",
      "\n",
      "Accuracy is: 0.5121951219512195\n",
      "\n",
      "AUC score is: 0.4001236858379716\n",
      "\n",
      "Classification report:\n",
      "                precision    recall  f1-score   support\n",
      "\n",
      " Lower Ranked       0.57      0.76      0.65        49\n",
      "Higher Ranked       0.29      0.15      0.20        33\n",
      "\n",
      "     accuracy                           0.51        82\n",
      "    macro avg       0.43      0.45      0.42        82\n",
      " weighted avg       0.46      0.51      0.47        82\n",
      "\n"
     ]
    }
   ],
   "source": [
    "# Creating parameter grid\n",
    "n_estimators = [int(x) for x in np.linspace(start = 3, stop = 15, num = 13)]\n",
    "max_features = [int(x) for x in np.linspace(start = 3, stop = 10, num = 8)]\n",
    "max_depth = [int(x) for x in np.linspace(start = 1, stop = 10, num = 10)]\n",
    "param_grid = {\n",
    "    'n_estimators' : n_estimators,\n",
    "    'max_features' : max_features,\n",
    "    'max_depth' : max_depth\n",
    "}\n",
    "\n",
    "# Running ML function\n",
    "gb = grid_search_classifier(GradientBoostingClassifier(random_state = 0), param_grid)"
   ]
  },
  {
   "cell_type": "markdown",
   "metadata": {},
   "source": [
    "### Logistic Regression"
   ]
  },
  {
   "cell_type": "code",
   "execution_count": 46,
   "metadata": {},
   "outputs": [
    {
     "name": "stderr",
     "output_type": "stream",
     "text": [
      "/Users/hsinger24/Desktop/Programming/anaconda3/lib/python3.7/site-packages/sklearn/linear_model/_logistic.py:940: ConvergenceWarning: lbfgs failed to converge (status=1):\n",
      "STOP: TOTAL NO. of ITERATIONS REACHED LIMIT.\n",
      "\n",
      "Increase the number of iterations (max_iter) or scale the data as shown in:\n",
      "    https://scikit-learn.org/stable/modules/preprocessing.html\n",
      "Please also refer to the documentation for alternative solver options:\n",
      "    https://scikit-learn.org/stable/modules/linear_model.html#logistic-regression\n",
      "  extra_warning_msg=_LOGISTIC_SOLVER_CONVERGENCE_MSG)\n",
      "/Users/hsinger24/Desktop/Programming/anaconda3/lib/python3.7/site-packages/sklearn/linear_model/_logistic.py:940: ConvergenceWarning: lbfgs failed to converge (status=1):\n",
      "STOP: TOTAL NO. of ITERATIONS REACHED LIMIT.\n",
      "\n",
      "Increase the number of iterations (max_iter) or scale the data as shown in:\n",
      "    https://scikit-learn.org/stable/modules/preprocessing.html\n",
      "Please also refer to the documentation for alternative solver options:\n",
      "    https://scikit-learn.org/stable/modules/linear_model.html#logistic-regression\n",
      "  extra_warning_msg=_LOGISTIC_SOLVER_CONVERGENCE_MSG)\n",
      "/Users/hsinger24/Desktop/Programming/anaconda3/lib/python3.7/site-packages/sklearn/linear_model/_logistic.py:940: ConvergenceWarning: lbfgs failed to converge (status=1):\n",
      "STOP: TOTAL NO. of ITERATIONS REACHED LIMIT.\n",
      "\n",
      "Increase the number of iterations (max_iter) or scale the data as shown in:\n",
      "    https://scikit-learn.org/stable/modules/preprocessing.html\n",
      "Please also refer to the documentation for alternative solver options:\n",
      "    https://scikit-learn.org/stable/modules/linear_model.html#logistic-regression\n",
      "  extra_warning_msg=_LOGISTIC_SOLVER_CONVERGENCE_MSG)\n",
      "/Users/hsinger24/Desktop/Programming/anaconda3/lib/python3.7/site-packages/sklearn/linear_model/_logistic.py:940: ConvergenceWarning: lbfgs failed to converge (status=1):\n",
      "STOP: TOTAL NO. of ITERATIONS REACHED LIMIT.\n",
      "\n",
      "Increase the number of iterations (max_iter) or scale the data as shown in:\n",
      "    https://scikit-learn.org/stable/modules/preprocessing.html\n",
      "Please also refer to the documentation for alternative solver options:\n",
      "    https://scikit-learn.org/stable/modules/linear_model.html#logistic-regression\n",
      "  extra_warning_msg=_LOGISTIC_SOLVER_CONVERGENCE_MSG)\n",
      "/Users/hsinger24/Desktop/Programming/anaconda3/lib/python3.7/site-packages/sklearn/linear_model/_logistic.py:940: ConvergenceWarning: lbfgs failed to converge (status=1):\n",
      "STOP: TOTAL NO. of ITERATIONS REACHED LIMIT.\n",
      "\n",
      "Increase the number of iterations (max_iter) or scale the data as shown in:\n",
      "    https://scikit-learn.org/stable/modules/preprocessing.html\n",
      "Please also refer to the documentation for alternative solver options:\n",
      "    https://scikit-learn.org/stable/modules/linear_model.html#logistic-regression\n",
      "  extra_warning_msg=_LOGISTIC_SOLVER_CONVERGENCE_MSG)\n",
      "/Users/hsinger24/Desktop/Programming/anaconda3/lib/python3.7/site-packages/sklearn/linear_model/_logistic.py:940: ConvergenceWarning: lbfgs failed to converge (status=1):\n",
      "STOP: TOTAL NO. of ITERATIONS REACHED LIMIT.\n",
      "\n",
      "Increase the number of iterations (max_iter) or scale the data as shown in:\n",
      "    https://scikit-learn.org/stable/modules/preprocessing.html\n",
      "Please also refer to the documentation for alternative solver options:\n",
      "    https://scikit-learn.org/stable/modules/linear_model.html#logistic-regression\n",
      "  extra_warning_msg=_LOGISTIC_SOLVER_CONVERGENCE_MSG)\n"
     ]
    },
    {
     "name": "stdout",
     "output_type": "stream",
     "text": [
      "Best parameters are: {'C': 0.1}\n",
      "\n",
      "Accuracy is: 0.5487804878048781\n",
      "\n",
      "AUC score is: 0.45701917130488556\n",
      "\n",
      "Classification report:\n",
      "                precision    recall  f1-score   support\n",
      "\n",
      " Lower Ranked       0.59      0.80      0.68        49\n",
      "Higher Ranked       0.38      0.18      0.24        33\n",
      "\n",
      "     accuracy                           0.55        82\n",
      "    macro avg       0.48      0.49      0.46        82\n",
      " weighted avg       0.50      0.55      0.50        82\n",
      "\n"
     ]
    },
    {
     "name": "stderr",
     "output_type": "stream",
     "text": [
      "/Users/hsinger24/Desktop/Programming/anaconda3/lib/python3.7/site-packages/sklearn/linear_model/_logistic.py:940: ConvergenceWarning: lbfgs failed to converge (status=1):\n",
      "STOP: TOTAL NO. of ITERATIONS REACHED LIMIT.\n",
      "\n",
      "Increase the number of iterations (max_iter) or scale the data as shown in:\n",
      "    https://scikit-learn.org/stable/modules/preprocessing.html\n",
      "Please also refer to the documentation for alternative solver options:\n",
      "    https://scikit-learn.org/stable/modules/linear_model.html#logistic-regression\n",
      "  extra_warning_msg=_LOGISTIC_SOLVER_CONVERGENCE_MSG)\n",
      "/Users/hsinger24/Desktop/Programming/anaconda3/lib/python3.7/site-packages/sklearn/linear_model/_logistic.py:940: ConvergenceWarning: lbfgs failed to converge (status=1):\n",
      "STOP: TOTAL NO. of ITERATIONS REACHED LIMIT.\n",
      "\n",
      "Increase the number of iterations (max_iter) or scale the data as shown in:\n",
      "    https://scikit-learn.org/stable/modules/preprocessing.html\n",
      "Please also refer to the documentation for alternative solver options:\n",
      "    https://scikit-learn.org/stable/modules/linear_model.html#logistic-regression\n",
      "  extra_warning_msg=_LOGISTIC_SOLVER_CONVERGENCE_MSG)\n"
     ]
    }
   ],
   "source": [
    "# Creating parameter grid\n",
    "\n",
    "c = [0.001, 0.01, 0.1, 1, 10, 100]\n",
    "param_grid = {\n",
    "    'C' : c\n",
    "}\n",
    "\n",
    "# Running ML function\n",
    "lr = grid_search_classifier(LogisticRegression(random_state = 0, max_iter = 500), param_grid)"
   ]
  },
  {
   "cell_type": "markdown",
   "metadata": {},
   "source": [
    "### SVM"
   ]
  },
  {
   "cell_type": "code",
   "execution_count": 47,
   "metadata": {},
   "outputs": [
    {
     "name": "stdout",
     "output_type": "stream",
     "text": [
      "Best parameters are: {'C': 10, 'degree': 5, 'kernel': 'poly'}\n",
      "\n",
      "Accuracy is: 0.5609756097560976\n",
      "\n",
      "Classification report:\n",
      "                precision    recall  f1-score   support\n",
      "\n",
      " Lower Ranked       0.59      0.84      0.69        49\n",
      "Higher Ranked       0.38      0.15      0.22        33\n",
      "\n",
      "     accuracy                           0.56        82\n",
      "    macro avg       0.49      0.49      0.46        82\n",
      " weighted avg       0.51      0.56      0.50        82\n",
      "\n"
     ]
    }
   ],
   "source": [
    "# Creating parameter grid\n",
    "\n",
    "kernel = ['rbf', 'poly', 'sigmoid']\n",
    "degree = [int(x) for x in np.linspace(start = 2, stop = 7, num = 5)]\n",
    "c = [0.001, 0.01, 0.1, 1, 10, 100]\n",
    "param_grid = {\n",
    "    'C' : c,\n",
    "    'kernel' : kernel,\n",
    "    'degree' : degree\n",
    "}\n",
    "\n",
    "# Running ML function\n",
    "svm = grid_search_classifier(SVC(random_state = 0), param_grid)"
   ]
  },
  {
   "cell_type": "markdown",
   "metadata": {},
   "source": [
    "# Predicting SUB"
   ]
  },
  {
   "cell_type": "code",
   "execution_count": 48,
   "metadata": {},
   "outputs": [],
   "source": [
    "y = data['SUB_OVR']\n",
    "x_train, x_test, y_train, y_test = train_test_split(x, y, test_size = 0.2, random_state = 0)\n",
    "\n",
    "# Formatting data\n",
    "x_train = x_train.values\n",
    "y_train = y_train.values.ravel()\n",
    "x_test = x_test.values\n",
    "y_test = y_test.values.ravel()"
   ]
  },
  {
   "cell_type": "markdown",
   "metadata": {},
   "source": [
    "### Setting Baseline"
   ]
  },
  {
   "cell_type": "code",
   "execution_count": 50,
   "metadata": {},
   "outputs": [
    {
     "name": "stdout",
     "output_type": "stream",
     "text": [
      "Always predicting no sub would yield 80.440097799511% accuracy\n"
     ]
    }
   ],
   "source": [
    "print(f'Always predicting no sub would yield {100 - data.SUB_OVR.mean()*100}% accuracy')"
   ]
  },
  {
   "cell_type": "markdown",
   "metadata": {},
   "source": [
    "### Random Forest"
   ]
  },
  {
   "cell_type": "code",
   "execution_count": 51,
   "metadata": {},
   "outputs": [
    {
     "name": "stdout",
     "output_type": "stream",
     "text": [
      "Best parameters are: {'max_depth': 2, 'max_features': 9, 'n_estimators': 6}\n",
      "\n",
      "Accuracy is: 0.7926829268292683\n",
      "\n",
      "AUC score is: 0.625339366515837\n",
      "\n",
      "Classification report:\n",
      "                precision    recall  f1-score   support\n",
      "\n",
      " Lower Ranked       0.79      1.00      0.88        65\n",
      "Higher Ranked       0.00      0.00      0.00        17\n",
      "\n",
      "     accuracy                           0.79        82\n",
      "    macro avg       0.40      0.50      0.44        82\n",
      " weighted avg       0.63      0.79      0.70        82\n",
      "\n"
     ]
    },
    {
     "name": "stderr",
     "output_type": "stream",
     "text": [
      "/Users/hsinger24/Desktop/Programming/anaconda3/lib/python3.7/site-packages/sklearn/metrics/_classification.py:1272: UndefinedMetricWarning: Precision and F-score are ill-defined and being set to 0.0 in labels with no predicted samples. Use `zero_division` parameter to control this behavior.\n",
      "  _warn_prf(average, modifier, msg_start, len(result))\n"
     ]
    }
   ],
   "source": [
    "# Creating parameter grid\n",
    "n_estimators = [int(x) for x in np.linspace(start = 3, stop = 15, num = 13)]\n",
    "max_features = [int(x) for x in np.linspace(start = 3, stop = 10, num = 8)]\n",
    "max_depth = [int(x) for x in np.linspace(start = 1, stop = 10, num = 10)]\n",
    "param_grid = {\n",
    "    'n_estimators' : n_estimators,\n",
    "    'max_features' : max_features,\n",
    "    'max_depth' : max_depth\n",
    "}\n",
    "\n",
    "# Running ML function\n",
    "rf = grid_search_classifier(RandomForestClassifier(random_state = 0), param_grid)"
   ]
  },
  {
   "cell_type": "markdown",
   "metadata": {},
   "source": [
    "### Gradient Boost"
   ]
  },
  {
   "cell_type": "code",
   "execution_count": 52,
   "metadata": {},
   "outputs": [
    {
     "name": "stdout",
     "output_type": "stream",
     "text": [
      "Best parameters are: {'max_depth': 5, 'max_features': 5, 'n_estimators': 5}\n",
      "\n",
      "Accuracy is: 0.7926829268292683\n",
      "\n",
      "AUC score is: 0.5728506787330316\n",
      "\n",
      "Classification report:\n",
      "                precision    recall  f1-score   support\n",
      "\n",
      " Lower Ranked       0.79      1.00      0.88        65\n",
      "Higher Ranked       0.00      0.00      0.00        17\n",
      "\n",
      "     accuracy                           0.79        82\n",
      "    macro avg       0.40      0.50      0.44        82\n",
      " weighted avg       0.63      0.79      0.70        82\n",
      "\n"
     ]
    },
    {
     "name": "stderr",
     "output_type": "stream",
     "text": [
      "/Users/hsinger24/Desktop/Programming/anaconda3/lib/python3.7/site-packages/sklearn/metrics/_classification.py:1272: UndefinedMetricWarning: Precision and F-score are ill-defined and being set to 0.0 in labels with no predicted samples. Use `zero_division` parameter to control this behavior.\n",
      "  _warn_prf(average, modifier, msg_start, len(result))\n"
     ]
    }
   ],
   "source": [
    "# Creating parameter grid\n",
    "n_estimators = [int(x) for x in np.linspace(start = 3, stop = 15, num = 13)]\n",
    "max_features = [int(x) for x in np.linspace(start = 3, stop = 10, num = 8)]\n",
    "max_depth = [int(x) for x in np.linspace(start = 1, stop = 10, num = 10)]\n",
    "param_grid = {\n",
    "    'n_estimators' : n_estimators,\n",
    "    'max_features' : max_features,\n",
    "    'max_depth' : max_depth\n",
    "}\n",
    "\n",
    "# Running ML function\n",
    "gb = grid_search_classifier(GradientBoostingClassifier(random_state = 0), param_grid)"
   ]
  },
  {
   "cell_type": "markdown",
   "metadata": {},
   "source": [
    "### Logistic Regression"
   ]
  },
  {
   "cell_type": "code",
   "execution_count": 53,
   "metadata": {},
   "outputs": [
    {
     "name": "stderr",
     "output_type": "stream",
     "text": [
      "/Users/hsinger24/Desktop/Programming/anaconda3/lib/python3.7/site-packages/sklearn/linear_model/_logistic.py:940: ConvergenceWarning: lbfgs failed to converge (status=1):\n",
      "STOP: TOTAL NO. of ITERATIONS REACHED LIMIT.\n",
      "\n",
      "Increase the number of iterations (max_iter) or scale the data as shown in:\n",
      "    https://scikit-learn.org/stable/modules/preprocessing.html\n",
      "Please also refer to the documentation for alternative solver options:\n",
      "    https://scikit-learn.org/stable/modules/linear_model.html#logistic-regression\n",
      "  extra_warning_msg=_LOGISTIC_SOLVER_CONVERGENCE_MSG)\n",
      "/Users/hsinger24/Desktop/Programming/anaconda3/lib/python3.7/site-packages/sklearn/linear_model/_logistic.py:940: ConvergenceWarning: lbfgs failed to converge (status=1):\n",
      "STOP: TOTAL NO. of ITERATIONS REACHED LIMIT.\n",
      "\n",
      "Increase the number of iterations (max_iter) or scale the data as shown in:\n",
      "    https://scikit-learn.org/stable/modules/preprocessing.html\n",
      "Please also refer to the documentation for alternative solver options:\n",
      "    https://scikit-learn.org/stable/modules/linear_model.html#logistic-regression\n",
      "  extra_warning_msg=_LOGISTIC_SOLVER_CONVERGENCE_MSG)\n",
      "/Users/hsinger24/Desktop/Programming/anaconda3/lib/python3.7/site-packages/sklearn/linear_model/_logistic.py:940: ConvergenceWarning: lbfgs failed to converge (status=1):\n",
      "STOP: TOTAL NO. of ITERATIONS REACHED LIMIT.\n",
      "\n",
      "Increase the number of iterations (max_iter) or scale the data as shown in:\n",
      "    https://scikit-learn.org/stable/modules/preprocessing.html\n",
      "Please also refer to the documentation for alternative solver options:\n",
      "    https://scikit-learn.org/stable/modules/linear_model.html#logistic-regression\n",
      "  extra_warning_msg=_LOGISTIC_SOLVER_CONVERGENCE_MSG)\n",
      "/Users/hsinger24/Desktop/Programming/anaconda3/lib/python3.7/site-packages/sklearn/linear_model/_logistic.py:940: ConvergenceWarning: lbfgs failed to converge (status=1):\n",
      "STOP: TOTAL NO. of ITERATIONS REACHED LIMIT.\n",
      "\n",
      "Increase the number of iterations (max_iter) or scale the data as shown in:\n",
      "    https://scikit-learn.org/stable/modules/preprocessing.html\n",
      "Please also refer to the documentation for alternative solver options:\n",
      "    https://scikit-learn.org/stable/modules/linear_model.html#logistic-regression\n",
      "  extra_warning_msg=_LOGISTIC_SOLVER_CONVERGENCE_MSG)\n",
      "/Users/hsinger24/Desktop/Programming/anaconda3/lib/python3.7/site-packages/sklearn/linear_model/_logistic.py:940: ConvergenceWarning: lbfgs failed to converge (status=1):\n",
      "STOP: TOTAL NO. of ITERATIONS REACHED LIMIT.\n",
      "\n",
      "Increase the number of iterations (max_iter) or scale the data as shown in:\n",
      "    https://scikit-learn.org/stable/modules/preprocessing.html\n",
      "Please also refer to the documentation for alternative solver options:\n",
      "    https://scikit-learn.org/stable/modules/linear_model.html#logistic-regression\n",
      "  extra_warning_msg=_LOGISTIC_SOLVER_CONVERGENCE_MSG)\n",
      "/Users/hsinger24/Desktop/Programming/anaconda3/lib/python3.7/site-packages/sklearn/linear_model/_logistic.py:940: ConvergenceWarning: lbfgs failed to converge (status=1):\n",
      "STOP: TOTAL NO. of ITERATIONS REACHED LIMIT.\n",
      "\n",
      "Increase the number of iterations (max_iter) or scale the data as shown in:\n",
      "    https://scikit-learn.org/stable/modules/preprocessing.html\n",
      "Please also refer to the documentation for alternative solver options:\n",
      "    https://scikit-learn.org/stable/modules/linear_model.html#logistic-regression\n",
      "  extra_warning_msg=_LOGISTIC_SOLVER_CONVERGENCE_MSG)\n",
      "/Users/hsinger24/Desktop/Programming/anaconda3/lib/python3.7/site-packages/sklearn/linear_model/_logistic.py:940: ConvergenceWarning: lbfgs failed to converge (status=1):\n",
      "STOP: TOTAL NO. of ITERATIONS REACHED LIMIT.\n",
      "\n",
      "Increase the number of iterations (max_iter) or scale the data as shown in:\n",
      "    https://scikit-learn.org/stable/modules/preprocessing.html\n",
      "Please also refer to the documentation for alternative solver options:\n",
      "    https://scikit-learn.org/stable/modules/linear_model.html#logistic-regression\n",
      "  extra_warning_msg=_LOGISTIC_SOLVER_CONVERGENCE_MSG)\n"
     ]
    },
    {
     "name": "stdout",
     "output_type": "stream",
     "text": [
      "Best parameters are: {'C': 0.001}\n",
      "\n",
      "Accuracy is: 0.7926829268292683\n",
      "\n",
      "AUC score is: 0.5285067873303168\n",
      "\n",
      "Classification report:\n",
      "                precision    recall  f1-score   support\n",
      "\n",
      " Lower Ranked       0.79      1.00      0.88        65\n",
      "Higher Ranked       0.00      0.00      0.00        17\n",
      "\n",
      "     accuracy                           0.79        82\n",
      "    macro avg       0.40      0.50      0.44        82\n",
      " weighted avg       0.63      0.79      0.70        82\n",
      "\n"
     ]
    },
    {
     "name": "stderr",
     "output_type": "stream",
     "text": [
      "/Users/hsinger24/Desktop/Programming/anaconda3/lib/python3.7/site-packages/sklearn/metrics/_classification.py:1272: UndefinedMetricWarning: Precision and F-score are ill-defined and being set to 0.0 in labels with no predicted samples. Use `zero_division` parameter to control this behavior.\n",
      "  _warn_prf(average, modifier, msg_start, len(result))\n"
     ]
    }
   ],
   "source": [
    "# Creating parameter grid\n",
    "\n",
    "c = [0.001, 0.01, 0.1, 1, 10, 100]\n",
    "param_grid = {\n",
    "    'C' : c\n",
    "}\n",
    "\n",
    "# Running ML function\n",
    "lr = grid_search_classifier(LogisticRegression(random_state = 0, max_iter = 500), param_grid)"
   ]
  },
  {
   "cell_type": "markdown",
   "metadata": {},
   "source": [
    "### SVM"
   ]
  },
  {
   "cell_type": "code",
   "execution_count": 54,
   "metadata": {},
   "outputs": [
    {
     "name": "stdout",
     "output_type": "stream",
     "text": [
      "Best parameters are: {'C': 0.001, 'degree': 2, 'kernel': 'rbf'}\n",
      "\n",
      "Accuracy is: 0.7926829268292683\n",
      "\n",
      "Classification report:\n",
      "                precision    recall  f1-score   support\n",
      "\n",
      " Lower Ranked       0.79      1.00      0.88        65\n",
      "Higher Ranked       0.00      0.00      0.00        17\n",
      "\n",
      "     accuracy                           0.79        82\n",
      "    macro avg       0.40      0.50      0.44        82\n",
      " weighted avg       0.63      0.79      0.70        82\n",
      "\n"
     ]
    },
    {
     "name": "stderr",
     "output_type": "stream",
     "text": [
      "/Users/hsinger24/Desktop/Programming/anaconda3/lib/python3.7/site-packages/sklearn/metrics/_classification.py:1272: UndefinedMetricWarning: Precision and F-score are ill-defined and being set to 0.0 in labels with no predicted samples. Use `zero_division` parameter to control this behavior.\n",
      "  _warn_prf(average, modifier, msg_start, len(result))\n"
     ]
    }
   ],
   "source": [
    "# Creating parameter grid\n",
    "\n",
    "kernel = ['rbf', 'poly', 'sigmoid']\n",
    "degree = [int(x) for x in np.linspace(start = 2, stop = 7, num = 5)]\n",
    "c = [0.001, 0.01, 0.1, 1, 10, 100]\n",
    "param_grid = {\n",
    "    'C' : c,\n",
    "    'kernel' : kernel,\n",
    "    'degree' : degree\n",
    "}\n",
    "\n",
    "# Running ML function\n",
    "svm = grid_search_classifier(SVC(random_state = 0), param_grid)"
   ]
  },
  {
   "cell_type": "markdown",
   "metadata": {},
   "source": [
    "# Let's Lose Bradley Some Money"
   ]
  },
  {
   "cell_type": "code",
   "execution_count": null,
   "metadata": {},
   "outputs": [],
   "source": []
  }
 ],
 "metadata": {
  "kernelspec": {
   "display_name": "Python 3",
   "language": "python",
   "name": "python3"
  },
  "language_info": {
   "codemirror_mode": {
    "name": "ipython",
    "version": 3
   },
   "file_extension": ".py",
   "mimetype": "text/x-python",
   "name": "python",
   "nbconvert_exporter": "python",
   "pygments_lexer": "ipython3",
   "version": "3.7.6"
  }
 },
 "nbformat": 4,
 "nbformat_minor": 4
}
