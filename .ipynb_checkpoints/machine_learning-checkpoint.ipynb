{
 "cells": [
  {
   "cell_type": "code",
   "execution_count": 1,
   "metadata": {},
   "outputs": [],
   "source": [
    "# Imports\n",
    "import pandas as pd\n",
    "import numpy as np\n",
    "from sklearn.model_selection import train_test_split\n",
    "from sklearn.preprocessing import StandardScaler\n",
    "from keras.models import Sequential\n",
    "from keras.layers import Dense\n",
    "from keras import regularizers\n",
    "import pydot\n",
    "from IPython.display import SVG\n",
    "from keras.utils.vis_utils import model_to_dot"
   ]
  },
  {
   "cell_type": "code",
   "execution_count": 6,
   "metadata": {},
   "outputs": [],
   "source": [
    "data = pd.read_csv('mma_data.csv', index_col=0)\n",
    "\n",
    "# Filtering out unwanted rows\n",
    "data = data[data.result!=-2]\n",
    "data = data[data.slpm_2 + data.sapm_2 != 0]\n",
    "data = data[data.slpm_1 + data.sapm_1 != 0]"
   ]
  },
  {
   "cell_type": "code",
   "execution_count": 7,
   "metadata": {},
   "outputs": [],
   "source": [
    "# Engineering some columns\n",
    "data['reach_diff'] = data.reach_1 - data.reach_2\n",
    "data['age_diff'] = data.age_1 - data.age_2\n",
    "data['slpm_diff'] = data.slpm_1 - data.slpm_2\n",
    "data['sapm_diff'] = data.sapm_1 - data.sapm_2\n",
    "data['td_acc_diff'] = data.td_acc_1 - data.td_acc_2\n",
    "data['td_def_diff'] = data.td_def_1 - data.td_def_2\n",
    "data['td_avg_diff'] = data.td_avg_1 - data.td_avg_2\n",
    "data['sub_avg_diff'] = data.sub_avg_1 - data.sub_avg_2\n",
    "data['strk_acc_diff'] = data.strk_acc_1 - data.strk_acc_2\n",
    "data['strk_def_diff'] = data.strk_def_1 - data.strk_def_2\n",
    "data['wins_diff'] = data.wins_1 - data.wins_2\n",
    "data['losses_diff'] = data.losses_1 - data.losses_2\n",
    "data['win_pct_1'] = data.wins_1/(data.losses_1 + data.wins_1)\n",
    "data['win_pct_2'] = data.wins_2/(data.losses_2 + data.wins_2)\n",
    "data['win_pct_diff'] = data.win_pct_1 - data.win_pct_2\n",
    "\n",
    "# Droping unecessary columnns and scaling data\n",
    "data.drop(['fighter_1', 'fighter_2'], axis = 1, inplace = True)\n",
    "x_cols = ['reach_diff', 'age_diff', 'slpm_diff', 'sapm_diff', 'td_acc_diff', 'td_def_diff',\n",
    "              'td_avg_diff', 'sub_avg_diff', 'strk_acc_diff', 'strk_def_diff', 'wins_diff',\n",
    "              'losses_diff', 'win_pct_diff']\n",
    "y_col = ['result']\n",
    "x, y = data[x_cols], data[y_col]\n",
    "x_train, x_test, y_train, y_test = train_test_split(x, y, test_size = 0.2, random_state = 0)\n",
    "scaler = StandardScaler()\n",
    "x_train_scaled = scaler.fit_transform(x_train)\n",
    "x_test_scaled = scaler.transform(x_test)"
   ]
  },
  {
   "cell_type": "code",
   "execution_count": 8,
   "metadata": {},
   "outputs": [],
   "source": [
    "# Instantiating NN model\n",
    "model = Sequential()\n",
    "model.add(Dense(16, input_dim=x_train_scaled.shape[1],\n",
    "                activation='relu', kernel_regularizer=regularizers.l2(0.01)))\n",
    "model.add(Dense(32, activation='relu', kernel_regularizer=regularizers.l2(0.01)))\n",
    "model.add(Dense(32, activation='relu', kernel_regularizer=regularizers.l2(0.01)))\n",
    "model.add(Dense(16, activation='relu', kernel_regularizer=regularizers.l2(0.01)))\n",
    "model.add(Dense(1, activation='sigmoid'))\n",
    "model.compile(loss='binary_crossentropy', optimizer='Adam', metrics=['accuracy'])"
   ]
  },
  {
   "cell_type": "code",
   "execution_count": 13,
   "metadata": {},
   "outputs": [
    {
     "name": "stdout",
     "output_type": "stream",
     "text": [
      "Test Accuracy = 0.5151515007019043\n"
     ]
    }
   ],
   "source": [
    "model.fit(x=x_train_scaled, y=y_train, epochs=200, batch_size=64, verbose=0)\n",
    "test_results = model.evaluate(x = x_test_scaled, y = y_test, verbose=0)\n",
    "print(\"Test Accuracy = {}\".format(test_results[1]))"
   ]
  },
  {
   "cell_type": "code",
   "execution_count": null,
   "metadata": {},
   "outputs": [],
   "source": []
  }
 ],
 "metadata": {
  "kernelspec": {
   "display_name": "Python 3",
   "language": "python",
   "name": "python3"
  },
  "language_info": {
   "codemirror_mode": {
    "name": "ipython",
    "version": 3
   },
   "file_extension": ".py",
   "mimetype": "text/x-python",
   "name": "python",
   "nbconvert_exporter": "python",
   "pygments_lexer": "ipython3",
   "version": "3.7.6"
  }
 },
 "nbformat": 4,
 "nbformat_minor": 4
}
