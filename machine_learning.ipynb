{
 "cells": [
  {
   "cell_type": "markdown",
   "metadata": {},
   "source": [
    "# Imports"
   ]
  },
  {
   "cell_type": "code",
   "execution_count": 2,
   "metadata": {},
   "outputs": [],
   "source": [
    "import pandas as pd\n",
    "import numpy as np\n",
    "import matplotlib.pyplot as plt\n",
    "\n",
    "# from keras.models import Sequential\n",
    "# from keras.layers import Dense\n",
    "# from keras import regularizers\n",
    "# from keras.utils.vis_utils import model_to_dot\n",
    "\n",
    "from sklearn.model_selection import train_test_split\n",
    "from sklearn.preprocessing import StandardScaler\n",
    "from sklearn.ensemble import RandomForestClassifier\n",
    "from sklearn.ensemble import GradientBoostingClassifier\n",
    "from sklearn.experimental import enable_hist_gradient_boosting\n",
    "from sklearn.ensemble import HistGradientBoostingClassifier\n",
    "from sklearn.model_selection import GridSearchCV\n",
    "from sklearn.metrics import classification_report\n",
    "from sklearn.metrics import matthews_corrcoef\n",
    "from sklearn.linear_model import LogisticRegression\n",
    "from sklearn.svm import SVC\n",
    "from sklearn.metrics import roc_auc_score\n",
    "from sklearn.preprocessing import StandardScaler\n",
    "from sklearn.preprocessing import RobustScaler\n",
    "from sklearn.decomposition import PCA\n",
    "from sklearn.decomposition import KernelPCA\n",
    "from sklearn.discriminant_analysis import LinearDiscriminantAnalysis as LDA\n",
    "\n",
    "# import gym\n",
    "\n",
    "# from stable_baselines3 import PPO\n",
    "# from stable_baselines3 import SAC\n",
    "# from stable_baselines3 import DDPG\n",
    "# from stable_baselines3 import TD3\n",
    "# from stable_baselines3.common.vec_env import DummyVecEnv"
   ]
  },
  {
   "cell_type": "markdown",
   "metadata": {},
   "source": [
    "# Functions"
   ]
  },
  {
   "cell_type": "code",
   "execution_count": 3,
   "metadata": {},
   "outputs": [],
   "source": [
    "def grid_search_classifier(function, param_grid, cv = 10):\n",
    "    # Running Grid Search\n",
    "    grid_search = GridSearchCV(function, param_grid, cv = cv)\n",
    "    grid_search.fit(x_train, y_train)\n",
    "    \n",
    "    # Outputting results\n",
    "    print(f'Best parameters are: {grid_search.best_params_}\\n')\n",
    "    print(f'Accuracy is: {grid_search.score(x_test, y_test)}\\n')\n",
    "    try:\n",
    "        print(f'AUC score is: {roc_auc_score(y_test, grid_search.predict_proba(x_test)[:, 1])}\\n')\n",
    "    except:\n",
    "        pass\n",
    "    best_model = grid_search.best_estimator_\n",
    "    pred_rf = best_model.predict(x_test)\n",
    "    print(f'Classification report:\\n {classification_report(y_test, pred_rf, target_names = [\"Lower Ranked\", \"Higher Ranked\"])}')\n",
    "    print(f'MCC is: {matthews_corrcoef(y_test, pred_rf)}')\n",
    "    \n",
    "    return best_model"
   ]
  },
  {
   "cell_type": "markdown",
   "metadata": {},
   "source": [
    "# Data work"
   ]
  },
  {
   "cell_type": "code",
   "execution_count": 7,
   "metadata": {},
   "outputs": [],
   "source": [
    "data = pd.read_csv('mma_data.csv', index_col=0)\n",
    "\n",
    "# Filtering out unwanted rows\n",
    "data = data[data.result >= 0]\n",
    "data = data[data.slpm_2 + data.sapm_2 != 0]\n",
    "data = data[data.slpm_1 + data.sapm_1 != 0]"
   ]
  },
  {
   "cell_type": "code",
   "execution_count": 8,
   "metadata": {},
   "outputs": [],
   "source": [
    "# Engineering some columns\n",
    "data['reach_diff'] = data.reach_1 - data.reach_2\n",
    "data['age_diff'] = data.age_1 - data.age_2\n",
    "data['slpm_diff'] = data.slpm_1 - data.slpm_2\n",
    "data['sapm_diff'] = data.sapm_1 - data.sapm_2\n",
    "data['td_acc_diff'] = data.td_acc_1 - data.td_acc_2\n",
    "data['td_def_diff'] = data.td_def_1 - data.td_def_2\n",
    "data['td_avg_diff'] = data.td_avg_1 - data.td_avg_2\n",
    "data['sub_avg_diff'] = data.sub_avg_1 - data.sub_avg_2\n",
    "data['strk_acc_diff'] = data.strk_acc_1 - data.strk_acc_2\n",
    "data['strk_def_diff'] = data.strk_def_1 - data.strk_def_2\n",
    "data['wins_diff'] = data.wins_1 - data.wins_2\n",
    "data['losses_diff'] = data.losses_1 - data.losses_2\n",
    "data['win_pct_1'] = data.wins_1/(data.losses_1 + data.wins_1)\n",
    "data['win_pct_2'] = data.wins_2/(data.losses_2 + data.wins_2)\n",
    "data['win_pct_diff'] = data.win_pct_1 - data.win_pct_2\n",
    "\n",
    "# Getting a dataset for only veteran fights\n",
    "data_v2 = data.copy()\n",
    "\n",
    "# Droping unecessary columnns and scaling data\n",
    "data.drop(['fighter_1', 'fighter_2'], axis = 1, inplace = True)\n",
    "x_cols = ['reach_diff', 'age_diff', 'slpm_diff', 'sapm_diff', 'td_acc_diff', 'td_def_diff',\n",
    "              'td_avg_diff', 'sub_avg_diff', 'strk_acc_diff', 'strk_def_diff', 'wins_diff',\n",
    "              'losses_diff', 'win_pct_diff', 'weight_1', 'age_1']\n",
    "y_col = ['result']\n",
    "x, y = data[x_cols], data[y_col]\n",
    "x_train, x_test, y_train, y_test = train_test_split(x, y, test_size = 0.2, random_state = 0, stratify = y)\n",
    "\n",
    "# Formatting data\n",
    "x_train = x_train.values\n",
    "y_train = y_train.values.ravel()\n",
    "x_test = x_test.values\n",
    "y_test = y_test.values.ravel()"
   ]
  },
  {
   "cell_type": "markdown",
   "metadata": {},
   "source": [
    "# Predicting Winner"
   ]
  },
  {
   "cell_type": "markdown",
   "metadata": {},
   "source": [
    "### Setting Baseline"
   ]
  },
  {
   "cell_type": "code",
   "execution_count": 84,
   "metadata": {},
   "outputs": [
    {
     "name": "stdout",
     "output_type": "stream",
     "text": [
      "Predicting fighter 1 would yield 57.57575757575758% accuracy\n",
      "Predicting the fighter with the higher win percentage would yield 56.060606060606055% accuracy\n"
     ]
    }
   ],
   "source": [
    "print(f'Predicting fighter 1 would yield {data.result.mean()*100}% accuracy')\n",
    "\n",
    "df = data.copy()\n",
    "df['Higher_Pct'] = df.win_pct_diff.apply(lambda x: 1 if x > 0 else 0)\n",
    "df['Result_Tracker'] = df.apply(lambda x: 1 if (x.Higher_Pct == 1) & (x.result == 1)\n",
    "                               else 1 if (x.Higher_Pct == 0) & (x.result == 0)\n",
    "                               else 0, axis = 1)\n",
    "print(f'Predicting the fighter with the higher win percentage would yield {df.Result_Tracker.mean()*100}% accuracy')"
   ]
  },
  {
   "cell_type": "markdown",
   "metadata": {},
   "source": [
    "### Neural Network"
   ]
  },
  {
   "cell_type": "code",
   "execution_count": 6,
   "metadata": {},
   "outputs": [],
   "source": [
    "# Scaling data\n",
    "scaler = StandardScaler()\n",
    "x_train_scaled = scaler.fit_transform(x_train)\n",
    "x_test_scaled = scaler.transform(x_test)\n",
    "\n",
    "# Instantiating NN model\n",
    "model = Sequential()\n",
    "model.add(Dense(16, input_dim=x_train_scaled.shape[1],\n",
    "                activation='relu', kernel_regularizer=regularizers.l2(0.01)))\n",
    "model.add(Dense(32, activation='relu', kernel_regularizer=regularizers.l2(0.01)))\n",
    "model.add(Dense(32, activation='relu', kernel_regularizer=regularizers.l2(0.01)))\n",
    "model.add(Dense(16, activation='relu', kernel_regularizer=regularizers.l2(0.01)))\n",
    "model.add(Dense(1, activation='sigmoid'))\n",
    "model.compile(loss='binary_crossentropy', optimizer='Adam', metrics=['accuracy'])"
   ]
  },
  {
   "cell_type": "code",
   "execution_count": 7,
   "metadata": {},
   "outputs": [
    {
     "name": "stdout",
     "output_type": "stream",
     "text": [
      "Test Accuracy = 0.5487805008888245\n"
     ]
    }
   ],
   "source": [
    "model.fit(x=x_train_scaled, y=y_train, epochs=200, batch_size=64, verbose=0)\n",
    "test_results = model.evaluate(x = x_test_scaled, y = y_test, verbose=0)\n",
    "print(\"Test Accuracy = {}\".format(test_results[1]))"
   ]
  },
  {
   "cell_type": "markdown",
   "metadata": {},
   "source": [
    "### Random Forest"
   ]
  },
  {
   "cell_type": "code",
   "execution_count": 15,
   "metadata": {},
   "outputs": [
    {
     "name": "stdout",
     "output_type": "stream",
     "text": [
      "Best parameters are: {'max_depth': 6, 'max_features': 3, 'n_estimators': 11}\n",
      "\n",
      "Accuracy is: 0.6666666666666666\n",
      "\n",
      "AUC score is: 0.731718898385565\n",
      "\n",
      "Classification report:\n",
      "                precision    recall  f1-score   support\n",
      "\n",
      " Lower Ranked       0.62      0.51      0.56        39\n",
      "Higher Ranked       0.69      0.78      0.73        54\n",
      "\n",
      "     accuracy                           0.67        93\n",
      "    macro avg       0.66      0.65      0.65        93\n",
      " weighted avg       0.66      0.67      0.66        93\n",
      "\n",
      "MCC is: 0.3018438502970849\n"
     ]
    }
   ],
   "source": [
    "# Creating parameter grid\n",
    "n_estimators = [int(x) for x in np.linspace(start = 3, stop = 15, num = 13)]\n",
    "max_features = [int(x) for x in np.linspace(start = 3, stop = 10, num = 8)]\n",
    "max_depth = [int(x) for x in np.linspace(start = 1, stop = 10, num = 10)]\n",
    "param_grid = {\n",
    "    'n_estimators' : n_estimators,\n",
    "    'max_features' : max_features,\n",
    "    'max_depth' : max_depth\n",
    "}\n",
    "\n",
    "# Running ML function\n",
    "rf = grid_search_classifier(RandomForestClassifier(random_state = 0, class_weight = 'balanced'), param_grid)"
   ]
  },
  {
   "cell_type": "markdown",
   "metadata": {},
   "source": [
    "### Random Forest - Veteran Fights"
   ]
  },
  {
   "cell_type": "code",
   "execution_count": 12,
   "metadata": {},
   "outputs": [],
   "source": [
    "data_v2 = data.copy()\n",
    "\n",
    "data_v2['Fights_1'] = data.wins_1+data.losses_1\n",
    "data_v2['Fights_2'] = data.wins_2+data.losses_2\n",
    "\n",
    "data_v2 = data_v2[(data_v2.Fights_1 >= 15) | (data_v2.Fights_2 >= 15)]\n",
    "\n",
    "x, y = data_v2[x_cols], data_v2[y_col]\n",
    "x_train, x_test, y_train, y_test = train_test_split(x, y, test_size = 0.2, random_state = 0, stratify = y)\n",
    "\n",
    "# Formatting data\n",
    "x_train = x_train.values\n",
    "y_train = y_train.values.ravel()\n",
    "x_test = x_test.values\n",
    "y_test = y_test.values.ravel()"
   ]
  },
  {
   "cell_type": "code",
   "execution_count": 13,
   "metadata": {},
   "outputs": [
    {
     "name": "stdout",
     "output_type": "stream",
     "text": [
      "Best parameters are: {'max_depth': 3, 'max_features': 3, 'n_estimators': 9}\n",
      "\n",
      "Accuracy is: 0.5542168674698795\n",
      "\n",
      "AUC score is: 0.5585106382978724\n",
      "\n",
      "Classification report:\n",
      "                precision    recall  f1-score   support\n",
      "\n",
      " Lower Ranked       0.48      0.44      0.46        36\n",
      "Higher Ranked       0.60      0.64      0.62        47\n",
      "\n",
      "     accuracy                           0.55        83\n",
      "    macro avg       0.54      0.54      0.54        83\n",
      " weighted avg       0.55      0.55      0.55        83\n",
      "\n",
      "MCC is: 0.08378878333076316\n"
     ]
    }
   ],
   "source": [
    "# Creating parameter grid\n",
    "n_estimators = [int(x) for x in np.linspace(start = 3, stop = 15, num = 13)]\n",
    "max_features = [int(x) for x in np.linspace(start = 3, stop = 10, num = 8)]\n",
    "max_depth = [int(x) for x in np.linspace(start = 1, stop = 10, num = 10)]\n",
    "param_grid = {\n",
    "    'n_estimators' : n_estimators,\n",
    "    'max_features' : max_features,\n",
    "    'max_depth' : max_depth\n",
    "}\n",
    "\n",
    "# Running ML function\n",
    "rf = grid_search_classifier(RandomForestClassifier(random_state = 0, class_weight = 'balanced'), param_grid)"
   ]
  },
  {
   "cell_type": "markdown",
   "metadata": {},
   "source": [
    "### Gradient Boost"
   ]
  },
  {
   "cell_type": "code",
   "execution_count": 10,
   "metadata": {},
   "outputs": [
    {
     "name": "stdout",
     "output_type": "stream",
     "text": [
      "Best parameters are: {'max_depth': 2, 'max_features': 9, 'n_estimators': 13}\n",
      "\n",
      "Accuracy is: 0.6774193548387096\n",
      "\n",
      "AUC score is: 0.7127255460588794\n",
      "\n",
      "Classification report:\n",
      "                precision    recall  f1-score   support\n",
      "\n",
      " Lower Ranked       0.76      0.33      0.46        39\n",
      "Higher Ranked       0.66      0.93      0.77        54\n",
      "\n",
      "     accuracy                           0.68        93\n",
      "    macro avg       0.71      0.63      0.62        93\n",
      " weighted avg       0.70      0.68      0.64        93\n",
      "\n",
      "MCC is: 0.3310032076808502\n"
     ]
    }
   ],
   "source": [
    "# Creating parameter grid\n",
    "n_estimators = [int(x) for x in np.linspace(start = 3, stop = 15, num = 13)]\n",
    "max_features = [int(x) for x in np.linspace(start = 3, stop = 10, num = 8)]\n",
    "max_depth = [int(x) for x in np.linspace(start = 1, stop = 10, num = 10)]\n",
    "param_grid = {\n",
    "    'n_estimators' : n_estimators,\n",
    "    'max_features' : max_features,\n",
    "    'max_depth' : max_depth\n",
    "}\n",
    "\n",
    "# Running ML function\n",
    "gb = grid_search_classifier(GradientBoostingClassifier(random_state = 0), param_grid)"
   ]
  },
  {
   "cell_type": "markdown",
   "metadata": {},
   "source": [
    "### Light GBM"
   ]
  },
  {
   "cell_type": "code",
   "execution_count": 8,
   "metadata": {},
   "outputs": [
    {
     "name": "stdout",
     "output_type": "stream",
     "text": [
      "Best parameters are: {'learning_rate': 0.1, 'max_depth': 5, 'max_iter': 6, 'max_leaf_nodes': 6}\n",
      "\n",
      "Accuracy is: 0.6666666666666666\n",
      "\n",
      "AUC score is: 0.6711775878442545\n",
      "\n",
      "Classification report:\n",
      "                precision    recall  f1-score   support\n",
      "\n",
      " Lower Ranked       0.83      0.26      0.39        39\n",
      "Higher Ranked       0.64      0.96      0.77        54\n",
      "\n",
      "     accuracy                           0.67        93\n",
      "    macro avg       0.74      0.61      0.58        93\n",
      " weighted avg       0.72      0.67      0.61        93\n",
      "\n",
      "MCC is: 0.3229086356634588\n"
     ]
    }
   ],
   "source": [
    "max_iter = [int(x) for x in np.linspace(start = 5, stop = 15, num = 11)]\n",
    "max_leaf_nodes = [int(x) for x in np.linspace(start = 4, stop = 10, num = 7)]\n",
    "max_depth = [int(x) for x in np.linspace(start = 4, stop = 10, num = 7)]\n",
    "learning_rate = [0.001, 0.01, 0.1, 1]\n",
    "param_grid = {\n",
    "    'max_iter' : max_iter,\n",
    "    'max_leaf_nodes' : max_leaf_nodes,\n",
    "    'max_depth' : max_depth,\n",
    "    'learning_rate' : learning_rate\n",
    "}\n",
    "lgbm = grid_search_classifier(HistGradientBoostingClassifier(random_state = 0), param_grid)"
   ]
  },
  {
   "cell_type": "markdown",
   "metadata": {},
   "source": [
    "### Logistic Regression"
   ]
  },
  {
   "cell_type": "code",
   "execution_count": 14,
   "metadata": {},
   "outputs": [
    {
     "name": "stdout",
     "output_type": "stream",
     "text": [
      "Best parameters are: {'C': 0.01}\n",
      "\n",
      "Accuracy is: 0.6344086021505376\n",
      "\n",
      "AUC score is: 0.701329534662868\n",
      "\n",
      "Classification report:\n",
      "                precision    recall  f1-score   support\n",
      "\n",
      " Lower Ranked       0.56      0.64      0.60        39\n",
      "Higher Ranked       0.71      0.63      0.67        54\n",
      "\n",
      "     accuracy                           0.63        93\n",
      "    macro avg       0.63      0.64      0.63        93\n",
      " weighted avg       0.64      0.63      0.64        93\n",
      "\n",
      "MCC is: 0.26725066631374533\n"
     ]
    }
   ],
   "source": [
    "# Scaling data\n",
    "\n",
    "scaler = StandardScaler()\n",
    "# scaler = RobustScaler() -- performs worse\n",
    "x_train = scaler.fit_transform(x_train)\n",
    "x_test = scaler.transform(x_test)\n",
    "\n",
    "# Creating parameter grid\n",
    "\n",
    "c = [0.001, 0.01, 0.1, 1, 10, 100]\n",
    "# penalty = [None, 'l2', 'l1', 'elasticnet'] -- Some penalties can only be used with some solvers. Look at how to\n",
    "                                                # implement more involved parameter grid \n",
    "param_grid = [{\n",
    "    'C' : c\n",
    "}]\n",
    "\n",
    "# Running ML function\n",
    "lr = grid_search_classifier(LogisticRegression(random_state = 0, max_iter = 500, class_weight = 'balanced'), param_grid)"
   ]
  },
  {
   "cell_type": "markdown",
   "metadata": {},
   "source": [
    "### SVM"
   ]
  },
  {
   "cell_type": "code",
   "execution_count": null,
   "metadata": {},
   "outputs": [],
   "source": [
    "# Creating parameter grid\n",
    "\n",
    "kernel = ['rbf', 'poly', 'sigmoid']\n",
    "degree = [int(x) for x in np.linspace(start = 2, stop = 7, num = 5)]\n",
    "c = [0.001, 0.01, 0.1, 1, 10, 100]\n",
    "param_grid = {\n",
    "    'C' : c,\n",
    "    'kernel' : kernel,\n",
    "    'degree' : degree\n",
    "}\n",
    "\n",
    "# Running ML function\n",
    "svm = grid_search_classifier(SVC(random_state = 0), param_grid)"
   ]
  },
  {
   "cell_type": "markdown",
   "metadata": {},
   "source": [
    "# Feature Reduction"
   ]
  },
  {
   "cell_type": "code",
   "execution_count": null,
   "metadata": {},
   "outputs": [],
   "source": [
    "# Try logistic w/ L1 and see what features are left \n"
   ]
  },
  {
   "cell_type": "markdown",
   "metadata": {},
   "source": [
    "## PCA "
   ]
  },
  {
   "cell_type": "markdown",
   "metadata": {},
   "source": [
    "### Exploratory"
   ]
  },
  {
   "cell_type": "code",
   "execution_count": 26,
   "metadata": {},
   "outputs": [],
   "source": [
    "# Scaling data\n",
    "data_scaled = pd.DataFrame(StandardScaler().fit_transform(data), columns = data.columns, index = data.index)\n",
    "\n",
    "# Fitting PCA\n",
    "pca = PCA().fit(data_scaled)\n",
    "\n",
    "# Definining and executing function to get weights\n",
    "def PC_Weights():\n",
    "    weights = pd.DataFrame()\n",
    "    \n",
    "    for i in range(len(pca.components_)):\n",
    "        weights[\"weights_{}\".format(i)] = pca.components_[i] / sum(pca.components_[i])\n",
    "        \n",
    "    weights = weights.values.T\n",
    "    return weights\n",
    "\n",
    "weights = PC_Weights()"
   ]
  },
  {
   "cell_type": "code",
   "execution_count": 33,
   "metadata": {},
   "outputs": [
    {
     "data": {
      "text/plain": [
       "<matplotlib.axes._subplots.AxesSubplot at 0x7fcfebd83890>"
      ]
     },
     "execution_count": 33,
     "metadata": {},
     "output_type": "execute_result"
    },
    {
     "data": {
      "image/png": "[encoded data removed]",
      "text/plain": [
       "<Figure size 432x288 with 1 Axes>"
      ]
     },
     "metadata": {
      "needs_background": "light"
     },
     "output_type": "display_data"
    }
   ],
   "source": [
    "# Explained variance\n",
    "\n",
    "data_dict = {\n",
    "    'Explained Variance' : list(pca.explained_variance_ratio_[:3]),\n",
    "    'Eigen Number' : list(range(3))\n",
    "}\n",
    "df = pd.DataFrame(data_dict)\n",
    "df.plot.barh(title = \"Explained variance\", x = 'Eigen Number', y = 'Explained Variance')"
   ]
  },
  {
   "cell_type": "code",
   "execution_count": 25,
   "metadata": {},
   "outputs": [
    {
     "data": {
      "image/png": "[encoded data removed]",
      "text/plain": [
       "<Figure size 1008x720 with 3 Axes>"
      ]
     },
     "metadata": {
      "needs_background": "light"
     },
     "output_type": "display_data"
    }
   ],
   "source": [
    "# Graphing top Eigenvectors\n",
    "Num_Comps = 3\n",
    "top_eigens = pd.DataFrame(weights[:Num_Comps], columns = data_scaled.columns)\n",
    "top_eigens.index = [f'Principal Component {i}' for i in range(1, Num_Comps + 1)]\n",
    "\n",
    "axes = top_eigens.T.plot.bar(subplots = True, legend = False, figsize = (14, 10))\n",
    "plt.subplots_adjust(hspace = 0.35)"
   ]
  },
  {
   "cell_type": "markdown",
   "metadata": {},
   "source": [
    "### Using as Model Input"
   ]
  },
  {
   "cell_type": "code",
   "execution_count": 46,
   "metadata": {},
   "outputs": [
    {
     "name": "stdout",
     "output_type": "stream",
     "text": [
      "Best parameters are: {'C': 0.001}\n",
      "\n",
      "Accuracy is: 0.41935483870967744\n",
      "\n",
      "AUC score is: 0.6220322886989553\n",
      "\n",
      "Classification report:\n",
      "                precision    recall  f1-score   support\n",
      "\n",
      " Lower Ranked       0.42      1.00      0.59        39\n",
      "Higher Ranked       0.00      0.00      0.00        54\n",
      "\n",
      "     accuracy                           0.42        93\n",
      "    macro avg       0.21      0.50      0.30        93\n",
      " weighted avg       0.18      0.42      0.25        93\n",
      "\n"
     ]
    },
    {
     "name": "stderr",
     "output_type": "stream",
     "text": [
      "/Users/hsinger24/Desktop/Programming/anaconda3/lib/python3.7/site-packages/sklearn/metrics/_classification.py:1272: UndefinedMetricWarning: Precision and F-score are ill-defined and being set to 0.0 in labels with no predicted samples. Use `zero_division` parameter to control this behavior.\n",
      "  _warn_prf(average, modifier, msg_start, len(result))\n"
     ]
    }
   ],
   "source": [
    "# Scaling data\n",
    "\n",
    "scaler = StandardScaler()\n",
    "# scaler = RobustScaler() -- performs worse\n",
    "x_train = scaler.fit_transform(x_train)\n",
    "x_test = scaler.transform(x_test)\n",
    "\n",
    "# Transforming training data using PCA\n",
    "\n",
    "x_train = PCA(n_components = None).fit_transform(x_train)\n",
    "\n",
    "# Creating parameter grid\n",
    "\n",
    "c = [0.001, 0.01, 0.1, 1, 10, 100]\n",
    "# penalty = [None, 'l2', 'l1', 'elasticnet'] -- Some penalties can only be used with some solvers. Look at how to\n",
    "                                                # implement more involved parameter grid \n",
    "param_grid = {\n",
    "    'C' : c\n",
    "}\n",
    "\n",
    "# Running ML function\n",
    "lr = grid_search_classifier(LogisticRegression(random_state = 0, max_iter = 500), param_grid)"
   ]
  },
  {
   "cell_type": "markdown",
   "metadata": {},
   "source": [
    "## LDA"
   ]
  },
  {
   "cell_type": "markdown",
   "metadata": {},
   "source": [
    "# Testing Bet Constructs"
   ]
  },
  {
   "cell_type": "markdown",
   "metadata": {},
   "source": [
    "### Data setup"
   ]
  },
  {
   "cell_type": "code",
   "execution_count": 38,
   "metadata": {},
   "outputs": [],
   "source": [
    "# Importing\n",
    "data = pd.read_csv('mma_data_odds.csv', index_col = 0)\n",
    "\n",
    "# Engineering some columns\n",
    "data['reach_diff'] = data.reach_1 - data.reach_2\n",
    "data['age_diff'] = data.age_1 - data.age_2\n",
    "data['slpm_diff'] = data.slpm_1 - data.slpm_2\n",
    "data['sapm_diff'] = data.sapm_1 - data.sapm_2\n",
    "data['td_acc_diff'] = data.td_acc_1 - data.td_acc_2\n",
    "data['td_def_diff'] = data.td_def_1 - data.td_def_2\n",
    "data['td_avg_diff'] = data.td_avg_1 - data.td_avg_2\n",
    "data['sub_avg_diff'] = data.sub_avg_1 - data.sub_avg_2\n",
    "data['strk_acc_diff'] = data.strk_acc_1 - data.strk_acc_2\n",
    "data['strk_def_diff'] = data.strk_def_1 - data.strk_def_2\n",
    "data['wins_diff'] = data.wins_1 - data.wins_2\n",
    "data['losses_diff'] = data.losses_1 - data.losses_2\n",
    "data['win_pct_1'] = data.wins_1/(data.losses_1 + data.wins_1)\n",
    "data['win_pct_2'] = data.wins_2/(data.losses_2 + data.wins_2)\n",
    "data['win_pct_diff'] = data.win_pct_1 - data.win_pct_2\n",
    "\n",
    "# Splitting data\n",
    "data_train = data.sample(frac = 0.75)\n",
    "data_test = data.drop(data_train.index)\n",
    "\n",
    "# Droping unecessary columnns and scaling data\n",
    "x_cols = ['reach_diff', 'age_diff', 'slpm_diff', 'sapm_diff', 'td_acc_diff', 'td_def_diff',\n",
    "              'td_avg_diff', 'sub_avg_diff', 'strk_acc_diff', 'strk_def_diff', 'wins_diff',\n",
    "              'losses_diff', 'win_pct_diff', 'weight_1', 'age_1']\n",
    "y_col = ['result']\n",
    "x_train, y_train = data_train[x_cols], data_train[y_col]\n",
    "x_test, y_test = data_test[x_cols], data_test[y_col]\n",
    "\n",
    "# Formatting data\n",
    "x_train = x_train.values\n",
    "x_test = x_test.values\n",
    "y_train = y_train.values.ravel()\n",
    "y_test = y_test.values.ravel()"
   ]
  },
  {
   "cell_type": "markdown",
   "metadata": {},
   "source": [
    "### Random Forest Testing"
   ]
  },
  {
   "cell_type": "code",
   "execution_count": 39,
   "metadata": {},
   "outputs": [
    {
     "name": "stdout",
     "output_type": "stream",
     "text": [
      "Best parameters are: {'max_depth': 5, 'max_features': 4, 'n_estimators': 11}\n",
      "\n",
      "Accuracy is: 0.5826086956521739\n",
      "\n",
      "AUC score is: 0.6430303030303031\n",
      "\n",
      "Classification report:\n",
      "                precision    recall  f1-score   support\n",
      "\n",
      " Lower Ranked       0.65      0.27      0.38        55\n",
      "Higher Ranked       0.57      0.87      0.68        60\n",
      "\n",
      "     accuracy                           0.58       115\n",
      "    macro avg       0.61      0.57      0.53       115\n",
      " weighted avg       0.61      0.58      0.54       115\n",
      "\n"
     ]
    }
   ],
   "source": [
    "# Training RF model\n",
    "\n",
    "# Creating parameter grid\n",
    "n_estimators = [int(x) for x in np.linspace(start = 3, stop = 15, num = 13)]\n",
    "max_features = [int(x) for x in np.linspace(start = 3, stop = 10, num = 8)]\n",
    "max_depth = [int(x) for x in np.linspace(start = 1, stop = 10, num = 10)]\n",
    "param_grid = {\n",
    "    'n_estimators' : n_estimators,\n",
    "    'max_features' : max_features,\n",
    "    'max_depth' : max_depth\n",
    "}\n",
    "\n",
    "# Running ML function\n",
    "rf = grid_search_classifier(RandomForestClassifier(random_state = 0), param_grid)"
   ]
  },
  {
   "cell_type": "code",
   "execution_count": 40,
   "metadata": {},
   "outputs": [],
   "source": [
    "# Putting model predictions into the data\n",
    "\n",
    "data_test['Prediction_rf'] = rf.predict(x_test)"
   ]
  },
  {
   "cell_type": "code",
   "execution_count": 41,
   "metadata": {},
   "outputs": [
    {
     "data": {
      "text/plain": [
       "48.06894362749002"
      ]
     },
     "execution_count": 41,
     "metadata": {},
     "output_type": "execute_result"
    }
   ],
   "source": [
    "# Function to create bet size\n",
    "# def rf_bets(row):\n",
    "#     if row.Prediction_rf == 1:\n",
    "#         if (row.Fighter_1_Odds > 100) & (row.Fighter_1_Odds < 150):\n",
    "#             bet = 100\n",
    "#         elif (row.Fighter_1_Odds >= 150) & (row.Fighter_1_Odds < 200):\n",
    "#             bet = 250\n",
    "#         elif (row.Fighter_1_Odds >= 200):\n",
    "#             bet = 500\n",
    "#         elif (row.Fighter_1_Odds <= 100) & (row.Fighter_1_Odds > -150):\n",
    "#             bet = 75\n",
    "#         elif (row.Fighter_1_Odds <= -150) & (row.Fighter_1_Odds > -200):\n",
    "#             bet = 50\n",
    "#         elif (row.Fighter_1_Odds <= -200):\n",
    "#             bet = 25\n",
    "#         else:\n",
    "#             bet = 0\n",
    "#     if row.Prediction_rf == 0:\n",
    "#         if (row.Fighter_2_Odds > 100) & (row.Fighter_2_Odds < 150):\n",
    "#             bet = 100\n",
    "#         elif (row.Fighter_2_Odds >= 150) & (row.Fighter_2_Odds < 200):\n",
    "#             bet = 250\n",
    "#         elif (row.Fighter_2_Odds >= 200):\n",
    "#             bet = 500\n",
    "#         elif (row.Fighter_2_Odds <= 100) & (row.Fighter_2_Odds > -150):\n",
    "#             bet = 75\n",
    "#         elif (row.Fighter_2_Odds <= -150) & (row.Fighter_2_Odds > -200):\n",
    "#             bet = 50\n",
    "#         elif (row.Fighter_2_Odds <= -200):\n",
    "#             bet = 25\n",
    "#         else:\n",
    "#             bet = 0\n",
    "#     return bet\n",
    "\n",
    "def rf_bets(row):\n",
    "    if row.Prediction_rf == 1:\n",
    "        if (row.Fighter_1_Odds > 100) & (row.Fighter_1_Odds <= 200):\n",
    "            bet = 50\n",
    "        elif (row.Fighter_1_Odds > 200):\n",
    "            bet = 25\n",
    "        elif (row.Fighter_1_Odds <= 100) & (row.Fighter_1_Odds >= -200):\n",
    "            bet = 75\n",
    "        elif (row.Fighter_1_Odds < -200):\n",
    "            bet = 100\n",
    "        else:\n",
    "            bet = 0\n",
    "    if row.Prediction_rf == 0:\n",
    "        if (row.Fighter_2_Odds > 100) & (row.Fighter_2_Odds <= 200):\n",
    "            bet = 50\n",
    "        elif (row.Fighter_2_Odds > 200):\n",
    "            bet = 25\n",
    "        elif (row.Fighter_2_Odds <= 100) & (row.Fighter_2_Odds >= -200):\n",
    "            bet = 75\n",
    "        elif (row.Fighter_2_Odds < -200):\n",
    "            bet = 100\n",
    "        else:\n",
    "            bet = 0\n",
    "    return bet\n",
    "\n",
    "def calculate_payoff_and_result(row):\n",
    "    # Calculating Payoff\n",
    "    if row.Prediction_rf == 1:\n",
    "        if row.Fighter_1_Odds>0:\n",
    "            payoff = (row.Fighter_1_Odds/100)*row.Bet\n",
    "        else:\n",
    "            payoff = row.Bet/((abs(row.Fighter_1_Odds)/100))\n",
    "    else:\n",
    "        if row.Fighter_2_Odds>0:\n",
    "            payoff = (row.Fighter_2_Odds/100)*row.Bet\n",
    "        else:\n",
    "            payoff = row.Bet/((abs(row.Fighter_2_Odds)/100))\n",
    "    # Calculating Bet Result\n",
    "    if row.Prediction_rf == row.result:\n",
    "        bet_result = payoff\n",
    "    else:\n",
    "        bet_result = -(row.Bet)\n",
    "    \n",
    "    return bet_result\n",
    "            \n",
    "data_rf = data_test[['fighter_1', 'fighter_2', 'Fighter_1_Odds', 'Fighter_2_Odds', 'Prediction_rf', 'result']].reset_index(drop = True)\n",
    "data_rf['Bet'] = data_rf.apply(rf_bets, axis = 1)\n",
    "# data_rf['Bet'] = 100\n",
    "data_rf['Bet_Result'] = data_rf.apply(calculate_payoff_and_result, axis = 1)\n",
    "\n",
    "data_rf.Bet_Result.sum()"
   ]
  },
  {
   "cell_type": "markdown",
   "metadata": {},
   "source": [
    "### SVM Testing"
   ]
  },
  {
   "cell_type": "code",
   "execution_count": 4,
   "metadata": {},
   "outputs": [
    {
     "name": "stdout",
     "output_type": "stream",
     "text": [
      "Best parameters are: {'C': 100, 'degree': 2, 'kernel': 'sigmoid'}\n",
      "\n",
      "Accuracy is: 0.4956521739130435\n",
      "\n",
      "Classification report:\n",
      "                precision    recall  f1-score   support\n",
      "\n",
      " Lower Ranked       0.38      0.39      0.38        46\n",
      "Higher Ranked       0.58      0.57      0.57        69\n",
      "\n",
      "     accuracy                           0.50       115\n",
      "    macro avg       0.48      0.48      0.48       115\n",
      " weighted avg       0.50      0.50      0.50       115\n",
      "\n"
     ]
    }
   ],
   "source": [
    "# Training SVM model\n",
    "\n",
    "# Creating parameter grid\n",
    "\n",
    "kernel = ['rbf', 'poly', 'sigmoid']\n",
    "degree = [int(x) for x in np.linspace(start = 2, stop = 7, num = 5)]\n",
    "c = [0.001, 0.01, 0.1, 1, 10, 100]\n",
    "param_grid = {\n",
    "    'C' : c,\n",
    "    'kernel' : kernel,\n",
    "    'degree' : degree\n",
    "}\n",
    "\n",
    "# Running ML function\n",
    "svm = grid_search_classifier(SVC(random_state = 0), param_grid)"
   ]
  },
  {
   "cell_type": "code",
   "execution_count": 5,
   "metadata": {},
   "outputs": [],
   "source": [
    "# Putting model predictions into the data\n",
    "\n",
    "data_test['Prediction_rf'] = rf.predict(x_test)"
   ]
  },
  {
   "cell_type": "code",
   "execution_count": 12,
   "metadata": {},
   "outputs": [
    {
     "data": {
      "text/plain": [
       "31.553172675032567"
      ]
     },
     "execution_count": 12,
     "metadata": {},
     "output_type": "execute_result"
    }
   ],
   "source": [
    "# Function to create bet size\n",
    "# def rf_bets(row):\n",
    "#     if row.Prediction_rf == 1:\n",
    "#         if (row.Fighter_1_Odds > 100) & (row.Fighter_1_Odds < 150):\n",
    "#             bet = 100\n",
    "#         elif (row.Fighter_1_Odds >= 150) & (row.Fighter_1_Odds < 200):\n",
    "#             bet = 250\n",
    "#         elif (row.Fighter_1_Odds >= 200):\n",
    "#             bet = 500\n",
    "#         elif (row.Fighter_1_Odds <= 100) & (row.Fighter_1_Odds > -150):\n",
    "#             bet = 75\n",
    "#         elif (row.Fighter_1_Odds <= -150) & (row.Fighter_1_Odds > -200):\n",
    "#             bet = 50\n",
    "#         elif (row.Fighter_1_Odds <= -200):\n",
    "#             bet = 25\n",
    "#         else:\n",
    "#             bet = 0\n",
    "#     if row.Prediction_rf == 0:\n",
    "#         if (row.Fighter_2_Odds > 100) & (row.Fighter_2_Odds < 150):\n",
    "#             bet = 100\n",
    "#         elif (row.Fighter_2_Odds >= 150) & (row.Fighter_2_Odds < 200):\n",
    "#             bet = 250\n",
    "#         elif (row.Fighter_2_Odds >= 200):\n",
    "#             bet = 500\n",
    "#         elif (row.Fighter_2_Odds <= 100) & (row.Fighter_2_Odds > -150):\n",
    "#             bet = 75\n",
    "#         elif (row.Fighter_2_Odds <= -150) & (row.Fighter_2_Odds > -200):\n",
    "#             bet = 50\n",
    "#         elif (row.Fighter_2_Odds <= -200):\n",
    "#             bet = 25\n",
    "#         else:\n",
    "#             bet = 0\n",
    "#     return bet\n",
    "\n",
    "def rf_bets(row):\n",
    "    if row.Prediction_rf == 1:\n",
    "        if (row.Fighter_1_Odds > 100) & (row.Fighter_1_Odds <= 200):\n",
    "            bet = 50\n",
    "        elif (row.Fighter_1_Odds > 200):\n",
    "            bet = 25\n",
    "        elif (row.Fighter_1_Odds <= 100) & (row.Fighter_1_Odds >= -200):\n",
    "            bet = 75\n",
    "        elif (row.Fighter_1_Odds < -200):\n",
    "            bet = 100\n",
    "        else:\n",
    "            bet = 0\n",
    "    if row.Prediction_rf == 0:\n",
    "        if (row.Fighter_2_Odds > 100) & (row.Fighter_2_Odds <= 200):\n",
    "            bet = 50\n",
    "        elif (row.Fighter_2_Odds > 200):\n",
    "            bet = 25\n",
    "        elif (row.Fighter_2_Odds <= 100) & (row.Fighter_2_Odds >= -200):\n",
    "            bet = 75\n",
    "        elif (row.Fighter_2_Odds < -200):\n",
    "            bet = 100\n",
    "        else:\n",
    "            bet = 0\n",
    "    return bet\n",
    "\n",
    "def calculate_payoff_and_result(row):\n",
    "    # Calculating Payoff\n",
    "    if row.Prediction_rf == 1:\n",
    "        if row.Fighter_1_Odds>0:\n",
    "            payoff = (row.Fighter_1_Odds/100)*row.Bet\n",
    "        else:\n",
    "            payoff = row.Bet/((abs(row.Fighter_1_Odds)/100))\n",
    "    else:\n",
    "        if row.Fighter_2_Odds>0:\n",
    "            payoff = (row.Fighter_2_Odds/100)*row.Bet\n",
    "        else:\n",
    "            payoff = row.Bet/((abs(row.Fighter_2_Odds)/100))\n",
    "    # Calculating Bet Result\n",
    "    if row.Prediction_rf == row.result:\n",
    "        bet_result = payoff\n",
    "    else:\n",
    "        bet_result = -(row.Bet)\n",
    "    \n",
    "    return bet_result\n",
    "            \n",
    "data_rf = data_test[['fighter_1', 'fighter_2', 'Fighter_1_Odds', 'Fighter_2_Odds', 'Prediction_rf', 'result']].reset_index(drop = True)\n",
    "data_rf['Bet'] = data_rf.apply(rf_bets, axis = 1)\n",
    "# data_rf['Bet'] = 100\n",
    "data_rf['Bet_Result'] = data_rf.apply(calculate_payoff_and_result, axis = 1)\n",
    "\n",
    "data_rf.Bet_Result.sum()"
   ]
  },
  {
   "cell_type": "markdown",
   "metadata": {},
   "source": [
    "# Reinforcement Learning"
   ]
  },
  {
   "cell_type": "markdown",
   "metadata": {},
   "source": [
    "### Preparing data"
   ]
  },
  {
   "cell_type": "code",
   "execution_count": 62,
   "metadata": {},
   "outputs": [],
   "source": [
    "# Importing\n",
    "data = pd.read_csv('mma_data_odds.csv', index_col = 0)\n",
    "\n",
    "# Engineering some columns\n",
    "data['reach_diff'] = data.reach_1 - data.reach_2\n",
    "data['age_diff'] = data.age_1 - data.age_2\n",
    "data['slpm_diff'] = data.slpm_1 - data.slpm_2\n",
    "data['sapm_diff'] = data.sapm_1 - data.sapm_2\n",
    "data['td_acc_diff'] = data.td_acc_1 - data.td_acc_2\n",
    "data['td_def_diff'] = data.td_def_1 - data.td_def_2\n",
    "data['td_avg_diff'] = data.td_avg_1 - data.td_avg_2\n",
    "data['sub_avg_diff'] = data.sub_avg_1 - data.sub_avg_2\n",
    "data['strk_acc_diff'] = data.strk_acc_1 - data.strk_acc_2\n",
    "data['strk_def_diff'] = data.strk_def_1 - data.strk_def_2\n",
    "data['wins_diff'] = data.wins_1 - data.wins_2\n",
    "data['losses_diff'] = data.losses_1 - data.losses_2\n",
    "data['win_pct_1'] = data.wins_1/(data.losses_1 + data.wins_1)\n",
    "data['win_pct_2'] = data.wins_2/(data.losses_2 + data.wins_2)\n",
    "data['win_pct_diff'] = data.win_pct_1 - data.win_pct_2\n",
    "\n",
    "# Droping unecessary columnns and scaling data\n",
    "x_cols = ['reach_diff', 'age_diff', 'slpm_diff', 'sapm_diff', 'td_acc_diff', 'td_def_diff',\n",
    "              'td_avg_diff', 'sub_avg_diff', 'strk_acc_diff', 'strk_def_diff', 'wins_diff',\n",
    "              'losses_diff', 'win_pct_diff', 'weight_1', 'age_1']\n",
    "x_predict = data[x_cols]\n",
    "\n",
    "# Formatting data\n",
    "x_predict = x_predict.values\n",
    "\n",
    "# Putting model predictions into the data\n",
    "\n",
    "data['Prediction_1_lr'] = lr.predict_proba(x_predict)[:, 0]\n",
    "data['Prediction_2_lr'] = 1.0 - data.Prediction_1_lr\n",
    "data['Prediction_rf'] = rf.predict(x_predict)\n",
    "\n",
    "data.dropna(inplace = True)\n",
    "data = data[(data.Fighter_1_Odds != 0) & (data.Fighter_2_Odds != 0)]\n",
    "data.reset_index(drop = True, inplace = True)\n",
    "\n",
    "# Scaling\n",
    "cols_rf = ['reach_diff', 'age_diff', 'slpm_diff', 'sapm_diff', 'td_acc_diff', 'td_def_diff',\n",
    "              'td_avg_diff', 'sub_avg_diff', 'strk_acc_diff', 'strk_def_diff', 'wins_diff',\n",
    "              'losses_diff', 'win_pct_diff', 'weight_1', 'age_1', 'Prediction_1_lr', 'Prediction_rf']\n",
    "scaler = StandardScaler()\n",
    "data[cols_rf] = scaler.fit_transform(data[cols_rf])"
   ]
  },
  {
   "cell_type": "markdown",
   "metadata": {},
   "source": [
    "### Creating gym environment"
   ]
  },
  {
   "cell_type": "code",
   "execution_count": 70,
   "metadata": {},
   "outputs": [],
   "source": [
    "# Environment\n",
    "\n",
    "class BettingEnv(gym.Env):\n",
    "    \n",
    "    def __init__(self, df, initial_funds):\n",
    "        self.df = df\n",
    "        self.current_step = 0\n",
    "        self.initial_funds = initial_funds\n",
    "        self.current_funds = initial_funds\n",
    "        # Actions of the format Team 1 x%, Team 2 x%, No bet, etc.\n",
    "        self.action_space = gym.spaces.Box(\n",
    "          low=np.array([0, 0]), high=np.array([3, 1]), dtype=np.float32)\n",
    "        self.observation_space = gym.spaces.Box(low=0, high=1, shape=(17,), dtype=np.float32)\n",
    "    \n",
    "    def step(self, action):\n",
    "        self.current_step += 1\n",
    "        action_type = action[0]\n",
    "        action_amount = (action[1] * self.current_funds) / 100.0\n",
    "        \n",
    "        if self.current_step >= len(self.df):\n",
    "            done = True\n",
    "            reward = 0\n",
    "            obs = self.df.loc[len(self.df) - 1, ['reach_diff', 'age_diff', 'slpm_diff', 'sapm_diff', 'td_acc_diff', 'td_def_diff',\n",
    "              'td_avg_diff', 'sub_avg_diff', 'strk_acc_diff', 'strk_def_diff', 'wins_diff',\n",
    "              'losses_diff', 'win_pct_diff', 'weight_1', 'age_1', 'Prediction_1_lr', 'Prediction_rf']].values\n",
    "            \n",
    "        else:\n",
    "            done = False\n",
    "            row = self.df.loc[self.current_step, :]\n",
    "            obs = row[['reach_diff', 'age_diff', 'slpm_diff', 'sapm_diff', 'td_acc_diff', 'td_def_diff',\n",
    "              'td_avg_diff', 'sub_avg_diff', 'strk_acc_diff', 'strk_def_diff', 'wins_diff',\n",
    "              'losses_diff', 'win_pct_diff', 'weight_1', 'age_1', 'Prediction_1_lr', 'Prediction_rf']].values\n",
    "            \n",
    "            if action_type < 1:\n",
    "                # Betting on fighter 1\n",
    "                if row[['Fighter_1_Odds']].values[0] > 0:\n",
    "                    payoff = (row[['Fighter_1_Odds']].values[0]/100)*action_amount\n",
    "                else:\n",
    "                    payoff = action_amount/((abs(row[['Fighter_1_Odds']].values[0])/100))\n",
    "                # Determining reward based on result\n",
    "                if row[['result']].values[0] == 1:\n",
    "                    reward = payoff\n",
    "                else:\n",
    "                    reward = -(action_amount)\n",
    "                \n",
    "            elif action_type < 2:\n",
    "                # Determining payoff (away team)\n",
    "                if row[['Fighter_2_Odds']].values[0] > 0:\n",
    "                    payoff = (row[['Fighter_2_Odds']].values[0]/100)*action_amount\n",
    "                else:\n",
    "                    payoff = action_amount/((abs(row[['Fighter_2_Odds']].values[0])/100))\n",
    "                # Determining reward based on result\n",
    "                if row[['result']].values[0] == 0:\n",
    "                    reward = payoff\n",
    "                else:\n",
    "                    reward = -(action_amount)\n",
    "                \n",
    "            else:\n",
    "                # No bet\n",
    "                reward = 0\n",
    "\n",
    "        self.current_funds += reward\n",
    "        return obs, reward, done, {}\n",
    "    \n",
    "    def reset(self):\n",
    "        self.current_step = 0\n",
    "        self.current_funds = self.initial_funds\n",
    "        return self.df.loc[self.current_step, ['reach_diff', 'age_diff', 'slpm_diff', 'sapm_diff', 'td_acc_diff', 'td_def_diff',\n",
    "              'td_avg_diff', 'sub_avg_diff', 'strk_acc_diff', 'strk_def_diff', 'wins_diff',\n",
    "              'losses_diff', 'win_pct_diff', 'weight_1', 'age_1', 'Prediction_1_lr', 'Prediction_rf']]\n",
    "    \n",
    "    def render(self, mode='human'):\n",
    "        # Render the environment\n",
    "        print(f\"Current funds: {self.current_funds}\")"
   ]
  },
  {
   "cell_type": "markdown",
   "metadata": {},
   "source": [
    "### Trying different models"
   ]
  },
  {
   "cell_type": "code",
   "execution_count": 77,
   "metadata": {},
   "outputs": [],
   "source": [
    "def train_and_test_rl(model):\n",
    "    model.learn(total_timesteps=1000)\n",
    "\n",
    "    for j in range(20):\n",
    "        obs = env.reset()\n",
    "        for i in range(len(data)):\n",
    "            action, _states = model.predict(obs)\n",
    "            obs, rewards, dones, info = env.step(action)\n",
    "            if i == len(data) - 2:\n",
    "                env.render()\n",
    "    return"
   ]
  },
  {
   "cell_type": "code",
   "execution_count": 76,
   "metadata": {},
   "outputs": [
    {
     "name": "stdout",
     "output_type": "stream",
     "text": [
      "Using cpu device\n",
      "-----------------------------\n",
      "| time/              |      |\n",
      "|    fps             | 477  |\n",
      "|    iterations      | 1    |\n",
      "|    time_elapsed    | 4    |\n",
      "|    total_timesteps | 2048 |\n",
      "-----------------------------\n",
      "Current funds: 94959.23544951527\n",
      "Current funds: 73547.55354962728\n",
      "Current funds: 100330.47071089271\n",
      "Current funds: 97649.64771026636\n",
      "Current funds: 91685.89895691535\n",
      "Current funds: 111701.91460993308\n",
      "Current funds: 101182.67984300532\n",
      "Current funds: 86383.46445339256\n",
      "Current funds: 100147.55700585649\n",
      "Current funds: 97945.84951974737\n"
     ]
    }
   ],
   "source": [
    "# PPO\n",
    "\n",
    "env = DummyVecEnv([lambda: BettingEnv(data, 100000)])\n",
    "train_and_test_rl(model = PPO('MlpPolicy', env, verbose=1))"
   ]
  },
  {
   "cell_type": "code",
   "execution_count": 78,
   "metadata": {},
   "outputs": [
    {
     "name": "stdout",
     "output_type": "stream",
     "text": [
      "Using cpu device\n",
      "Current funds: 118150.32694819257\n",
      "Current funds: 116253.66221718209\n",
      "Current funds: 117308.42386324811\n",
      "Current funds: 116646.58873092369\n",
      "Current funds: 117020.48139744469\n",
      "Current funds: 120261.83907827304\n",
      "Current funds: 115619.71923572036\n",
      "Current funds: 120080.49282020312\n",
      "Current funds: 116584.0901979628\n",
      "Current funds: 117693.50351759435\n",
      "Current funds: 119332.54287516556\n",
      "Current funds: 118879.45622875684\n",
      "Current funds: 118683.39988222285\n",
      "Current funds: 119746.77108545882\n",
      "Current funds: 113972.6195630014\n",
      "Current funds: 118981.68741804527\n",
      "Current funds: 119158.29730086312\n",
      "Current funds: 121230.28716353235\n",
      "Current funds: 121610.76322936852\n",
      "Current funds: 116389.71205324001\n"
     ]
    }
   ],
   "source": [
    "# SAC\n",
    "\n",
    "train_and_test_rl(model = SAC('MlpPolicy', env, verbose=1))"
   ]
  }
 ],
 "metadata": {
  "kernelspec": {
   "display_name": "Python 3 (ipykernel)",
   "language": "python",
   "name": "python3"
  },
  "language_info": {
   "codemirror_mode": {
    "name": "ipython",
    "version": 3
   },
   "file_extension": ".py",
   "mimetype": "text/x-python",
   "name": "python",
   "nbconvert_exporter": "python",
   "pygments_lexer": "ipython3",
   "version": "3.9.13"
  }
 },
 "nbformat": 4,
 "nbformat_minor": 4
}
